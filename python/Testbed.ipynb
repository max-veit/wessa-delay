{
 "metadata": {
  "name": ""
 },
 "nbformat": 3,
 "nbformat_minor": 0,
 "worksheets": [
  {
   "cells": [
    {
     "cell_type": "heading",
     "level": 1,
     "metadata": {},
     "source": [
      "Initialization"
     ]
    },
    {
     "cell_type": "code",
     "collapsed": false,
     "input": [
      "%pylab"
     ],
     "language": "python",
     "metadata": {},
     "outputs": [
      {
       "output_type": "stream",
       "stream": "stdout",
       "text": [
        "Using matplotlib backend: Qt4Agg\n",
        "Populating the interactive namespace from numpy and matplotlib\n"
       ]
      }
     ],
     "prompt_number": 1
    },
    {
     "cell_type": "code",
     "collapsed": false,
     "input": [
      "from collections import defaultdict\n",
      "from imp import reload\n",
      "\n",
      "import numpy.fft as fft\n",
      "\n",
      "import ssad\n",
      "import ensemble as we"
     ],
     "language": "python",
     "metadata": {},
     "outputs": [],
     "prompt_number": 2
    },
    {
     "cell_type": "code",
     "collapsed": false,
     "input": [
      "reload(ssad)\n",
      "reload(we)\n",
      "from ssad import Reaction, Trajectory"
     ],
     "language": "python",
     "metadata": {},
     "outputs": [],
     "prompt_number": 3
    },
    {
     "cell_type": "heading",
     "level": 1,
     "metadata": {},
     "source": [
      "Test Cases"
     ]
    },
    {
     "cell_type": "heading",
     "level": 2,
     "metadata": {},
     "source": [
      "Delayed Protein Degradation"
     ]
    },
    {
     "cell_type": "code",
     "collapsed": false,
     "input": [
      "species = ['X']"
     ],
     "language": "python",
     "metadata": {},
     "outputs": [],
     "prompt_number": 4
    },
    {
     "cell_type": "code",
     "collapsed": false,
     "input": [
      "rxns = [Reaction([0], [+1], 100),\n",
      "        Reaction([1], [-1], 3),\n",
      "        Reaction([1], [-1], 5, delay=20.0)]"
     ],
     "language": "python",
     "metadata": {},
     "outputs": [],
     "prompt_number": 7
    },
    {
     "cell_type": "code",
     "collapsed": false,
     "input": [
      "# Calculate the expected equilibrium value\n",
      "rxns[0].propensity_const / (rxns[1].propensity_const)"
     ],
     "language": "python",
     "metadata": {},
     "outputs": [
      {
       "metadata": {},
       "output_type": "pyout",
       "prompt_number": 8,
       "text": [
        "33.333333333333336"
       ]
      }
     ],
     "prompt_number": 8
    },
    {
     "cell_type": "code",
     "collapsed": false,
     "input": [
      "for rxn in rxns:\n",
      "    print(rxn.calc_propensity([100]))"
     ],
     "language": "python",
     "metadata": {},
     "outputs": [
      {
       "output_type": "stream",
       "stream": "stdout",
       "text": [
        "100\n",
        "300\n",
        "500\n"
       ]
      }
     ],
     "prompt_number": 9
    },
    {
     "cell_type": "code",
     "collapsed": false,
     "input": [
      "# The starting state can be chosen either to induce oscillations or to remain at equilibrium.\n",
      "trj = Trajectory([0], rxns)"
     ],
     "language": "python",
     "metadata": {},
     "outputs": [],
     "prompt_number": 10
    },
    {
     "cell_type": "code",
     "collapsed": false,
     "input": [
      "trj.run_dynamics(400, 1e5)"
     ],
     "language": "python",
     "metadata": {},
     "outputs": [],
     "prompt_number": 11
    },
    {
     "cell_type": "code",
     "collapsed": false,
     "input": [
      "for rxn in rxns:\n",
      "    print(\"Number of times run: \" + str(trj.rxn_tallies[rxn]) + \".\\t\" +\n",
      "          \"Number of rejections: \" + str(trj.reject_tallies[rxn]))"
     ],
     "language": "python",
     "metadata": {},
     "outputs": [
      {
       "output_type": "stream",
       "stream": "stdout",
       "text": [
        "Number of times run: 45336.\tNumber of rejections: 0\n",
        "Number of times run: 19417.\tNumber of rejections: 0\n",
        "Number of times run: 25911.\tNumber of rejections: 13794\n"
       ]
      }
     ],
     "prompt_number": 12
    },
    {
     "cell_type": "code",
     "collapsed": false,
     "input": [
      "times = np.array(trj.hist_times)\n",
      "states = np.array(trj.hist_states)"
     ],
     "language": "python",
     "metadata": {},
     "outputs": [],
     "prompt_number": 13
    },
    {
     "cell_type": "code",
     "collapsed": false,
     "input": [
      "plot(times, states[:,0])"
     ],
     "language": "python",
     "metadata": {},
     "outputs": [
      {
       "metadata": {},
       "output_type": "pyout",
       "prompt_number": 14,
       "text": [
        "[<matplotlib.lines.Line2D at 0x7f197b0b0f50>]"
       ]
      }
     ],
     "prompt_number": 14
    },
    {
     "cell_type": "code",
     "collapsed": false,
     "input": [
      "n_samples = 2**11\n",
      "max_freq_num = int(n_samples / 2)"
     ],
     "language": "python",
     "metadata": {},
     "outputs": [],
     "prompt_number": 15
    },
    {
     "cell_type": "code",
     "collapsed": false,
     "input": [
      "s_times = np.linspace(0, 200, n_samples)\n",
      "s_states = trj.sample_state_seq(s_times)"
     ],
     "language": "python",
     "metadata": {},
     "outputs": [],
     "prompt_number": 16
    },
    {
     "cell_type": "code",
     "collapsed": false,
     "input": [
      "amp_spec = fft.rfft(s_states, axis=1)\n",
      "freqs = fft.fftfreq(s_times.size, d=(s_times[-1] - s_times[0])/n_samples)"
     ],
     "language": "python",
     "metadata": {},
     "outputs": [],
     "prompt_number": 17
    },
    {
     "cell_type": "code",
     "collapsed": false,
     "input": [
      "plot(freqs[:max_freq_num], np.abs(amp_spec[0,:-1])**2)"
     ],
     "language": "python",
     "metadata": {},
     "outputs": [
      {
       "metadata": {},
       "output_type": "pyout",
       "prompt_number": 18,
       "text": [
        "[<matplotlib.lines.Line2D at 0x7f197b1b28d0>]"
       ]
      }
     ],
     "prompt_number": 18
    },
    {
     "cell_type": "heading",
     "level": 2,
     "metadata": {},
     "source": [
      "Two-Reaction Toy Model"
     ]
    },
    {
     "cell_type": "code",
     "collapsed": false,
     "input": [
      "species = ['X']\n",
      "rxns = [ssad.Reaction([1], [-1], 1),  # Production\n",
      "        ssad.Reaction([0], [+1], 25)] # Degradation"
     ],
     "language": "python",
     "metadata": {},
     "outputs": [],
     "prompt_number": 19
    },
    {
     "cell_type": "code",
     "collapsed": false,
     "input": [
      "trj = Trajectory([50, 50], rxns)"
     ],
     "language": "python",
     "metadata": {},
     "outputs": [],
     "prompt_number": 20
    },
    {
     "cell_type": "code",
     "collapsed": false,
     "input": [
      "trj.run_dynamics(50, 1e5)"
     ],
     "language": "python",
     "metadata": {},
     "outputs": [],
     "prompt_number": 21
    },
    {
     "cell_type": "code",
     "collapsed": false,
     "input": [
      "trj.rxn_counter"
     ],
     "language": "python",
     "metadata": {},
     "outputs": [
      {
       "metadata": {},
       "output_type": "pyout",
       "prompt_number": 22,
       "text": [
        "2462"
       ]
      }
     ],
     "prompt_number": 22
    },
    {
     "cell_type": "code",
     "collapsed": false,
     "input": [
      "times = array(trj.hist_times)\n",
      "states = array(trj.hist_states)"
     ],
     "language": "python",
     "metadata": {},
     "outputs": [],
     "prompt_number": 23
    },
    {
     "cell_type": "code",
     "collapsed": false,
     "input": [
      "plot(times, states[:,0])"
     ],
     "language": "python",
     "metadata": {},
     "outputs": [
      {
       "metadata": {},
       "output_type": "pyout",
       "prompt_number": 24,
       "text": [
        "[<matplotlib.lines.Line2D at 0x7f197b19c0d0>]"
       ]
      }
     ],
     "prompt_number": 24
    },
    {
     "cell_type": "markdown",
     "metadata": {},
     "source": [
      "Now try it with a weighted ensemble."
     ]
    },
    {
     "cell_type": "code",
     "collapsed": false,
     "input": [
      "paving = we.UniformPaving([0], [50], 25)\n",
      "init_trjs = []\n",
      "for idx in range(50):\n",
      "    init_trjs.append(we.WeightedTrajectory([idx], rxns, 1/50))\n",
      "ens = we.Ensemble(10, paving, (5, 10), init_trjs)"
     ],
     "language": "python",
     "metadata": {},
     "outputs": [],
     "prompt_number": 25
    },
    {
     "cell_type": "code",
     "collapsed": false,
     "input": [
      "%prun ens.run_time(100)"
     ],
     "language": "python",
     "metadata": {},
     "outputs": [
      {
       "output_type": "stream",
       "stream": "stdout",
       "text": [
        " "
       ]
      }
     ],
     "prompt_number": 40
    },
    {
     "cell_type": "code",
     "collapsed": false,
     "input": [
      "states_sample = []\n",
      "for trj in ens:\n",
      "    states_sample.append(trj.state)"
     ],
     "language": "python",
     "metadata": {},
     "outputs": [],
     "prompt_number": 33
    },
    {
     "cell_type": "markdown",
     "metadata": {},
     "source": [
      "The ensemble doesn't seem to be replicating any trajectories."
     ]
    },
    {
     "cell_type": "heading",
     "level": 2,
     "metadata": {},
     "source": [
      "Bistable Schl\u00f6gl System"
     ]
    },
    {
     "cell_type": "code",
     "collapsed": false,
     "input": [
      "species = ['X', 'A', 'B']\n",
      "rxn1 = Reaction([2, 1, 0], [+1, -1, 0], 3.0E-7)\n",
      "rxn2 = Reaction([0, 0, 1], [+1, 0, -1], 1.0E-3)\n",
      "rxns = [rxn1, rxn1.get_reverse_rxn(1.0E-4), rxn2, rxn2.get_reverse_rxn(3.5)]"
     ],
     "language": "python",
     "metadata": {},
     "outputs": [],
     "prompt_number": 46
    },
    {
     "cell_type": "heading",
     "level": 1,
     "metadata": {},
     "source": [
      "Simple (Verification) Test Cases"
     ]
    },
    {
     "cell_type": "heading",
     "level": 2,
     "metadata": {},
     "source": [
      "Constant-Rate Production"
     ]
    },
    {
     "cell_type": "code",
     "collapsed": false,
     "input": [
      "rxns = [Reaction([], [0], [+1], 10)]\n",
      "trjs = []\n",
      "ntrjs = 200\n",
      "for tidx in range(ntrjs):\n",
      "    trjs.append(Trajectory([0], rxns, weight=1/30))"
     ],
     "language": "python",
     "metadata": {},
     "outputs": [],
     "prompt_number": 25
    },
    {
     "cell_type": "code",
     "collapsed": false,
     "input": [
      "for trj in trjs:\n",
      "    trj.run_dynamics(200)"
     ],
     "language": "python",
     "metadata": {},
     "outputs": [],
     "prompt_number": 26
    },
    {
     "cell_type": "code",
     "collapsed": false,
     "input": [
      "weights = np.empty((ntrjs))\n",
      "states = np.empty((ntrjs, 1))"
     ],
     "language": "python",
     "metadata": {},
     "outputs": [],
     "prompt_number": 27
    },
    {
     "cell_type": "code",
     "collapsed": false,
     "input": [
      "for tidx, trj in enumerate(trjs):\n",
      "    weights[tidx] = trj.weight\n",
      "    states[tidx,:] = trj.state"
     ],
     "language": "python",
     "metadata": {},
     "outputs": [],
     "prompt_number": 28
    },
    {
     "cell_type": "code",
     "collapsed": false,
     "input": [
      "hist(states)"
     ],
     "language": "python",
     "metadata": {},
     "outputs": [
      {
       "metadata": {},
       "output_type": "pyout",
       "prompt_number": 29,
       "text": [
        "(array([  2.,   3.,  10.,  21.,  41.,  42.,  39.,  29.,  11.,   2.]),\n",
        " array([ 1858.,  1883.,  1908.,  1933.,  1958.,  1983.,  2008.,  2033.,\n",
        "        2058.,  2083.,  2108.]),\n",
        " <a list of 10 Patch objects>)"
       ]
      }
     ],
     "prompt_number": 29
    },
    {
     "cell_type": "heading",
     "level": 3,
     "metadata": {},
     "source": [
      "With multiple species"
     ]
    },
    {
     "cell_type": "code",
     "collapsed": false,
     "input": [
      "rxns = [Reaction([], [0], [+1, 0], 10),\n",
      "        Reaction([], [1], [0, +1], 5)]\n",
      "trjs = []\n",
      "ntrjs = 200\n",
      "for tidx in range(ntrjs):\n",
      "    trjs.append(Trajectory([0], rxns, weight=1/ntrjs))"
     ],
     "language": "python",
     "metadata": {},
     "outputs": [],
     "prompt_number": 30
    },
    {
     "cell_type": "code",
     "collapsed": false,
     "input": [
      "weights2 = np.empty((ntrjs))\n",
      "states2 = np.empty((ntrjs, 2))"
     ],
     "language": "python",
     "metadata": {},
     "outputs": [],
     "prompt_number": 31
    },
    {
     "cell_type": "code",
     "collapsed": false,
     "input": [
      "for tidx, trj in enumerate(trjs):\n",
      "    trj.run_dynamics(200)\n",
      "    weights2[tidx] = trj.weight\n",
      "    states2[tidx,:] = trj.state"
     ],
     "language": "python",
     "metadata": {},
     "outputs": [],
     "prompt_number": 32
    },
    {
     "cell_type": "code",
     "collapsed": false,
     "input": [
      "hist(states2[:,1])"
     ],
     "language": "python",
     "metadata": {},
     "outputs": [
      {
       "metadata": {},
       "output_type": "pyout",
       "prompt_number": 34,
       "text": [
        "(array([  1.,   4.,  10.,  22.,  30.,  61.,  35.,  25.,   9.,   3.]),\n",
        " array([  901. ,   918.9,   936.8,   954.7,   972.6,   990.5,  1008.4,\n",
        "        1026.3,  1044.2,  1062.1,  1080. ]),\n",
        " <a list of 10 Patch objects>)"
       ]
      }
     ],
     "prompt_number": 34
    },
    {
     "cell_type": "heading",
     "level": 2,
     "metadata": {},
     "source": [
      "Production-Degradation Equilibrium (non-delayed)"
     ]
    },
    {
     "cell_type": "code",
     "collapsed": false,
     "input": [
      "rxns = [Reaction([0], [+1], 25),\n",
      "        Reaction([1], [-1], 1)]\n",
      "numbins = 50\n",
      "paving = we.UniformPaving([0], [numbins], numbins)\n",
      "bin_centers = np.array(range(50)) + 0.5\n",
      "init_trjs = []\n",
      "for istate in range(numbins):\n",
      "    init_trjs.append(we.WeightedTrajectory([istate], rxns, 1.0/numbins))"
     ],
     "language": "python",
     "metadata": {},
     "outputs": [],
     "prompt_number": 13
    },
    {
     "cell_type": "markdown",
     "metadata": {},
     "source": [
      "Make a trajectory list for plain parallel use."
     ]
    },
    {
     "cell_type": "code",
     "collapsed": false,
     "input": [
      "ens_norwt = we.Ensemble(100, paving, (100, 100), init_trjs)\n",
      "ens_norwt._resample()"
     ],
     "language": "python",
     "metadata": {},
     "outputs": [],
     "prompt_number": 17
    },
    {
     "cell_type": "code",
     "collapsed": false,
     "input": [
      "ens = we.Ensemble(2, paving, (10, 15), init_trjs)"
     ],
     "language": "python",
     "metadata": {},
     "outputs": [],
     "prompt_number": 18
    },
    {
     "cell_type": "code",
     "collapsed": false,
     "input": [
      "%prun ens.run_time(100)"
     ],
     "language": "python",
     "metadata": {},
     "outputs": [
      {
       "output_type": "stream",
       "stream": "stdout",
       "text": [
        " "
       ]
      }
     ],
     "prompt_number": 20
    },
    {
     "cell_type": "code",
     "collapsed": false,
     "input": [
      "pdist_rwt = np.zeros((50))\n",
      "for bin_id, trjs in ens.bins.items():\n",
      "    pdist_rwt[bin_id] = sum(trj.weight for trj in trjs)"
     ],
     "language": "python",
     "metadata": {},
     "outputs": [],
     "prompt_number": 29
    },
    {
     "cell_type": "code",
     "collapsed": false,
     "input": [
      "bar(bin_centers, pdist_rwt)"
     ],
     "language": "python",
     "metadata": {},
     "outputs": [
      {
       "metadata": {},
       "output_type": "pyout",
       "prompt_number": 31,
       "text": [
        "<Container object of 50 artists>"
       ]
      }
     ],
     "prompt_number": 31
    },
    {
     "cell_type": "code",
     "collapsed": false,
     "input": [
      "sum(pdist_rwt)"
     ],
     "language": "python",
     "metadata": {},
     "outputs": [
      {
       "metadata": {},
       "output_type": "pyout",
       "prompt_number": 32,
       "text": [
        "5.5079951475818245e-05"
       ]
      }
     ],
     "prompt_number": 32
    },
    {
     "cell_type": "code",
     "collapsed": false,
     "input": [
      "while ens_norwt.time < 100:\n",
      "    ens_norwt._run_dynamics_all()"
     ],
     "language": "python",
     "metadata": {},
     "outputs": []
    },
    {
     "cell_type": "code",
     "collapsed": false,
     "input": [
      "times = np.asarray(trj.hist_times)\n",
      "states = np.asarray(trj.hist_states)"
     ],
     "language": "python",
     "metadata": {},
     "outputs": [],
     "prompt_number": 19
    },
    {
     "cell_type": "code",
     "collapsed": false,
     "input": [
      "step(times, states[:,0], where='post')"
     ],
     "language": "python",
     "metadata": {},
     "outputs": [
      {
       "metadata": {},
       "output_type": "pyout",
       "prompt_number": 27,
       "text": [
        "[<matplotlib.lines.Line2D at 0x7fc83cc362d0>]"
       ]
      }
     ],
     "prompt_number": 27
    },
    {
     "cell_type": "heading",
     "level": 2,
     "metadata": {},
     "source": [
      "Basic Testing of Sampling (and delays)"
     ]
    },
    {
     "cell_type": "code",
     "collapsed": false,
     "input": [
      "rxns = [ssad.Reaction([], [0], np.array([+1]), 100),\n",
      "        ssad.Reaction([0], [], np.array([-1]), 4.1),\n",
      "        ssad.Reaction([0], [], np.array([-1]), 10, delay=20.0)]"
     ],
     "language": "python",
     "metadata": {},
     "outputs": [],
     "prompt_number": 4
    },
    {
     "cell_type": "code",
     "collapsed": false,
     "input": [
      "trj = Trajectory([20], rxns)"
     ],
     "language": "python",
     "metadata": {},
     "outputs": [],
     "prompt_number": 5
    },
    {
     "cell_type": "code",
     "collapsed": false,
     "input": [
      "trj.sample_state(-20, use_init_state=True)"
     ],
     "language": "python",
     "metadata": {},
     "outputs": [
      {
       "metadata": {},
       "output_type": "pyout",
       "prompt_number": 7,
       "text": [
        "array([20])"
       ]
      }
     ],
     "prompt_number": 7
    },
    {
     "cell_type": "code",
     "collapsed": false,
     "input": [
      "nsamples = int(1e5)\n",
      "rxn_tallies = defaultdict(lambda: 0)\n",
      "time_stats = defaultdict(lambda: [])\n",
      "for snum in range(nsamples):\n",
      "    rxn, time = trj._sample_next_reaction()\n",
      "    rxn_tallies[rxn] += 1\n",
      "    time_stats[rxn].append(time)"
     ],
     "language": "python",
     "metadata": {},
     "outputs": [],
     "prompt_number": 8
    },
    {
     "cell_type": "code",
     "collapsed": false,
     "input": [
      "for rxn in rxns:\n",
      "    print(rxn_tallies[rxn])"
     ],
     "language": "python",
     "metadata": {},
     "outputs": [
      {
       "output_type": "stream",
       "stream": "stdout",
       "text": [
        "26089\n",
        "21523\n",
        "52388\n"
       ]
      }
     ],
     "prompt_number": 9
    },
    {
     "cell_type": "code",
     "collapsed": false,
     "input": [
      "for rxn in rxns:\n",
      "    print(rxn.calc_propensity([20]))"
     ],
     "language": "python",
     "metadata": {},
     "outputs": [
      {
       "output_type": "stream",
       "stream": "stdout",
       "text": [
        "100\n",
        "82.0\n",
        "200\n"
       ]
      }
     ],
     "prompt_number": 10
    },
    {
     "cell_type": "code",
     "collapsed": false,
     "input": [
      "trj._sample_next_reaction()"
     ],
     "language": "python",
     "metadata": {},
     "outputs": [
      {
       "metadata": {},
       "output_type": "pyout",
       "prompt_number": 11,
       "text": [
        "(<ssad.Reaction at 0x7f50ebc30e10>, 0.0048390630909463375)"
       ]
      }
     ],
     "prompt_number": 11
    },
    {
     "cell_type": "code",
     "collapsed": false,
     "input": [],
     "language": "python",
     "metadata": {},
     "outputs": []
    }
   ],
   "metadata": {}
  }
 ]
}