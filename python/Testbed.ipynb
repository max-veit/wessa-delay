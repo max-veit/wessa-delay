{
 "metadata": {
  "name": ""
 },
 "nbformat": 3,
 "nbformat_minor": 0,
 "worksheets": [
  {
   "cells": [
    {
     "cell_type": "heading",
     "level": 1,
     "metadata": {},
     "source": [
      "Initialization"
     ]
    },
    {
     "cell_type": "code",
     "collapsed": false,
     "input": [
      "%pylab"
     ],
     "language": "python",
     "metadata": {},
     "outputs": [
      {
       "output_type": "stream",
       "stream": "stdout",
       "text": [
        "Using matplotlib backend: Qt4Agg\n",
        "Populating the interactive namespace from numpy and matplotlib\n"
       ]
      }
     ],
     "prompt_number": 1
    },
    {
     "cell_type": "code",
     "collapsed": false,
     "input": [
      "from collections import defaultdict\n",
      "from imp import reload\n",
      "\n",
      "import numpy.fft as fft\n",
      "\n",
      "import ssad"
     ],
     "language": "python",
     "metadata": {},
     "outputs": [],
     "prompt_number": 2
    },
    {
     "cell_type": "code",
     "collapsed": false,
     "input": [
      "reload(ssad)\n",
      "from ssad import Reaction, Trajectory"
     ],
     "language": "python",
     "metadata": {},
     "outputs": [],
     "prompt_number": 3
    },
    {
     "cell_type": "heading",
     "level": 1,
     "metadata": {},
     "source": [
      "Test Cases"
     ]
    },
    {
     "cell_type": "heading",
     "level": 2,
     "metadata": {},
     "source": [
      "Delayed Protein Degradation"
     ]
    },
    {
     "cell_type": "code",
     "collapsed": false,
     "input": [
      "species = ['X']"
     ],
     "language": "python",
     "metadata": {},
     "outputs": [],
     "prompt_number": 4
    },
    {
     "cell_type": "code",
     "collapsed": false,
     "input": [
      "rxns = [Reaction([], [0], np.array([+1]), 100),\n",
      "        Reaction([0], [], np.array([-1]), 3),\n",
      "        Reaction([0], [], np.array([-1]), 5, delay=20.0)]"
     ],
     "language": "python",
     "metadata": {},
     "outputs": [],
     "prompt_number": 68
    },
    {
     "cell_type": "code",
     "collapsed": false,
     "input": [
      "# Calculate the expected equilibrium value\n",
      "rxns[0].propensity_const / (rxns[1].propensity_const)"
     ],
     "language": "python",
     "metadata": {},
     "outputs": [
      {
       "metadata": {},
       "output_type": "pyout",
       "prompt_number": 55,
       "text": [
        "24.390243902439025"
       ]
      }
     ],
     "prompt_number": 55
    },
    {
     "cell_type": "code",
     "collapsed": false,
     "input": [
      "for rxn in rxns:\n",
      "    print(rxn.calc_propensity([100]))"
     ],
     "language": "python",
     "metadata": {},
     "outputs": [
      {
       "output_type": "stream",
       "stream": "stdout",
       "text": [
        "100\n",
        "409.99999999999994\n",
        "400\n"
       ]
      }
     ],
     "prompt_number": 31
    },
    {
     "cell_type": "code",
     "collapsed": false,
     "input": [
      "# The starting state can be chosen either to induce oscillations or to remain at equilibrium.\n",
      "trj = Trajectory([0], rxns)"
     ],
     "language": "python",
     "metadata": {},
     "outputs": [],
     "prompt_number": 69
    },
    {
     "cell_type": "code",
     "collapsed": false,
     "input": [
      "trj.run_dynamics(400, 1e5)"
     ],
     "language": "python",
     "metadata": {},
     "outputs": [],
     "prompt_number": 74
    },
    {
     "cell_type": "code",
     "collapsed": false,
     "input": [
      "for rxn in rxns:\n",
      "    print(\"Number of times run: \" + str(trj.rxn_tallies[rxn]) + \".\\t\" +\n",
      "          \"Number of rejections: \" + str(trj.reject_tallies[rxn]))"
     ],
     "language": "python",
     "metadata": {},
     "outputs": [
      {
       "output_type": "stream",
       "stream": "stdout",
       "text": [
        "Number of times run: 45018.\tNumber of rejections: 0\n",
        "Number of times run: 19338.\tNumber of rejections: 0\n",
        "Number of times run: 25679.\tNumber of rejections: 13439\n"
       ]
      }
     ],
     "prompt_number": 71
    },
    {
     "cell_type": "code",
     "collapsed": false,
     "input": [
      "times = np.array(trj.hist_times)\n",
      "states = np.array(trj.hist_states)"
     ],
     "language": "python",
     "metadata": {},
     "outputs": [],
     "prompt_number": 75
    },
    {
     "cell_type": "code",
     "collapsed": false,
     "input": [
      "plot(times, states[:,0])"
     ],
     "language": "python",
     "metadata": {},
     "outputs": [
      {
       "metadata": {},
       "output_type": "pyout",
       "prompt_number": 76,
       "text": [
        "[<matplotlib.lines.Line2D at 0x7fc83a500b50>]"
       ]
      }
     ],
     "prompt_number": 76
    },
    {
     "cell_type": "code",
     "collapsed": false,
     "input": [
      "n_samples = 2**11\n",
      "max_freq_num = int(n_samples / 2)"
     ],
     "language": "python",
     "metadata": {},
     "outputs": [],
     "prompt_number": 81
    },
    {
     "cell_type": "code",
     "collapsed": false,
     "input": [
      "s_times = np.linspace(0, 200, n_samples)\n",
      "s_states = trj.sample_state_seq(s_times)"
     ],
     "language": "python",
     "metadata": {},
     "outputs": [],
     "prompt_number": 82
    },
    {
     "cell_type": "code",
     "collapsed": false,
     "input": [
      "amp_spec = fft.rfft(s_states, axis=1)\n",
      "freqs = fft.fftfreq(s_times.size, d=(s_times[-1] - s_times[0])/n_samples)"
     ],
     "language": "python",
     "metadata": {},
     "outputs": [],
     "prompt_number": 83
    },
    {
     "cell_type": "code",
     "collapsed": false,
     "input": [
      "plot(freqs[:max_freq_num], np.abs(amp_spec[0,:-1])**2)"
     ],
     "language": "python",
     "metadata": {},
     "outputs": [
      {
       "metadata": {},
       "output_type": "pyout",
       "prompt_number": 84,
       "text": [
        "[<matplotlib.lines.Line2D at 0x7fc83843ae50>]"
       ]
      }
     ],
     "prompt_number": 84
    },
    {
     "cell_type": "heading",
     "level": 2,
     "metadata": {},
     "source": [
      "Two-Reaction Toy Model"
     ]
    },
    {
     "cell_type": "code",
     "collapsed": false,
     "input": [
      "species = ['A', 'B']\n",
      "rxns = [ssad.Reaction([0], [1], [-1, +1], 10),\n",
      "        ssad.Reaction([1], [0], [+1, -1], 15, 5)]"
     ],
     "language": "python",
     "metadata": {},
     "outputs": [],
     "prompt_number": 21
    },
    {
     "cell_type": "code",
     "collapsed": false,
     "input": [
      "trj = Trajectory([50, 50], rxns)"
     ],
     "language": "python",
     "metadata": {},
     "outputs": [],
     "prompt_number": 22
    },
    {
     "cell_type": "code",
     "collapsed": false,
     "input": [
      "trj.run_dynamics(50, 1e4)"
     ],
     "language": "python",
     "metadata": {},
     "outputs": [
      {
       "ename": "KeyboardInterrupt",
       "evalue": "",
       "output_type": "pyerr",
       "traceback": [
        "\u001b[1;31m---------------------------------------------------------------------------\u001b[0m\n\u001b[1;31mKeyboardInterrupt\u001b[0m                         Traceback (most recent call last)",
        "\u001b[1;32m<ipython-input-23-133bf3a23ca6>\u001b[0m in \u001b[0;36m<module>\u001b[1;34m()\u001b[0m\n\u001b[1;32m----> 1\u001b[1;33m \u001b[0mtrj\u001b[0m\u001b[1;33m.\u001b[0m\u001b[0mrun_dynamics\u001b[0m\u001b[1;33m(\u001b[0m\u001b[1;36m50\u001b[0m\u001b[1;33m,\u001b[0m \u001b[1;36m1e4\u001b[0m\u001b[1;33m)\u001b[0m\u001b[1;33m\u001b[0m\u001b[0m\n\u001b[0m",
        "\u001b[1;32m/home/max/Documents/Research/wessa-s2014/python/ssad.py\u001b[0m in \u001b[0;36mrun_dynamics\u001b[1;34m(self, duration, max_steps)\u001b[0m\n\u001b[0;32m    206\u001b[0m             \u001b[0mnext_rxn_delayed\u001b[0m \u001b[1;33m=\u001b[0m \u001b[1;32mFalse\u001b[0m\u001b[1;33m\u001b[0m\u001b[0m\n\u001b[0;32m    207\u001b[0m             \u001b[1;32mif\u001b[0m \u001b[0mlen\u001b[0m\u001b[1;33m(\u001b[0m\u001b[0mself\u001b[0m\u001b[1;33m.\u001b[0m\u001b[0mevent_queue\u001b[0m\u001b[1;33m)\u001b[0m \u001b[1;33m!=\u001b[0m \u001b[1;36m0\u001b[0m\u001b[1;33m:\u001b[0m\u001b[1;33m\u001b[0m\u001b[0m\n\u001b[1;32m--> 208\u001b[1;33m                 \u001b[0mnext_delayed\u001b[0m \u001b[1;33m=\u001b[0m \u001b[0mmin\u001b[0m\u001b[1;33m(\u001b[0m\u001b[0mself\u001b[0m\u001b[1;33m.\u001b[0m\u001b[0mevent_queue\u001b[0m\u001b[1;33m)\u001b[0m\u001b[1;33m\u001b[0m\u001b[0m\n\u001b[0m\u001b[0;32m    209\u001b[0m                 \u001b[1;32mif\u001b[0m \u001b[0mnext_delayed\u001b[0m\u001b[1;33m[\u001b[0m\u001b[1;36m0\u001b[0m\u001b[1;33m]\u001b[0m \u001b[1;33m<\u001b[0m \u001b[0mnext_rxn_time\u001b[0m\u001b[1;33m:\u001b[0m\u001b[1;33m\u001b[0m\u001b[0m\n\u001b[0;32m    210\u001b[0m                     \u001b[0mnext_delayed\u001b[0m \u001b[1;33m=\u001b[0m \u001b[0mheapq\u001b[0m\u001b[1;33m.\u001b[0m\u001b[0mheappop\u001b[0m\u001b[1;33m(\u001b[0m\u001b[0mself\u001b[0m\u001b[1;33m.\u001b[0m\u001b[0mevent_queue\u001b[0m\u001b[1;33m)\u001b[0m\u001b[1;33m\u001b[0m\u001b[0m\n",
        "\u001b[1;31mKeyboardInterrupt\u001b[0m: "
       ]
      }
     ],
     "prompt_number": 23
    },
    {
     "cell_type": "code",
     "collapsed": false,
     "input": [
      "len(trj.event_queue)"
     ],
     "language": "python",
     "metadata": {},
     "outputs": [
      {
       "metadata": {},
       "output_type": "pyout",
       "prompt_number": 24,
       "text": [
        "26515"
       ]
      }
     ],
     "prompt_number": 24
    },
    {
     "cell_type": "code",
     "collapsed": false,
     "input": [
      "trj.rxn_counter"
     ],
     "language": "python",
     "metadata": {},
     "outputs": [
      {
       "metadata": {},
       "output_type": "pyout",
       "prompt_number": 25,
       "text": [
        "50"
       ]
      }
     ],
     "prompt_number": 25
    },
    {
     "cell_type": "code",
     "collapsed": false,
     "input": [
      "trj.time"
     ],
     "language": "python",
     "metadata": {},
     "outputs": [
      {
       "metadata": {},
       "output_type": "pyout",
       "prompt_number": 26,
       "text": [
        "0.035129624791475154"
       ]
      }
     ],
     "prompt_number": 26
    },
    {
     "cell_type": "code",
     "collapsed": false,
     "input": [
      "trj.event_queue[:40]"
     ],
     "language": "python",
     "metadata": {},
     "outputs": [
      {
       "metadata": {},
       "output_type": "pyout",
       "prompt_number": 28,
       "text": [
        "[(5.002443525077695, <ssad.Reaction at 0x7f9cbc0664d0>),\n",
        " (5.002443525077695, <ssad.Reaction at 0x7f9cbc0664d0>),\n",
        " (5.002716662481702, <ssad.Reaction at 0x7f9cbc0664d0>),\n",
        " (5.0039357560293505, <ssad.Reaction at 0x7f9cbc0664d0>),\n",
        " (5.005291421814413, <ssad.Reaction at 0x7f9cbc0664d0>),\n",
        " (5.005291421814413, <ssad.Reaction at 0x7f9cbc0664d0>),\n",
        " (5.005368026557605, <ssad.Reaction at 0x7f9cbc0664d0>),\n",
        " (5.005368026557605, <ssad.Reaction at 0x7f9cbc0664d0>),\n",
        " (5.005368026557605, <ssad.Reaction at 0x7f9cbc0664d0>),\n",
        " (5.006009926731005, <ssad.Reaction at 0x7f9cbc0664d0>),\n",
        " (5.006245557314326, <ssad.Reaction at 0x7f9cbc0664d0>),\n",
        " (5.009362929174684, <ssad.Reaction at 0x7f9cbc0664d0>),\n",
        " (5.009362929174684, <ssad.Reaction at 0x7f9cbc0664d0>),\n",
        " (5.009362929174684, <ssad.Reaction at 0x7f9cbc0664d0>),\n",
        " (5.009362929174684, <ssad.Reaction at 0x7f9cbc0664d0>),\n",
        " (5.009362929174684, <ssad.Reaction at 0x7f9cbc0664d0>),\n",
        " (5.009362929174684, <ssad.Reaction at 0x7f9cbc0664d0>),\n",
        " (5.009362929174684, <ssad.Reaction at 0x7f9cbc0664d0>),\n",
        " (5.009362929174684, <ssad.Reaction at 0x7f9cbc0664d0>),\n",
        " (5.009362929174684, <ssad.Reaction at 0x7f9cbc0664d0>),\n",
        " (5.009362929174684, <ssad.Reaction at 0x7f9cbc0664d0>),\n",
        " (5.009527532940109, <ssad.Reaction at 0x7f9cbc0664d0>),\n",
        " (5.009527532940109, <ssad.Reaction at 0x7f9cbc0664d0>),\n",
        " (5.009527532940109, <ssad.Reaction at 0x7f9cbc0664d0>),\n",
        " (5.009527532940109, <ssad.Reaction at 0x7f9cbc0664d0>),\n",
        " (5.009527532940109, <ssad.Reaction at 0x7f9cbc0664d0>),\n",
        " (5.00996122757623, <ssad.Reaction at 0x7f9cbc0664d0>),\n",
        " (5.00996122757623, <ssad.Reaction at 0x7f9cbc0664d0>),\n",
        " (5.00996122757623, <ssad.Reaction at 0x7f9cbc0664d0>),\n",
        " (5.00996122757623, <ssad.Reaction at 0x7f9cbc0664d0>),\n",
        " (5.00996122757623, <ssad.Reaction at 0x7f9cbc0664d0>),\n",
        " (5.00996122757623, <ssad.Reaction at 0x7f9cbc0664d0>),\n",
        " (5.010371126294325, <ssad.Reaction at 0x7f9cbc0664d0>),\n",
        " (5.010371126294325, <ssad.Reaction at 0x7f9cbc0664d0>),\n",
        " (5.0111703028145795, <ssad.Reaction at 0x7f9cbc0664d0>),\n",
        " (5.0111703028145795, <ssad.Reaction at 0x7f9cbc0664d0>),\n",
        " (5.011286684128154, <ssad.Reaction at 0x7f9cbc0664d0>),\n",
        " (5.013781247016581, <ssad.Reaction at 0x7f9cbc0664d0>),\n",
        " (5.013781247016581, <ssad.Reaction at 0x7f9cbc0664d0>),\n",
        " (5.013781247016581, <ssad.Reaction at 0x7f9cbc0664d0>)]"
       ]
      }
     ],
     "prompt_number": 28
    },
    {
     "cell_type": "code",
     "collapsed": false,
     "input": [
      "min(trj.event_queue)"
     ],
     "language": "python",
     "metadata": {},
     "outputs": [
      {
       "metadata": {},
       "output_type": "pyout",
       "prompt_number": 29,
       "text": [
        "(5.002443525077695, <ssad.Reaction at 0x7f9cbc0664d0>)"
       ]
      }
     ],
     "prompt_number": 29
    },
    {
     "cell_type": "markdown",
     "metadata": {},
     "source": [
      "Not quite working as expected. Discuss later.\n",
      "\n",
      "Problems/issues:\n",
      "\n",
      "+ Why so many events piling up to execute at the same time? Bug or problem with algorithm?"
     ]
    },
    {
     "cell_type": "heading",
     "level": 1,
     "metadata": {},
     "source": [
      "Simple (Verification) Test Cases"
     ]
    },
    {
     "cell_type": "heading",
     "level": 2,
     "metadata": {},
     "source": [
      "Constant-Rate Production"
     ]
    },
    {
     "cell_type": "code",
     "collapsed": false,
     "input": [
      "rxns = [Reaction([], [0], [+1], 10)]\n",
      "trjs = []\n",
      "ntrjs = 200\n",
      "for tidx in range(ntrjs):\n",
      "    trjs.append(Trajectory([0], rxns, weight=1/30))"
     ],
     "language": "python",
     "metadata": {},
     "outputs": [],
     "prompt_number": 25
    },
    {
     "cell_type": "code",
     "collapsed": false,
     "input": [
      "for trj in trjs:\n",
      "    trj.run_dynamics(200)"
     ],
     "language": "python",
     "metadata": {},
     "outputs": [],
     "prompt_number": 26
    },
    {
     "cell_type": "code",
     "collapsed": false,
     "input": [
      "weights = np.empty((ntrjs))\n",
      "states = np.empty((ntrjs, 1))"
     ],
     "language": "python",
     "metadata": {},
     "outputs": [],
     "prompt_number": 27
    },
    {
     "cell_type": "code",
     "collapsed": false,
     "input": [
      "for tidx, trj in enumerate(trjs):\n",
      "    weights[tidx] = trj.weight\n",
      "    states[tidx,:] = trj.state"
     ],
     "language": "python",
     "metadata": {},
     "outputs": [],
     "prompt_number": 28
    },
    {
     "cell_type": "code",
     "collapsed": false,
     "input": [
      "hist(states)"
     ],
     "language": "python",
     "metadata": {},
     "outputs": [
      {
       "metadata": {},
       "output_type": "pyout",
       "prompt_number": 29,
       "text": [
        "(array([  2.,   3.,  10.,  21.,  41.,  42.,  39.,  29.,  11.,   2.]),\n",
        " array([ 1858.,  1883.,  1908.,  1933.,  1958.,  1983.,  2008.,  2033.,\n",
        "        2058.,  2083.,  2108.]),\n",
        " <a list of 10 Patch objects>)"
       ]
      }
     ],
     "prompt_number": 29
    },
    {
     "cell_type": "heading",
     "level": 3,
     "metadata": {},
     "source": [
      "With multiple species"
     ]
    },
    {
     "cell_type": "code",
     "collapsed": false,
     "input": [
      "rxns = [Reaction([], [0], [+1, 0], 10),\n",
      "        Reaction([], [1], [0, +1], 5)]\n",
      "trjs = []\n",
      "ntrjs = 200\n",
      "for tidx in range(ntrjs):\n",
      "    trjs.append(Trajectory([0], rxns, weight=1/ntrjs))"
     ],
     "language": "python",
     "metadata": {},
     "outputs": [],
     "prompt_number": 30
    },
    {
     "cell_type": "code",
     "collapsed": false,
     "input": [
      "weights2 = np.empty((ntrjs))\n",
      "states2 = np.empty((ntrjs, 2))"
     ],
     "language": "python",
     "metadata": {},
     "outputs": [],
     "prompt_number": 31
    },
    {
     "cell_type": "code",
     "collapsed": false,
     "input": [
      "for tidx, trj in enumerate(trjs):\n",
      "    trj.run_dynamics(200)\n",
      "    weights2[tidx] = trj.weight\n",
      "    states2[tidx,:] = trj.state"
     ],
     "language": "python",
     "metadata": {},
     "outputs": [],
     "prompt_number": 32
    },
    {
     "cell_type": "code",
     "collapsed": false,
     "input": [
      "hist(states2[:,1])"
     ],
     "language": "python",
     "metadata": {},
     "outputs": [
      {
       "metadata": {},
       "output_type": "pyout",
       "prompt_number": 34,
       "text": [
        "(array([  1.,   4.,  10.,  22.,  30.,  61.,  35.,  25.,   9.,   3.]),\n",
        " array([  901. ,   918.9,   936.8,   954.7,   972.6,   990.5,  1008.4,\n",
        "        1026.3,  1044.2,  1062.1,  1080. ]),\n",
        " <a list of 10 Patch objects>)"
       ]
      }
     ],
     "prompt_number": 34
    },
    {
     "cell_type": "heading",
     "level": 2,
     "metadata": {},
     "source": [
      "Production-Degradation Equilibrium (non-delayed)"
     ]
    },
    {
     "cell_type": "code",
     "collapsed": false,
     "input": [
      "rxns = [Reaction([], [0], [+1], 10),\n",
      "        Reaction([0], [], [-1], 1)]\n",
      "trj = Trajectory([5], rxns)"
     ],
     "language": "python",
     "metadata": {},
     "outputs": [],
     "prompt_number": 17
    },
    {
     "cell_type": "code",
     "collapsed": false,
     "input": [
      "trj.run_dynamics(10)"
     ],
     "language": "python",
     "metadata": {},
     "outputs": [],
     "prompt_number": 18
    },
    {
     "cell_type": "code",
     "collapsed": false,
     "input": [
      "times = np.asarray(trj.hist_times)\n",
      "states = np.asarray(trj.hist_states)"
     ],
     "language": "python",
     "metadata": {},
     "outputs": [],
     "prompt_number": 19
    },
    {
     "cell_type": "code",
     "collapsed": false,
     "input": [
      "step(times, states[:,0], where='post')"
     ],
     "language": "python",
     "metadata": {},
     "outputs": [
      {
       "metadata": {},
       "output_type": "pyout",
       "prompt_number": 27,
       "text": [
        "[<matplotlib.lines.Line2D at 0x7fc83cc362d0>]"
       ]
      }
     ],
     "prompt_number": 27
    },
    {
     "cell_type": "code",
     "collapsed": false,
     "input": [
      "histrange = np.abs(times - 4) < 0.3\n",
      "np.column_stack((times[histrange], states[histrange,0]))"
     ],
     "language": "python",
     "metadata": {},
     "outputs": [
      {
       "metadata": {},
       "output_type": "pyout",
       "prompt_number": 21,
       "text": [
        "array([[  3.72517872,  10.        ],\n",
        "       [  3.74962145,   9.        ],\n",
        "       [  3.78793798,   8.        ],\n",
        "       [  3.79179656,   7.        ],\n",
        "       [  3.80460318,   6.        ],\n",
        "       [  3.81730073,   7.        ],\n",
        "       [  3.8407139 ,   6.        ],\n",
        "       [  3.97943747,   5.        ],\n",
        "       [  4.00481012,   6.        ],\n",
        "       [  4.05880052,   7.        ],\n",
        "       [  4.05976538,   6.        ],\n",
        "       [  4.24557299,   5.        ],\n",
        "       [  4.24971118,   6.        ],\n",
        "       [  4.28825205,   7.        ]])"
       ]
      }
     ],
     "prompt_number": 21
    },
    {
     "cell_type": "code",
     "collapsed": false,
     "input": [
      "trj.sample_state(4)"
     ],
     "language": "python",
     "metadata": {},
     "outputs": [
      {
       "metadata": {},
       "output_type": "pyout",
       "prompt_number": 22,
       "text": [
        "array([5])"
       ]
      }
     ],
     "prompt_number": 22
    },
    {
     "cell_type": "code",
     "collapsed": false,
     "input": [
      "trj.sample_state(-2)"
     ],
     "language": "python",
     "metadata": {},
     "outputs": [
      {
       "ename": "ValueError",
       "evalue": "Out-of-bounds time -2 received.",
       "output_type": "pyerr",
       "traceback": [
        "\u001b[1;31m---------------------------------------------------------------------------\u001b[0m\n\u001b[1;31mValueError\u001b[0m                                Traceback (most recent call last)",
        "\u001b[1;32m<ipython-input-23-ad77ce8343a6>\u001b[0m in \u001b[0;36m<module>\u001b[1;34m()\u001b[0m\n\u001b[1;32m----> 1\u001b[1;33m \u001b[0mtrj\u001b[0m\u001b[1;33m.\u001b[0m\u001b[0msample_state\u001b[0m\u001b[1;33m(\u001b[0m\u001b[1;33m-\u001b[0m\u001b[1;36m2\u001b[0m\u001b[1;33m)\u001b[0m\u001b[1;33m\u001b[0m\u001b[0m\n\u001b[0m",
        "\u001b[1;32m/home/max/Documents/Research/wessa-s2014/python/ssad.py\u001b[0m in \u001b[0;36msample_state\u001b[1;34m(self, time, use_init_state)\u001b[0m\n\u001b[0;32m    316\u001b[0m         if (time > self.time) or (time < self.init_time and\n\u001b[0;32m    317\u001b[0m                                   not use_init_state):\n\u001b[1;32m--> 318\u001b[1;33m             \u001b[1;32mraise\u001b[0m \u001b[0mValueError\u001b[0m\u001b[1;33m(\u001b[0m\u001b[1;34m\"Out-of-bounds time \"\u001b[0m \u001b[1;33m+\u001b[0m \u001b[0mstr\u001b[0m\u001b[1;33m(\u001b[0m\u001b[0mtime\u001b[0m\u001b[1;33m)\u001b[0m \u001b[1;33m+\u001b[0m \u001b[1;34m\" received.\"\u001b[0m\u001b[1;33m)\u001b[0m\u001b[1;33m\u001b[0m\u001b[0m\n\u001b[0m\u001b[0;32m    319\u001b[0m         \u001b[1;32mif\u001b[0m \u001b[1;33m(\u001b[0m\u001b[0mtime\u001b[0m \u001b[1;33m<\u001b[0m \u001b[0mself\u001b[0m\u001b[1;33m.\u001b[0m\u001b[0minit_time\u001b[0m\u001b[1;33m)\u001b[0m \u001b[1;32mand\u001b[0m \u001b[0muse_init_state\u001b[0m\u001b[1;33m:\u001b[0m\u001b[1;33m\u001b[0m\u001b[0m\n\u001b[0;32m    320\u001b[0m             \u001b[1;32mreturn\u001b[0m \u001b[0mself\u001b[0m\u001b[1;33m.\u001b[0m\u001b[0mhist_states\u001b[0m\u001b[1;33m[\u001b[0m\u001b[1;36m0\u001b[0m\u001b[1;33m]\u001b[0m\u001b[1;33m\u001b[0m\u001b[0m\n",
        "\u001b[1;31mValueError\u001b[0m: Out-of-bounds time -2 received."
       ]
      }
     ],
     "prompt_number": 23
    },
    {
     "cell_type": "code",
     "collapsed": false,
     "input": [
      "trj.sample_state(-2, use_init_state=True)"
     ],
     "language": "python",
     "metadata": {},
     "outputs": [
      {
       "metadata": {},
       "output_type": "pyout",
       "prompt_number": 24,
       "text": [
        "array([5])"
       ]
      }
     ],
     "prompt_number": 24
    },
    {
     "cell_type": "code",
     "collapsed": false,
     "input": [
      "sample_times = np.linspace(0, 10, 50)\n",
      "sample_states = trj.sample_state_seq(sample_times)"
     ],
     "language": "python",
     "metadata": {},
     "outputs": [],
     "prompt_number": 25
    },
    {
     "cell_type": "code",
     "collapsed": false,
     "input": [
      "plot(sample_times, sample_states[0,:], 'o')"
     ],
     "language": "python",
     "metadata": {},
     "outputs": [
      {
       "metadata": {},
       "output_type": "pyout",
       "prompt_number": 28,
       "text": [
        "[<matplotlib.lines.Line2D at 0x7fc83acbd8d0>]"
       ]
      }
     ],
     "prompt_number": 28
    },
    {
     "cell_type": "markdown",
     "metadata": {},
     "source": [
      "It appears both types of sampling are being done correctly."
     ]
    },
    {
     "cell_type": "heading",
     "level": 2,
     "metadata": {},
     "source": [
      "Basic Testing of Sampling (and delays)"
     ]
    },
    {
     "cell_type": "code",
     "collapsed": false,
     "input": [
      "rxns = [ssad.Reaction([], [0], np.array([+1]), 100),\n",
      "        ssad.Reaction([0], [], np.array([-1]), 4.1),\n",
      "        ssad.Reaction([0], [], np.array([-1]), 10, delay=20.0)]"
     ],
     "language": "python",
     "metadata": {},
     "outputs": [],
     "prompt_number": 4
    },
    {
     "cell_type": "code",
     "collapsed": false,
     "input": [
      "trj = Trajectory([20], rxns)"
     ],
     "language": "python",
     "metadata": {},
     "outputs": [],
     "prompt_number": 5
    },
    {
     "cell_type": "code",
     "collapsed": false,
     "input": [
      "trj.sample_state(-20, use_init_state=True)"
     ],
     "language": "python",
     "metadata": {},
     "outputs": [
      {
       "metadata": {},
       "output_type": "pyout",
       "prompt_number": 7,
       "text": [
        "array([20])"
       ]
      }
     ],
     "prompt_number": 7
    },
    {
     "cell_type": "code",
     "collapsed": false,
     "input": [
      "nsamples = int(1e5)\n",
      "rxn_tallies = defaultdict(lambda: 0)\n",
      "time_stats = defaultdict(lambda: [])\n",
      "for snum in range(nsamples):\n",
      "    rxn, time = trj._sample_next_reaction()\n",
      "    rxn_tallies[rxn] += 1\n",
      "    time_stats[rxn].append(time)"
     ],
     "language": "python",
     "metadata": {},
     "outputs": [],
     "prompt_number": 8
    },
    {
     "cell_type": "code",
     "collapsed": false,
     "input": [
      "for rxn in rxns:\n",
      "    print(rxn_tallies[rxn])"
     ],
     "language": "python",
     "metadata": {},
     "outputs": [
      {
       "output_type": "stream",
       "stream": "stdout",
       "text": [
        "26089\n",
        "21523\n",
        "52388\n"
       ]
      }
     ],
     "prompt_number": 9
    },
    {
     "cell_type": "code",
     "collapsed": false,
     "input": [
      "for rxn in rxns:\n",
      "    print(rxn.calc_propensity([20]))"
     ],
     "language": "python",
     "metadata": {},
     "outputs": [
      {
       "output_type": "stream",
       "stream": "stdout",
       "text": [
        "100\n",
        "82.0\n",
        "200\n"
       ]
      }
     ],
     "prompt_number": 10
    },
    {
     "cell_type": "code",
     "collapsed": false,
     "input": [
      "trj._sample_next_reaction()"
     ],
     "language": "python",
     "metadata": {},
     "outputs": [
      {
       "metadata": {},
       "output_type": "pyout",
       "prompt_number": 11,
       "text": [
        "(<ssad.Reaction at 0x7f50ebc30e10>, 0.0048390630909463375)"
       ]
      }
     ],
     "prompt_number": 11
    },
    {
     "cell_type": "code",
     "collapsed": false,
     "input": [
      "test_scalar = np.asarray(1)"
     ],
     "language": "python",
     "metadata": {},
     "outputs": [],
     "prompt_number": 17
    },
    {
     "cell_type": "code",
     "collapsed": false,
     "input": [
      "dir(test_scalar)"
     ],
     "language": "python",
     "metadata": {},
     "outputs": [
      {
       "metadata": {},
       "output_type": "pyout",
       "prompt_number": 18,
       "text": [
        "['T',\n",
        " '__abs__',\n",
        " '__add__',\n",
        " '__and__',\n",
        " '__array__',\n",
        " '__array_finalize__',\n",
        " '__array_interface__',\n",
        " '__array_prepare__',\n",
        " '__array_priority__',\n",
        " '__array_struct__',\n",
        " '__array_wrap__',\n",
        " '__bool__',\n",
        " '__class__',\n",
        " '__contains__',\n",
        " '__copy__',\n",
        " '__deepcopy__',\n",
        " '__delattr__',\n",
        " '__delitem__',\n",
        " '__dir__',\n",
        " '__divmod__',\n",
        " '__doc__',\n",
        " '__eq__',\n",
        " '__float__',\n",
        " '__floordiv__',\n",
        " '__format__',\n",
        " '__ge__',\n",
        " '__getattribute__',\n",
        " '__getitem__',\n",
        " '__gt__',\n",
        " '__hash__',\n",
        " '__iadd__',\n",
        " '__iand__',\n",
        " '__ifloordiv__',\n",
        " '__ilshift__',\n",
        " '__imod__',\n",
        " '__imul__',\n",
        " '__index__',\n",
        " '__init__',\n",
        " '__int__',\n",
        " '__invert__',\n",
        " '__ior__',\n",
        " '__ipow__',\n",
        " '__irshift__',\n",
        " '__isub__',\n",
        " '__iter__',\n",
        " '__itruediv__',\n",
        " '__ixor__',\n",
        " '__le__',\n",
        " '__len__',\n",
        " '__lshift__',\n",
        " '__lt__',\n",
        " '__mod__',\n",
        " '__mul__',\n",
        " '__ne__',\n",
        " '__neg__',\n",
        " '__new__',\n",
        " '__or__',\n",
        " '__pos__',\n",
        " '__pow__',\n",
        " '__radd__',\n",
        " '__rand__',\n",
        " '__rdivmod__',\n",
        " '__reduce__',\n",
        " '__reduce_ex__',\n",
        " '__repr__',\n",
        " '__rfloordiv__',\n",
        " '__rlshift__',\n",
        " '__rmod__',\n",
        " '__rmul__',\n",
        " '__ror__',\n",
        " '__rpow__',\n",
        " '__rrshift__',\n",
        " '__rshift__',\n",
        " '__rsub__',\n",
        " '__rtruediv__',\n",
        " '__rxor__',\n",
        " '__setattr__',\n",
        " '__setitem__',\n",
        " '__setstate__',\n",
        " '__sizeof__',\n",
        " '__str__',\n",
        " '__sub__',\n",
        " '__subclasshook__',\n",
        " '__truediv__',\n",
        " '__xor__',\n",
        " 'all',\n",
        " 'any',\n",
        " 'argmax',\n",
        " 'argmin',\n",
        " 'argpartition',\n",
        " 'argsort',\n",
        " 'astype',\n",
        " 'base',\n",
        " 'byteswap',\n",
        " 'choose',\n",
        " 'clip',\n",
        " 'compress',\n",
        " 'conj',\n",
        " 'conjugate',\n",
        " 'copy',\n",
        " 'ctypes',\n",
        " 'cumprod',\n",
        " 'cumsum',\n",
        " 'data',\n",
        " 'diagonal',\n",
        " 'dot',\n",
        " 'dtype',\n",
        " 'dump',\n",
        " 'dumps',\n",
        " 'fill',\n",
        " 'flags',\n",
        " 'flat',\n",
        " 'flatten',\n",
        " 'getfield',\n",
        " 'imag',\n",
        " 'item',\n",
        " 'itemset',\n",
        " 'itemsize',\n",
        " 'max',\n",
        " 'mean',\n",
        " 'min',\n",
        " 'nbytes',\n",
        " 'ndim',\n",
        " 'newbyteorder',\n",
        " 'nonzero',\n",
        " 'partition',\n",
        " 'prod',\n",
        " 'ptp',\n",
        " 'put',\n",
        " 'ravel',\n",
        " 'real',\n",
        " 'repeat',\n",
        " 'reshape',\n",
        " 'resize',\n",
        " 'round',\n",
        " 'searchsorted',\n",
        " 'setfield',\n",
        " 'setflags',\n",
        " 'shape',\n",
        " 'size',\n",
        " 'sort',\n",
        " 'squeeze',\n",
        " 'std',\n",
        " 'strides',\n",
        " 'sum',\n",
        " 'swapaxes',\n",
        " 'take',\n",
        " 'tofile',\n",
        " 'tolist',\n",
        " 'tostring',\n",
        " 'trace',\n",
        " 'transpose',\n",
        " 'var',\n",
        " 'view']"
       ]
      }
     ],
     "prompt_number": 18
    },
    {
     "cell_type": "code",
     "collapsed": false,
     "input": [
      "test_scalar."
     ],
     "language": "python",
     "metadata": {},
     "outputs": [
      {
       "metadata": {},
       "output_type": "pyout",
       "prompt_number": 19,
       "text": [
        "dtype('int64')"
       ]
      }
     ],
     "prompt_number": 19
    },
    {
     "cell_type": "code",
     "collapsed": false,
     "input": [
      "np.isscalar(1)"
     ],
     "language": "python",
     "metadata": {},
     "outputs": [
      {
       "metadata": {},
       "output_type": "pyout",
       "prompt_number": 21,
       "text": [
        "True"
       ]
      }
     ],
     "prompt_number": 21
    },
    {
     "cell_type": "code",
     "collapsed": false,
     "input": [
      "test_A = array([[1, 2, 3], [4, 5, 6]])\n",
      "test_A.shape"
     ],
     "language": "python",
     "metadata": {},
     "outputs": [
      {
       "metadata": {},
       "output_type": "pyout",
       "prompt_number": 22,
       "text": [
        "(2, 3)"
       ]
      }
     ],
     "prompt_number": 22
    },
    {
     "cell_type": "code",
     "collapsed": false,
     "input": [
      "test_list = [array([0]), array([0]), array([0])]\n",
      "test_copy = list(test_list)"
     ],
     "language": "python",
     "metadata": {},
     "outputs": [],
     "prompt_number": 24
    },
    {
     "cell_type": "code",
     "collapsed": false,
     "input": [
      "test_copy[1][0] += 2"
     ],
     "language": "python",
     "metadata": {},
     "outputs": [],
     "prompt_number": 26
    },
    {
     "cell_type": "code",
     "collapsed": false,
     "input": [
      "test_copy"
     ],
     "language": "python",
     "metadata": {},
     "outputs": [
      {
       "metadata": {},
       "output_type": "pyout",
       "prompt_number": 27,
       "text": [
        "[array([0]), array([2]), array([0])]"
       ]
      }
     ],
     "prompt_number": 27
    },
    {
     "cell_type": "code",
     "collapsed": false,
     "input": [
      "test_list"
     ],
     "language": "python",
     "metadata": {},
     "outputs": [
      {
       "metadata": {},
       "output_type": "pyout",
       "prompt_number": 28,
       "text": [
        "[array([0]), array([2]), array([0])]"
       ]
      }
     ],
     "prompt_number": 28
    },
    {
     "cell_type": "code",
     "collapsed": false,
     "input": [],
     "language": "python",
     "metadata": {},
     "outputs": []
    }
   ],
   "metadata": {}
  }
 ]
}