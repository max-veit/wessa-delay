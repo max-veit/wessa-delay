{
 "metadata": {
  "name": ""
 },
 "nbformat": 3,
 "nbformat_minor": 0,
 "worksheets": [
  {
   "cells": [
    {
     "cell_type": "heading",
     "level": 1,
     "metadata": {},
     "source": [
      "Initialization"
     ]
    },
    {
     "cell_type": "code",
     "collapsed": false,
     "input": [
      "%pylab tk"
     ],
     "language": "python",
     "metadata": {},
     "outputs": [
      {
       "output_type": "stream",
       "stream": "stdout",
       "text": [
        "Populating the interactive namespace from numpy and matplotlib\n"
       ]
      }
     ],
     "prompt_number": 1
    },
    {
     "cell_type": "code",
     "collapsed": false,
     "input": [
      "import numpy.fft as fft\n",
      "import matplotlib.pyplot as plt\n",
      "import ssad\n",
      "from ssad import Reaction, Trajectory\n",
      "from imp import reload"
     ],
     "language": "python",
     "metadata": {},
     "outputs": [],
     "prompt_number": 2
    },
    {
     "cell_type": "code",
     "collapsed": false,
     "input": [
      "reload(ssad)"
     ],
     "language": "python",
     "metadata": {},
     "outputs": [
      {
       "metadata": {},
       "output_type": "pyout",
       "prompt_number": 16,
       "text": [
        "<module 'ssad' from './ssad.py'>"
       ]
      }
     ],
     "prompt_number": 16
    },
    {
     "cell_type": "heading",
     "level": 1,
     "metadata": {},
     "source": [
      "Test Cases"
     ]
    },
    {
     "cell_type": "heading",
     "level": 2,
     "metadata": {},
     "source": [
      "Delayed Protein Degradation"
     ]
    },
    {
     "cell_type": "code",
     "collapsed": false,
     "input": [
      "species = ['X']"
     ],
     "language": "python",
     "metadata": {},
     "outputs": [],
     "prompt_number": 4
    },
    {
     "cell_type": "code",
     "collapsed": false,
     "input": [
      "rxns = []\n",
      "rxns.append(ssad.Reaction([], [0], np.array([+1]), 100))\n",
      "rxns.append(ssad.Reaction([0], [], np.array([-1]), 4.1))\n",
      "rxns.append(ssad.Reaction([0], [], np.array([-1]), 2, delay=20.0))"
     ],
     "language": "python",
     "metadata": {},
     "outputs": [],
     "prompt_number": 5
    },
    {
     "cell_type": "code",
     "collapsed": false,
     "input": [
      "print(rxns[1])"
     ],
     "language": "python",
     "metadata": {},
     "outputs": [
      {
       "output_type": "stream",
       "stream": "stdout",
       "text": [
        "Reaction taking reactants: [0] to products: [] with rate 4.1 and delay 0.0\n"
       ]
      }
     ],
     "prompt_number": 6
    },
    {
     "cell_type": "code",
     "collapsed": false,
     "input": [
      "for rxn in rxns:\n",
      "    print(rxn.calc_propensity([100]))"
     ],
     "language": "python",
     "metadata": {},
     "outputs": [
      {
       "output_type": "stream",
       "stream": "stdout",
       "text": [
        "100\n",
        "409.99999999999994\n",
        "200\n"
       ]
      }
     ],
     "prompt_number": 7
    },
    {
     "cell_type": "code",
     "collapsed": false,
     "input": [
      "# The starting parameters are a wild guess.\n",
      "trj = ssad.Trajectory([50], 1, rxns)"
     ],
     "language": "python",
     "metadata": {},
     "outputs": [],
     "prompt_number": 18
    },
    {
     "cell_type": "code",
     "collapsed": false,
     "input": [
      "trj.run_dynamics(200, 1e5)"
     ],
     "language": "python",
     "metadata": {},
     "outputs": [
      {
       "ename": "ValueError",
       "evalue": "scale <= 0",
       "output_type": "pyerr",
       "traceback": [
        "\u001b[1;31m---------------------------------------------------------------------------\u001b[0m\n\u001b[1;31mValueError\u001b[0m                                Traceback (most recent call last)",
        "\u001b[1;32m<ipython-input-19-9acf33a0ebc8>\u001b[0m in \u001b[0;36m<module>\u001b[1;34m()\u001b[0m\n\u001b[1;32m----> 1\u001b[1;33m \u001b[0mtrj\u001b[0m\u001b[1;33m.\u001b[0m\u001b[0mrun_dynamics\u001b[0m\u001b[1;33m(\u001b[0m\u001b[1;36m200\u001b[0m\u001b[1;33m,\u001b[0m \u001b[1;36m1e5\u001b[0m\u001b[1;33m)\u001b[0m\u001b[1;33m\u001b[0m\u001b[0m\n\u001b[0m",
        "\u001b[1;32m/home/max/Documents/Research/wessa-s2014/python/ssad.py\u001b[0m in \u001b[0;36mrun_dynamics\u001b[1;34m(self, duration, max_steps)\u001b[0m\n\u001b[0;32m    202\u001b[0m                 \u001b[0mresume\u001b[0m \u001b[1;33m=\u001b[0m \u001b[1;32mFalse\u001b[0m\u001b[1;33m\u001b[0m\u001b[0m\n\u001b[0;32m    203\u001b[0m             \u001b[1;32melse\u001b[0m\u001b[1;33m:\u001b[0m\u001b[1;33m\u001b[0m\u001b[0m\n\u001b[1;32m--> 204\u001b[1;33m                 \u001b[0mnext_rxn\u001b[0m\u001b[1;33m,\u001b[0m \u001b[0mwait_time\u001b[0m \u001b[1;33m=\u001b[0m \u001b[0mself\u001b[0m\u001b[1;33m.\u001b[0m\u001b[0m_sample_next_reaction\u001b[0m\u001b[1;33m(\u001b[0m\u001b[1;33m)\u001b[0m\u001b[1;33m\u001b[0m\u001b[0m\n\u001b[0m\u001b[0;32m    205\u001b[0m                 \u001b[0mnext_rxn_time\u001b[0m \u001b[1;33m=\u001b[0m \u001b[0mself\u001b[0m\u001b[1;33m.\u001b[0m\u001b[0mtime\u001b[0m \u001b[1;33m+\u001b[0m \u001b[0mwait_time\u001b[0m\u001b[1;33m\u001b[0m\u001b[0m\n\u001b[0;32m    206\u001b[0m \u001b[1;33m\u001b[0m\u001b[0m\n",
        "\u001b[1;32m/home/max/Documents/Research/wessa-s2014/python/ssad.py\u001b[0m in \u001b[0;36m_sample_next_reaction\u001b[1;34m(self)\u001b[0m\n\u001b[0;32m    247\u001b[0m         \u001b[0mprop_csum\u001b[0m \u001b[1;33m=\u001b[0m \u001b[0mnp\u001b[0m\u001b[1;33m.\u001b[0m\u001b[0mcumsum\u001b[0m\u001b[1;33m(\u001b[0m\u001b[0mself\u001b[0m\u001b[1;33m.\u001b[0m\u001b[0mpropensities\u001b[0m\u001b[1;33m)\u001b[0m\u001b[1;33m\u001b[0m\u001b[0m\n\u001b[0;32m    248\u001b[0m         \u001b[0mtotal_prop\u001b[0m \u001b[1;33m=\u001b[0m \u001b[0mprop_csum\u001b[0m\u001b[1;33m[\u001b[0m\u001b[1;33m-\u001b[0m\u001b[1;36m1\u001b[0m\u001b[1;33m]\u001b[0m\u001b[1;33m\u001b[0m\u001b[0m\n\u001b[1;32m--> 249\u001b[1;33m         \u001b[0mwait_time\u001b[0m \u001b[1;33m=\u001b[0m \u001b[0mexponential\u001b[0m\u001b[1;33m(\u001b[0m\u001b[1;36m1.0\u001b[0m \u001b[1;33m/\u001b[0m \u001b[0mtotal_prop\u001b[0m\u001b[1;33m)\u001b[0m\u001b[1;33m\u001b[0m\u001b[0m\n\u001b[0m\u001b[0;32m    250\u001b[0m         \u001b[0mrxn_selector\u001b[0m \u001b[1;33m=\u001b[0m \u001b[0mrandom\u001b[0m\u001b[1;33m(\u001b[0m\u001b[1;33m)\u001b[0m \u001b[1;33m*\u001b[0m \u001b[0mtotal_prop\u001b[0m\u001b[1;33m\u001b[0m\u001b[0m\n\u001b[0;32m    251\u001b[0m         \u001b[1;32mfor\u001b[0m \u001b[0mridx\u001b[0m\u001b[1;33m,\u001b[0m \u001b[0mrxn\u001b[0m \u001b[1;32min\u001b[0m \u001b[0menumerate\u001b[0m\u001b[1;33m(\u001b[0m\u001b[0mself\u001b[0m\u001b[1;33m.\u001b[0m\u001b[0mreactions\u001b[0m\u001b[1;33m)\u001b[0m\u001b[1;33m:\u001b[0m\u001b[1;33m\u001b[0m\u001b[0m\n",
        "\u001b[1;32m/usr/lib/python3.3/site-packages/numpy/random/mtrand.cpython-33m.so\u001b[0m in \u001b[0;36mmtrand.RandomState.exponential (numpy/random/mtrand/mtrand.c:10018)\u001b[1;34m()\u001b[0m\n",
        "\u001b[1;31mValueError\u001b[0m: scale <= 0"
       ]
      }
     ],
     "prompt_number": 19
    },
    {
     "cell_type": "code",
     "collapsed": false,
     "input": [
      "trj.rxn_counter"
     ],
     "language": "python",
     "metadata": {},
     "outputs": [
      {
       "metadata": {},
       "output_type": "pyout",
       "prompt_number": 20,
       "text": [
        "6855"
       ]
      }
     ],
     "prompt_number": 20
    },
    {
     "cell_type": "code",
     "collapsed": false,
     "input": [
      "trj.time"
     ],
     "language": "python",
     "metadata": {},
     "outputs": [
      {
       "metadata": {},
       "output_type": "pyout",
       "prompt_number": 21,
       "text": [
        "28.253167998637714"
       ]
      }
     ],
     "prompt_number": 21
    },
    {
     "cell_type": "code",
     "collapsed": false,
     "input": [
      "times = np.array(trj.history[0])\n",
      "states = np.array(trj.history[1])"
     ],
     "language": "python",
     "metadata": {},
     "outputs": [],
     "prompt_number": 22
    },
    {
     "cell_type": "code",
     "collapsed": false,
     "input": [
      "plot(times, states[:,0])"
     ],
     "language": "python",
     "metadata": {},
     "outputs": [
      {
       "metadata": {},
       "output_type": "pyout",
       "prompt_number": 23,
       "text": [
        "[<matplotlib.lines.Line2D at 0x7fca9c0589d0>]"
       ]
      }
     ],
     "prompt_number": 23
    },
    {
     "cell_type": "markdown",
     "metadata": {},
     "source": [
      "Looks promising so far. Now to sample the trajectory so as to obtain a power spectrum!"
     ]
    },
    {
     "cell_type": "code",
     "collapsed": false,
     "input": [
      "2**15"
     ],
     "language": "python",
     "metadata": {},
     "outputs": [
      {
       "metadata": {},
       "output_type": "pyout",
       "prompt_number": 14,
       "text": [
        "32768"
       ]
      }
     ],
     "prompt_number": 14
    },
    {
     "cell_type": "code",
     "collapsed": false,
     "input": [
      "s_times, s_states = trj.sample_state_seq(np.linspace(0, 200, 4096))"
     ],
     "language": "python",
     "metadata": {},
     "outputs": [
      {
       "ename": "ValueError",
       "evalue": "Latest time 200.0 is later than the current trajectory time.",
       "output_type": "pyerr",
       "traceback": [
        "\u001b[1;31m---------------------------------------------------------------------------\u001b[0m\n\u001b[1;31mValueError\u001b[0m                                Traceback (most recent call last)",
        "\u001b[1;32m<ipython-input-24-af763dce810d>\u001b[0m in \u001b[0;36m<module>\u001b[1;34m()\u001b[0m\n\u001b[1;32m----> 1\u001b[1;33m \u001b[0ms_times\u001b[0m\u001b[1;33m,\u001b[0m \u001b[0ms_states\u001b[0m \u001b[1;33m=\u001b[0m \u001b[0mtrj\u001b[0m\u001b[1;33m.\u001b[0m\u001b[0msample_state_seq\u001b[0m\u001b[1;33m(\u001b[0m\u001b[0mnp\u001b[0m\u001b[1;33m.\u001b[0m\u001b[0mlinspace\u001b[0m\u001b[1;33m(\u001b[0m\u001b[1;36m0\u001b[0m\u001b[1;33m,\u001b[0m \u001b[1;36m200\u001b[0m\u001b[1;33m,\u001b[0m \u001b[1;36m4096\u001b[0m\u001b[1;33m)\u001b[0m\u001b[1;33m)\u001b[0m\u001b[1;33m\u001b[0m\u001b[0m\n\u001b[0m",
        "\u001b[1;32m/home/max/Documents/Research/wessa-s2014/python/ssad.py\u001b[0m in \u001b[0;36msample_state_seq\u001b[1;34m(self, times)\u001b[0m\n\u001b[0;32m    319\u001b[0m         \u001b[1;32mif\u001b[0m \u001b[1;33m(\u001b[0m\u001b[0mtimes\u001b[0m\u001b[1;33m[\u001b[0m\u001b[1;33m-\u001b[0m\u001b[1;36m1\u001b[0m\u001b[1;33m]\u001b[0m \u001b[1;33m>\u001b[0m \u001b[0mself\u001b[0m\u001b[1;33m.\u001b[0m\u001b[0mtime\u001b[0m\u001b[1;33m)\u001b[0m\u001b[1;33m:\u001b[0m\u001b[1;33m\u001b[0m\u001b[0m\n\u001b[0;32m    320\u001b[0m             raise ValueError(\"Latest time \" + str(times[-1]) + \" is later \" +\n\u001b[1;32m--> 321\u001b[1;33m                              \"than the current trajectory time.\")\n\u001b[0m\u001b[0;32m    322\u001b[0m         \u001b[1;32mif\u001b[0m \u001b[1;33m(\u001b[0m\u001b[0mtimes\u001b[0m\u001b[1;33m[\u001b[0m\u001b[1;36m0\u001b[0m\u001b[1;33m]\u001b[0m \u001b[1;33m<\u001b[0m \u001b[0mself\u001b[0m\u001b[1;33m.\u001b[0m\u001b[0minit_time\u001b[0m\u001b[1;33m)\u001b[0m\u001b[1;33m:\u001b[0m\u001b[1;33m\u001b[0m\u001b[0m\n\u001b[0;32m    323\u001b[0m             raise ValueError(\"First time \" + str(times[0]) + \" is earlier \" +\n",
        "\u001b[1;31mValueError\u001b[0m: Latest time 200.0 is later than the current trajectory time."
       ]
      }
     ],
     "prompt_number": 24
    },
    {
     "cell_type": "code",
     "collapsed": false,
     "input": [
      "plot(s_times, s_states[0,:])"
     ],
     "language": "python",
     "metadata": {},
     "outputs": [
      {
       "metadata": {},
       "output_type": "pyout",
       "prompt_number": 15,
       "text": [
        "[<matplotlib.lines.Line2D at 0x7f5234526dd0>]"
       ]
      },
      {
       "metadata": {},
       "output_type": "display_data",
       "png": "[encoded data removed]",
       "text": [
        "<matplotlib.figure.Figure at 0x7f5234739410>"
       ]
      }
     ],
     "prompt_number": 15
    },
    {
     "cell_type": "code",
     "collapsed": false,
     "input": [
      "amp_spec = fft.rfft(s_states, axis=1)\n",
      "freqs = fft.fftfreq(s_times.size, d=200/4096)"
     ],
     "language": "python",
     "metadata": {},
     "outputs": [],
     "prompt_number": 16
    },
    {
     "cell_type": "code",
     "collapsed": false,
     "input": [
      "amp_spec.shape"
     ],
     "language": "python",
     "metadata": {},
     "outputs": [
      {
       "metadata": {},
       "output_type": "pyout",
       "prompt_number": 17,
       "text": [
        "(1, 2049)"
       ]
      }
     ],
     "prompt_number": 17
    },
    {
     "cell_type": "code",
     "collapsed": false,
     "input": [
      "freqs[:2049].shape"
     ],
     "language": "python",
     "metadata": {},
     "outputs": [
      {
       "metadata": {},
       "output_type": "pyout",
       "prompt_number": 18,
       "text": [
        "(2049,)"
       ]
      }
     ],
     "prompt_number": 18
    },
    {
     "cell_type": "code",
     "collapsed": false,
     "input": [
      "plot(freqs[1:2048], abs(amp_spec[0,1:-1])**2)"
     ],
     "language": "python",
     "metadata": {},
     "outputs": [
      {
       "metadata": {},
       "output_type": "pyout",
       "prompt_number": 19,
       "text": [
        "[<matplotlib.lines.Line2D at 0x7f5234635ad0>]"
       ]
      },
      {
       "metadata": {},
       "output_type": "display_data",
       "png": "[encoded data removed]",
       "text": [
        "<matplotlib.figure.Figure at 0x7f5234672390>"
       ]
      }
     ],
     "prompt_number": 19
    },
    {
     "cell_type": "heading",
     "level": 2,
     "metadata": {},
     "source": [
      "Two-Reaction Toy Model"
     ]
    },
    {
     "cell_type": "code",
     "collapsed": false,
     "input": [
      "species = ['A', 'B']\n",
      "rxns = [ssad.Reaction([0], [1], [-1, +1], 10),\n",
      "        ssad.Reaction([1], [0], [+1, -1], 15, 5)]"
     ],
     "language": "python",
     "metadata": {},
     "outputs": [],
     "prompt_number": 21
    },
    {
     "cell_type": "code",
     "collapsed": false,
     "input": [
      "trj = ssad.Trajectory([50, 50], 1, rxns)"
     ],
     "language": "python",
     "metadata": {},
     "outputs": [],
     "prompt_number": 22
    },
    {
     "cell_type": "code",
     "collapsed": false,
     "input": [
      "trj.run_dynamics(50, 1e4)"
     ],
     "language": "python",
     "metadata": {},
     "outputs": [
      {
       "ename": "KeyboardInterrupt",
       "evalue": "",
       "output_type": "pyerr",
       "traceback": [
        "\u001b[1;31m---------------------------------------------------------------------------\u001b[0m\n\u001b[1;31mKeyboardInterrupt\u001b[0m                         Traceback (most recent call last)",
        "\u001b[1;32m<ipython-input-23-133bf3a23ca6>\u001b[0m in \u001b[0;36m<module>\u001b[1;34m()\u001b[0m\n\u001b[1;32m----> 1\u001b[1;33m \u001b[0mtrj\u001b[0m\u001b[1;33m.\u001b[0m\u001b[0mrun_dynamics\u001b[0m\u001b[1;33m(\u001b[0m\u001b[1;36m50\u001b[0m\u001b[1;33m,\u001b[0m \u001b[1;36m1e4\u001b[0m\u001b[1;33m)\u001b[0m\u001b[1;33m\u001b[0m\u001b[0m\n\u001b[0m",
        "\u001b[1;32m/home/max/Documents/Research/wessa-s2014/python/ssad.py\u001b[0m in \u001b[0;36mrun_dynamics\u001b[1;34m(self, duration, max_steps)\u001b[0m\n\u001b[0;32m    206\u001b[0m             \u001b[0mnext_rxn_delayed\u001b[0m \u001b[1;33m=\u001b[0m \u001b[1;32mFalse\u001b[0m\u001b[1;33m\u001b[0m\u001b[0m\n\u001b[0;32m    207\u001b[0m             \u001b[1;32mif\u001b[0m \u001b[0mlen\u001b[0m\u001b[1;33m(\u001b[0m\u001b[0mself\u001b[0m\u001b[1;33m.\u001b[0m\u001b[0mevent_queue\u001b[0m\u001b[1;33m)\u001b[0m \u001b[1;33m!=\u001b[0m \u001b[1;36m0\u001b[0m\u001b[1;33m:\u001b[0m\u001b[1;33m\u001b[0m\u001b[0m\n\u001b[1;32m--> 208\u001b[1;33m                 \u001b[0mnext_delayed\u001b[0m \u001b[1;33m=\u001b[0m \u001b[0mmin\u001b[0m\u001b[1;33m(\u001b[0m\u001b[0mself\u001b[0m\u001b[1;33m.\u001b[0m\u001b[0mevent_queue\u001b[0m\u001b[1;33m)\u001b[0m\u001b[1;33m\u001b[0m\u001b[0m\n\u001b[0m\u001b[0;32m    209\u001b[0m                 \u001b[1;32mif\u001b[0m \u001b[0mnext_delayed\u001b[0m\u001b[1;33m[\u001b[0m\u001b[1;36m0\u001b[0m\u001b[1;33m]\u001b[0m \u001b[1;33m<\u001b[0m \u001b[0mnext_rxn_time\u001b[0m\u001b[1;33m:\u001b[0m\u001b[1;33m\u001b[0m\u001b[0m\n\u001b[0;32m    210\u001b[0m                     \u001b[0mnext_delayed\u001b[0m \u001b[1;33m=\u001b[0m \u001b[0mheapq\u001b[0m\u001b[1;33m.\u001b[0m\u001b[0mheappop\u001b[0m\u001b[1;33m(\u001b[0m\u001b[0mself\u001b[0m\u001b[1;33m.\u001b[0m\u001b[0mevent_queue\u001b[0m\u001b[1;33m)\u001b[0m\u001b[1;33m\u001b[0m\u001b[0m\n",
        "\u001b[1;31mKeyboardInterrupt\u001b[0m: "
       ]
      }
     ],
     "prompt_number": 23
    },
    {
     "cell_type": "code",
     "collapsed": false,
     "input": [
      "len(trj.event_queue)"
     ],
     "language": "python",
     "metadata": {},
     "outputs": [
      {
       "metadata": {},
       "output_type": "pyout",
       "prompt_number": 24,
       "text": [
        "26515"
       ]
      }
     ],
     "prompt_number": 24
    },
    {
     "cell_type": "code",
     "collapsed": false,
     "input": [
      "trj.rxn_counter"
     ],
     "language": "python",
     "metadata": {},
     "outputs": [
      {
       "metadata": {},
       "output_type": "pyout",
       "prompt_number": 25,
       "text": [
        "50"
       ]
      }
     ],
     "prompt_number": 25
    },
    {
     "cell_type": "code",
     "collapsed": false,
     "input": [
      "trj.time"
     ],
     "language": "python",
     "metadata": {},
     "outputs": [
      {
       "metadata": {},
       "output_type": "pyout",
       "prompt_number": 26,
       "text": [
        "0.035129624791475154"
       ]
      }
     ],
     "prompt_number": 26
    },
    {
     "cell_type": "code",
     "collapsed": false,
     "input": [
      "trj.event_queue[:40]"
     ],
     "language": "python",
     "metadata": {},
     "outputs": [
      {
       "metadata": {},
       "output_type": "pyout",
       "prompt_number": 28,
       "text": [
        "[(5.002443525077695, <ssad.Reaction at 0x7f9cbc0664d0>),\n",
        " (5.002443525077695, <ssad.Reaction at 0x7f9cbc0664d0>),\n",
        " (5.002716662481702, <ssad.Reaction at 0x7f9cbc0664d0>),\n",
        " (5.0039357560293505, <ssad.Reaction at 0x7f9cbc0664d0>),\n",
        " (5.005291421814413, <ssad.Reaction at 0x7f9cbc0664d0>),\n",
        " (5.005291421814413, <ssad.Reaction at 0x7f9cbc0664d0>),\n",
        " (5.005368026557605, <ssad.Reaction at 0x7f9cbc0664d0>),\n",
        " (5.005368026557605, <ssad.Reaction at 0x7f9cbc0664d0>),\n",
        " (5.005368026557605, <ssad.Reaction at 0x7f9cbc0664d0>),\n",
        " (5.006009926731005, <ssad.Reaction at 0x7f9cbc0664d0>),\n",
        " (5.006245557314326, <ssad.Reaction at 0x7f9cbc0664d0>),\n",
        " (5.009362929174684, <ssad.Reaction at 0x7f9cbc0664d0>),\n",
        " (5.009362929174684, <ssad.Reaction at 0x7f9cbc0664d0>),\n",
        " (5.009362929174684, <ssad.Reaction at 0x7f9cbc0664d0>),\n",
        " (5.009362929174684, <ssad.Reaction at 0x7f9cbc0664d0>),\n",
        " (5.009362929174684, <ssad.Reaction at 0x7f9cbc0664d0>),\n",
        " (5.009362929174684, <ssad.Reaction at 0x7f9cbc0664d0>),\n",
        " (5.009362929174684, <ssad.Reaction at 0x7f9cbc0664d0>),\n",
        " (5.009362929174684, <ssad.Reaction at 0x7f9cbc0664d0>),\n",
        " (5.009362929174684, <ssad.Reaction at 0x7f9cbc0664d0>),\n",
        " (5.009362929174684, <ssad.Reaction at 0x7f9cbc0664d0>),\n",
        " (5.009527532940109, <ssad.Reaction at 0x7f9cbc0664d0>),\n",
        " (5.009527532940109, <ssad.Reaction at 0x7f9cbc0664d0>),\n",
        " (5.009527532940109, <ssad.Reaction at 0x7f9cbc0664d0>),\n",
        " (5.009527532940109, <ssad.Reaction at 0x7f9cbc0664d0>),\n",
        " (5.009527532940109, <ssad.Reaction at 0x7f9cbc0664d0>),\n",
        " (5.00996122757623, <ssad.Reaction at 0x7f9cbc0664d0>),\n",
        " (5.00996122757623, <ssad.Reaction at 0x7f9cbc0664d0>),\n",
        " (5.00996122757623, <ssad.Reaction at 0x7f9cbc0664d0>),\n",
        " (5.00996122757623, <ssad.Reaction at 0x7f9cbc0664d0>),\n",
        " (5.00996122757623, <ssad.Reaction at 0x7f9cbc0664d0>),\n",
        " (5.00996122757623, <ssad.Reaction at 0x7f9cbc0664d0>),\n",
        " (5.010371126294325, <ssad.Reaction at 0x7f9cbc0664d0>),\n",
        " (5.010371126294325, <ssad.Reaction at 0x7f9cbc0664d0>),\n",
        " (5.0111703028145795, <ssad.Reaction at 0x7f9cbc0664d0>),\n",
        " (5.0111703028145795, <ssad.Reaction at 0x7f9cbc0664d0>),\n",
        " (5.011286684128154, <ssad.Reaction at 0x7f9cbc0664d0>),\n",
        " (5.013781247016581, <ssad.Reaction at 0x7f9cbc0664d0>),\n",
        " (5.013781247016581, <ssad.Reaction at 0x7f9cbc0664d0>),\n",
        " (5.013781247016581, <ssad.Reaction at 0x7f9cbc0664d0>)]"
       ]
      }
     ],
     "prompt_number": 28
    },
    {
     "cell_type": "code",
     "collapsed": false,
     "input": [
      "min(trj.event_queue)"
     ],
     "language": "python",
     "metadata": {},
     "outputs": [
      {
       "metadata": {},
       "output_type": "pyout",
       "prompt_number": 29,
       "text": [
        "(5.002443525077695, <ssad.Reaction at 0x7f9cbc0664d0>)"
       ]
      }
     ],
     "prompt_number": 29
    },
    {
     "cell_type": "markdown",
     "metadata": {},
     "source": [
      "Not quite working as expected. Discuss later.\n",
      "\n",
      "Problems/issues:\n",
      "\n",
      "+ Why so many events piling up to execute at the same time? Bug or problem with algorithm?\n",
      "+ Why is update of state vector postponed until end of delay? Doesn't something happen when delayed reaction starts?"
     ]
    },
    {
     "cell_type": "heading",
     "level": 1,
     "metadata": {},
     "source": [
      "Simple (Verification) Test Cases"
     ]
    },
    {
     "cell_type": "heading",
     "level": 2,
     "metadata": {},
     "source": [
      "Constant-Rate Production"
     ]
    },
    {
     "cell_type": "code",
     "collapsed": false,
     "input": [
      "rxns = [Reaction([], [0], [+1], 10)]\n",
      "trjs = []\n",
      "ntrjs = 200\n",
      "for tidx in range(ntrjs):\n",
      "    trjs.append(Trajectory([0], 1/30, rxns))"
     ],
     "language": "python",
     "metadata": {},
     "outputs": [],
     "prompt_number": 25
    },
    {
     "cell_type": "code",
     "collapsed": false,
     "input": [
      "for trj in trjs:\n",
      "    trj.run_dynamics(200)"
     ],
     "language": "python",
     "metadata": {},
     "outputs": [],
     "prompt_number": 26
    },
    {
     "cell_type": "code",
     "collapsed": false,
     "input": [
      "weights = np.empty((ntrjs))\n",
      "states = np.empty((ntrjs, 1))"
     ],
     "language": "python",
     "metadata": {},
     "outputs": [],
     "prompt_number": 27
    },
    {
     "cell_type": "code",
     "collapsed": false,
     "input": [
      "for tidx, trj in enumerate(trjs):\n",
      "    weights[tidx] = trj.weight\n",
      "    states[tidx,:] = trj.state"
     ],
     "language": "python",
     "metadata": {},
     "outputs": [],
     "prompt_number": 28
    },
    {
     "cell_type": "code",
     "collapsed": false,
     "input": [
      "hist(states)"
     ],
     "language": "python",
     "metadata": {},
     "outputs": [
      {
       "metadata": {},
       "output_type": "pyout",
       "prompt_number": 29,
       "text": [
        "(array([  2.,   3.,  10.,  21.,  41.,  42.,  39.,  29.,  11.,   2.]),\n",
        " array([ 1858.,  1883.,  1908.,  1933.,  1958.,  1983.,  2008.,  2033.,\n",
        "        2058.,  2083.,  2108.]),\n",
        " <a list of 10 Patch objects>)"
       ]
      }
     ],
     "prompt_number": 29
    },
    {
     "cell_type": "heading",
     "level": 3,
     "metadata": {},
     "source": [
      "With multiple species"
     ]
    },
    {
     "cell_type": "code",
     "collapsed": false,
     "input": [
      "rxns = [Reaction([], [0], [+1, 0], 10),\n",
      "        Reaction([], [1], [0, +1], 5)]\n",
      "trjs = []\n",
      "ntrjs = 200\n",
      "for tidx in range(ntrjs):\n",
      "    trjs.append(Trajectory([0], 1/ntrjs, rxns))"
     ],
     "language": "python",
     "metadata": {},
     "outputs": [],
     "prompt_number": 30
    },
    {
     "cell_type": "code",
     "collapsed": false,
     "input": [
      "weights2 = np.empty((ntrjs))\n",
      "states2 = np.empty((ntrjs, 2))"
     ],
     "language": "python",
     "metadata": {},
     "outputs": [],
     "prompt_number": 31
    },
    {
     "cell_type": "code",
     "collapsed": false,
     "input": [
      "for tidx, trj in enumerate(trjs):\n",
      "    trj.run_dynamics(200)\n",
      "    weights2[tidx] = trj.weight\n",
      "    states2[tidx,:] = trj.state"
     ],
     "language": "python",
     "metadata": {},
     "outputs": [],
     "prompt_number": 32
    },
    {
     "cell_type": "code",
     "collapsed": false,
     "input": [
      "hist(states2[:,1])"
     ],
     "language": "python",
     "metadata": {},
     "outputs": [
      {
       "metadata": {},
       "output_type": "pyout",
       "prompt_number": 34,
       "text": [
        "(array([  1.,   4.,  10.,  22.,  30.,  61.,  35.,  25.,   9.,   3.]),\n",
        " array([  901. ,   918.9,   936.8,   954.7,   972.6,   990.5,  1008.4,\n",
        "        1026.3,  1044.2,  1062.1,  1080. ]),\n",
        " <a list of 10 Patch objects>)"
       ]
      }
     ],
     "prompt_number": 34
    },
    {
     "cell_type": "code",
     "collapsed": false,
     "input": [],
     "language": "python",
     "metadata": {},
     "outputs": []
    }
   ],
   "metadata": {}
  }
 ]
}