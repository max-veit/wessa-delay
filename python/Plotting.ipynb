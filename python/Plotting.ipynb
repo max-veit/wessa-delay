{
 "metadata": {
  "name": "",
  "signature": "sha256:9bfb612370ecd1f9122a0a51d18902033b2e5d52740b265b32aab36697af5e0a"
 },
 "nbformat": 3,
 "nbformat_minor": 0,
 "worksheets": [
  {
   "cells": [
    {
     "cell_type": "heading",
     "level": 1,
     "metadata": {},
     "source": [
      "Initialization"
     ]
    },
    {
     "cell_type": "code",
     "collapsed": false,
     "input": [
      "%pylab"
     ],
     "language": "python",
     "metadata": {},
     "outputs": [
      {
       "output_type": "stream",
       "stream": "stdout",
       "text": [
        "Using matplotlib backend: Qt4Agg\n",
        "Populating the interactive namespace from numpy and matplotlib\n"
       ]
      }
     ],
     "prompt_number": 1
    },
    {
     "cell_type": "code",
     "collapsed": false,
     "input": [
      "mpl.rcParams.update({'font.family': 'sans-serif',\n",
      "                     'font.size': 12,\n",
      "                     'legend.fontsize': 'small',\n",
      "                     'font.serif': ['CMU Serif'],\n",
      "                     'font.sans-serif': ['CMU Sans Serif'],\n",
      "                     'mathtext.default': 'regular',\n",
      "                     'pgf.texsystem': 'pdflatex',\n",
      "                     })"
     ],
     "language": "python",
     "metadata": {},
     "outputs": [],
     "prompt_number": 2
    },
    {
     "cell_type": "code",
     "collapsed": false,
     "input": [
      "from mpl_toolkits.axes_grid1 import ImageGrid\n",
      "import json\n",
      "import os.path"
     ],
     "language": "python",
     "metadata": {},
     "outputs": [],
     "prompt_number": 3
    },
    {
     "cell_type": "heading",
     "level": 1,
     "metadata": {},
     "source": [
      "Delayed Joint Distribution"
     ]
    },
    {
     "cell_type": "markdown",
     "metadata": {},
     "source": [
      "$A\\Omega = 100$"
     ]
    },
    {
     "cell_type": "code",
     "collapsed": false,
     "input": [
      "ddj_2 = np.load('output/ddjd_csweep0_wa100.npz')\n",
      "with open('params/ddjd_csweep0_wa100.json') as param_file:\n",
      "    params_2 = json.load(param_file)"
     ],
     "language": "python",
     "metadata": {},
     "outputs": [],
     "prompt_number": 4
    },
    {
     "cell_type": "code",
     "collapsed": false,
     "input": [
      "pdist_params = params_2['pdist_params']\n",
      "binrange = pdist_params['binrange']\n",
      "nbins = pdist_params['nbins']\n",
      "bin_lefts = np.linspace(*binrange, num=nbins, endpoint=False)\n",
      "bin_ctrs = bin_lefts + (bin_lefts[1] - bin_lefts[0]) / 2.0"
     ],
     "language": "python",
     "metadata": {},
     "outputs": [],
     "prompt_number": 5
    },
    {
     "cell_type": "code",
     "collapsed": false,
     "input": [
      "rxn_params = params_2['rxn_params']\n",
      "A_val = rxn_params['k_plus']\n",
      "B_val = rxn_params['k_minus']\n",
      "C_vals = ddj_2['C_vals']\n",
      "j_pdists = ddj_2['j_pdists']\n",
      "tau = rxn_params['tau_delay']"
     ],
     "language": "python",
     "metadata": {},
     "outputs": [],
     "prompt_number": 6
    },
    {
     "cell_type": "code",
     "collapsed": false,
     "input": [
      "C_vals"
     ],
     "language": "python",
     "metadata": {},
     "outputs": [
      {
       "metadata": {},
       "output_type": "pyout",
       "prompt_number": 7,
       "text": [
        "array([ 1.        ,  1.33333333,  1.66666667,  2.        ,  2.33333333,\n",
        "        2.66666667,  3.        ,  3.33333333,  3.66666667,  4.        ,\n",
        "        4.33333333,  4.66666667,  5.        ])"
       ]
      }
     ],
     "prompt_number": 7
    },
    {
     "cell_type": "code",
     "collapsed": false,
     "input": [
      "fig = figure()\n",
      "ax = fig.add_subplot(111, frameon=False)\n",
      "ax.set_xticks([])\n",
      "ax.set_yticks([])\n",
      "ax.set_xlabel('$n(t)$')\n",
      "ax.set_ylabel('$n(t - \\\\tau)$')\n",
      "ax.set_aspect(0.75)\n",
      "ax.set_position((0.05, 0.05, 0.9, 0.9))\n",
      "tiles = ImageGrid(fig, 111, nrows_ncols=(3, 4), axes_pad=0.2)\n",
      "for gridx in range(12):\n",
      "    tiles[gridx].pcolormesh(bin_lefts, bin_lefts, j_pdists[gridx,...].T, cmap='hot')\n",
      "    tiles[gridx].set_title('$C = {:.2g}$'.format(C_vals[gridx]), fontsize='small')\n",
      "fig.suptitle('Parameter sweep, $\\\\Omega A=100$, $B=3$, $C \\in [1, 5]$')"
     ],
     "language": "python",
     "metadata": {},
     "outputs": [
      {
       "metadata": {},
       "output_type": "pyout",
       "prompt_number": 9,
       "text": [
        "<matplotlib.text.Text at 0x7f0b5ef70668>"
       ]
      }
     ],
     "prompt_number": 9
    },
    {
     "cell_type": "code",
     "collapsed": false,
     "input": [
      "plot_idx = 7\n",
      "fig = figure()\n",
      "ax = fig.gca()\n",
      "ax.set_aspect('equal')\n",
      "ax.pcolormesh(bin_lefts, bin_lefts, j_pdists[plot_idx,...].T, cmap='hot')\n",
      "ax.set_xticks([])\n",
      "ax.set_yticks([])\n",
      "ax.set_xlim(0, max(bin_lefts))\n",
      "ax.set_ylim(0, max(bin_lefts))\n",
      "ax.set_xlabel('$(p, t)$', size=18)\n",
      "ax.set_ylabel(r'$(q, t - \\tau)$', size=18)\n",
      "fig.savefig('../results/presentation/ddjd-a{:g}-c{:.2g}.png'.format(A_val, C_vals[plot_idx]), bbox_inches='tight')"
     ],
     "language": "python",
     "metadata": {},
     "outputs": [],
     "prompt_number": 19
    },
    {
     "cell_type": "markdown",
     "metadata": {},
     "source": [
      "$A\\Omega = 10^3$"
     ]
    },
    {
     "cell_type": "code",
     "collapsed": false,
     "input": [
      "ddj_3 = np.load('output/ddjd_csweep0_wa1k.npz')\n",
      "with open('params/ddjd_csweep0_wa1k.json') as param_file:\n",
      "    params_3 = json.load(param_file)"
     ],
     "language": "python",
     "metadata": {},
     "outputs": [],
     "prompt_number": 113
    },
    {
     "cell_type": "code",
     "collapsed": false,
     "input": [
      "pdist_params = params_3['pdist_params']\n",
      "binrange = pdist_params['binrange']\n",
      "nbins = pdist_params['nbins']\n",
      "bin_lefts = np.linspace(*binrange, num=nbins, endpoint=False)\n",
      "bin_ctrs = bin_lefts + (bin_lefts[1] - bin_lefts[0]) / 2.0"
     ],
     "language": "python",
     "metadata": {},
     "outputs": [],
     "prompt_number": 114
    },
    {
     "cell_type": "code",
     "collapsed": false,
     "input": [
      "rxn_params = params_3['rxn_params']\n",
      "A_val = rxn_params['k_plus']\n",
      "B_val = rxn_params['k_minus']\n",
      "C_vals = ddj_3['C_vals']\n",
      "j_pdists = ddj_3['j_pdists']\n",
      "tau = rxn_params['tau_delay']"
     ],
     "language": "python",
     "metadata": {},
     "outputs": [],
     "prompt_number": 126
    },
    {
     "cell_type": "code",
     "collapsed": false,
     "input": [
      "fig = figure()\n",
      "ax = fig.add_subplot(111, frameon=False)\n",
      "ax.set_xticks([])\n",
      "ax.set_yticks([])\n",
      "ax.set_xlabel('$n(t)$')\n",
      "ax.set_ylabel('$n(t - \\\\tau)$')\n",
      "ax.set_aspect(0.75)\n",
      "ax.set_position((0.05, 0.05, 0.9, 0.9))\n",
      "tiles = ImageGrid(fig, 111, nrows_ncols=(3, 4), axes_pad=0.1)\n",
      "for gridx in range(12):\n",
      "    tiles[gridx].pcolormesh(bin_lefts, bin_lefts, j_pdists[gridx,...].T, cmap='hot')\n",
      "fig.suptitle('Parameter sweep, $\\\\Omega A=1000$, $B=3$, $C \\in [1, 5]$')"
     ],
     "language": "python",
     "metadata": {},
     "outputs": [
      {
       "metadata": {},
       "output_type": "pyout",
       "prompt_number": 121,
       "text": [
        "<matplotlib.text.Text at 0x7f0f77564ac8>"
       ]
      }
     ],
     "prompt_number": 121
    },
    {
     "cell_type": "markdown",
     "metadata": {},
     "source": [
      "$A\\Omega = 10^4$"
     ]
    },
    {
     "cell_type": "code",
     "collapsed": false,
     "input": [
      "ddj_4 = np.load('output/ddjd_csweep0_wa10k.npz')\n",
      "with open('params/ddjd_csweep0_wa10k.json') as param_file:\n",
      "    params_4 = json.load(param_file)"
     ],
     "language": "python",
     "metadata": {},
     "outputs": [],
     "prompt_number": 122
    },
    {
     "cell_type": "code",
     "collapsed": false,
     "input": [
      "pdist_params = params_4['pdist_params']\n",
      "binrange = pdist_params['binrange']\n",
      "nbins = pdist_params['nbins']\n",
      "bin_lefts = np.linspace(*binrange, num=nbins, endpoint=False)\n",
      "bin_ctrs = bin_lefts + (bin_lefts[1] - bin_lefts[0]) / 2.0"
     ],
     "language": "python",
     "metadata": {},
     "outputs": [],
     "prompt_number": 123
    },
    {
     "cell_type": "code",
     "collapsed": false,
     "input": [
      "rxn_params = params_4['rxn_params']\n",
      "A_val = rxn_params['k_plus']\n",
      "B_val = rxn_params['k_minus']\n",
      "C_vals = ddj_4['C_vals']\n",
      "j_pdists = ddj_4['j_pdists']\n",
      "tau = rxn_params['tau_delay']"
     ],
     "language": "python",
     "metadata": {},
     "outputs": [],
     "prompt_number": 124
    },
    {
     "cell_type": "code",
     "collapsed": false,
     "input": [
      "fig = figure()\n",
      "ax = fig.add_subplot(111, frameon=False)\n",
      "ax.set_xticks([])\n",
      "ax.set_yticks([])\n",
      "ax.set_xlabel('$n(t)$')\n",
      "ax.set_ylabel('$n(t - \\\\tau)$')\n",
      "ax.set_aspect(0.75)\n",
      "ax.set_position((0.05, 0.05, 0.9, 0.9))\n",
      "tiles = ImageGrid(fig, 111, nrows_ncols=(3, 4), axes_pad=0.1)\n",
      "for gridx in range(12):\n",
      "    tiles[gridx].pcolormesh(bin_lefts, bin_lefts, j_pdists[gridx,...].T, cmap='hot')\n",
      "fig.suptitle('Parameter sweep, $\\\\Omega A=10\\,000$, $B=3$, $C \\in [1, 5]$')"
     ],
     "language": "python",
     "metadata": {},
     "outputs": [
      {
       "metadata": {},
       "output_type": "pyout",
       "prompt_number": 125,
       "text": [
        "<matplotlib.text.Text at 0x7f0f76c1da90>"
       ]
      }
     ],
     "prompt_number": 125
    },
    {
     "cell_type": "markdown",
     "metadata": {},
     "source": [
      "$A\\Omega = 10$, $B = 4.5$, $\\tau = 1.0$"
     ]
    },
    {
     "cell_type": "code",
     "collapsed": false,
     "input": [
      "ddj1_10 = np.load('output/ddjd_csweep2_wa10.npz')\n",
      "with open('params/ddjd_csweep2_wa10.json') as param_file:\n",
      "    params1_10 = json.load(param_file)"
     ],
     "language": "python",
     "metadata": {},
     "outputs": [],
     "prompt_number": 206
    },
    {
     "cell_type": "code",
     "collapsed": false,
     "input": [
      "pdist_params = params1_10['pdist_params']\n",
      "binrange = pdist_params['binrange']\n",
      "nbins = pdist_params['nbins']\n",
      "bin_lefts = np.linspace(*binrange, num=nbins, endpoint=False)\n",
      "bin_ctrs = bin_lefts + (bin_lefts[1] - bin_lefts[0]) / 2.0"
     ],
     "language": "python",
     "metadata": {},
     "outputs": [],
     "prompt_number": 207
    },
    {
     "cell_type": "code",
     "collapsed": false,
     "input": [
      "rxn_params = params1_10['rxn_params']\n",
      "A_val = rxn_params['k_plus']\n",
      "B_val = rxn_params['k_minus']\n",
      "C_vals = ddj1_10['C_vals']\n",
      "j_pdists = ddj1_10['j_pdists']\n",
      "tau = rxn_params['tau_delay']"
     ],
     "language": "python",
     "metadata": {},
     "outputs": [],
     "prompt_number": 208
    },
    {
     "cell_type": "code",
     "collapsed": false,
     "input": [
      "fig = figure()\n",
      "ax = fig.add_subplot(111, frameon=False)\n",
      "ax.set_xticks([])\n",
      "ax.set_yticks([])\n",
      "ax.set_xlabel('$n(t)$')\n",
      "ax.set_ylabel('$n(t - \\\\tau)$')\n",
      "ax.set_aspect('equal')\n",
      "ax.set_position((0.05, 0.05, 0.9, 0.9))\n",
      "tiles = ImageGrid(fig, 111, nrows_ncols=(4, 4), axes_pad=0.2)\n",
      "for gridx in range(16):\n",
      "    tiles[gridx].pcolormesh(bin_lefts, bin_lefts, j_pdists[gridx,...].T, cmap='hot')\n",
      "    tiles[gridx].set_title('$C = {:.2g}$'.format(C_vals[gridx]), fontsize='small')\n",
      "fig.suptitle('Parameter sweep, $\\\\Omega A={:g}$, $B=4.5$, $\\\\tau = 1.0$, $C \\in [{:.3g}, {:.3g}]$'.format(A_val, min(C_vals), max(C_vals)))"
     ],
     "language": "python",
     "metadata": {},
     "outputs": [
      {
       "metadata": {},
       "output_type": "pyout",
       "prompt_number": 251,
       "text": [
        "<matplotlib.text.Text at 0x7f53dc98c9b0>"
       ]
      }
     ],
     "prompt_number": 251
    },
    {
     "cell_type": "code",
     "collapsed": false,
     "input": [
      "pcolormesh(j_pdists[3,...].T, cmap='hot')"
     ],
     "language": "python",
     "metadata": {},
     "outputs": [
      {
       "metadata": {},
       "output_type": "pyout",
       "prompt_number": 210,
       "text": [
        "<matplotlib.collections.QuadMesh at 0x7f53de76b2b0>"
       ]
      }
     ],
     "prompt_number": 210
    },
    {
     "cell_type": "markdown",
     "metadata": {},
     "source": [
      "$A\\Omega = 100$, $B = 4.5$, $\\tau = 1.0$"
     ]
    },
    {
     "cell_type": "code",
     "collapsed": false,
     "input": [
      "ddj1_1 = np.load('output/ddjd_csweep2_wa100.npz')\n",
      "with open('params/ddjd_csweep2_wa100.json') as param_file:\n",
      "    params1_1 = json.load(param_file)"
     ],
     "language": "python",
     "metadata": {},
     "outputs": [],
     "prompt_number": 180
    },
    {
     "cell_type": "code",
     "collapsed": false,
     "input": [
      "pdist_params = params1_1['pdist_params']\n",
      "binrange = pdist_params['binrange']\n",
      "nbins = pdist_params['nbins']\n",
      "bin_lefts = np.linspace(*binrange, num=nbins, endpoint=False)\n",
      "bin_ctrs = bin_lefts + (bin_lefts[1] - bin_lefts[0]) / 2.0"
     ],
     "language": "python",
     "metadata": {},
     "outputs": [],
     "prompt_number": 181
    },
    {
     "cell_type": "code",
     "collapsed": false,
     "input": [
      "rxn_params = params1_1['rxn_params']\n",
      "A_val = rxn_params['k_plus']\n",
      "B_val = rxn_params['k_minus']\n",
      "C_vals = ddj1_1['C_vals']\n",
      "j_pdists = ddj1_1['j_pdists']\n",
      "tau = rxn_params['tau_delay']"
     ],
     "language": "python",
     "metadata": {},
     "outputs": [],
     "prompt_number": 182
    },
    {
     "cell_type": "code",
     "collapsed": false,
     "input": [
      "fig = figure()\n",
      "ax = fig.add_subplot(111, frameon=False)\n",
      "ax.set_xticks([])\n",
      "ax.set_yticks([])\n",
      "ax.set_xlabel('$n(t)$')\n",
      "ax.set_ylabel('$n(t - \\\\tau)$')\n",
      "ax.set_aspect(1.0)\n",
      "ax.set_position((0.05, 0.05, 0.9, 0.9))\n",
      "tiles = ImageGrid(fig, 111, nrows_ncols=(4, 4), axes_pad=0.2)\n",
      "for gridx in range(16):\n",
      "    tiles[gridx].pcolormesh(bin_lefts, bin_lefts, j_pdists[gridx,...].T, cmap='hot')\n",
      "    tiles[gridx].set_title('$C = {:.2g}$'.format(C_vals[gridx]), fontsize='small')\n",
      "fig.suptitle('Parameter sweep, $\\\\Omega A={:g}$, $B=4.5$, $\\\\tau = 1.0$, $C \\in [{:.3g}, {:.3g}]$'.format(A_val, min(C_vals), max(C_vals)))"
     ],
     "language": "python",
     "metadata": {},
     "outputs": [
      {
       "metadata": {},
       "output_type": "pyout",
       "prompt_number": 183,
       "text": [
        "<matplotlib.text.Text at 0x7f98f8222f98>"
       ]
      }
     ],
     "prompt_number": 183
    },
    {
     "cell_type": "markdown",
     "metadata": {},
     "source": [
      "$A\\Omega = 400$, $B = 4.5$, $\\tau = 1.0$"
     ]
    },
    {
     "cell_type": "code",
     "collapsed": false,
     "input": [
      "ddj1_4 = np.load('output/ddjd_csweep2_wa400.npz')\n",
      "with open('params/ddjd_csweep2_wa400.json') as param_file:\n",
      "    params1_4 = json.load(param_file)"
     ],
     "language": "python",
     "metadata": {},
     "outputs": [],
     "prompt_number": 166
    },
    {
     "cell_type": "code",
     "collapsed": false,
     "input": [
      "pdist_params = params1_4['pdist_params']\n",
      "binrange = pdist_params['binrange']\n",
      "nbins = pdist_params['nbins']\n",
      "bin_lefts = np.linspace(*binrange, num=nbins, endpoint=False)\n",
      "bin_ctrs = bin_lefts + (bin_lefts[1] - bin_lefts[0]) / 2.0"
     ],
     "language": "python",
     "metadata": {},
     "outputs": [],
     "prompt_number": 167
    },
    {
     "cell_type": "code",
     "collapsed": false,
     "input": [
      "rxn_params = params1_4['rxn_params']\n",
      "A_val = rxn_params['k_plus']\n",
      "B_val = rxn_params['k_minus']\n",
      "C_vals = ddj1_4['C_vals']\n",
      "j_pdists = ddj1_4['j_pdists']\n",
      "tau = rxn_params['tau_delay']"
     ],
     "language": "python",
     "metadata": {},
     "outputs": [],
     "prompt_number": 168
    },
    {
     "cell_type": "code",
     "collapsed": false,
     "input": [
      "fig = figure()\n",
      "ax = fig.add_subplot(111, frameon=False)\n",
      "ax.set_xticks([])\n",
      "ax.set_yticks([])\n",
      "ax.set_xlabel('$n(t)$')\n",
      "ax.set_ylabel('$n(t - \\\\tau)$')\n",
      "ax.set_aspect(1.0)\n",
      "ax.set_position((0.05, 0.05, 0.9, 0.9))\n",
      "tiles = ImageGrid(fig, 111, nrows_ncols=(4, 4), axes_pad=0.2)\n",
      "for gridx in range(16):\n",
      "    tiles[gridx].pcolormesh(bin_lefts, bin_lefts, j_pdists[gridx,...].T, cmap='hot')\n",
      "    tiles[gridx].set_title('$C = {:.2g}$'.format(C_vals[gridx]), fontsize='small')\n",
      "fig.suptitle('Parameter sweep, $\\\\Omega A={:g}$, $B=4.5$, $\\\\tau = 1.0$, $C \\in [{:.3g}, {:.3g}]$'.format(A_val, min(C_vals), max(C_vals)))"
     ],
     "language": "python",
     "metadata": {},
     "outputs": [
      {
       "metadata": {},
       "output_type": "pyout",
       "prompt_number": 169,
       "text": [
        "<matplotlib.text.Text at 0x7f98f9efcf98>"
       ]
      }
     ],
     "prompt_number": 169
    },
    {
     "cell_type": "heading",
     "level": 2,
     "metadata": {},
     "source": [
      "Conditional Averages"
     ]
    },
    {
     "cell_type": "code",
     "collapsed": false,
     "input": [
      "margdist_n = np.sum(j_pdists, axis=2)\n",
      "# The division here takes care of any normalization factors on the joint distribution\n",
      "cond_avg = np.sum(j_pdists * bin_ctrs[np.newaxis,np.newaxis,:] / margdist_n[:,:,np.newaxis], axis=2)"
     ],
     "language": "python",
     "metadata": {},
     "outputs": [],
     "prompt_number": 198
    },
    {
     "cell_type": "code",
     "collapsed": false,
     "input": [
      "cond_avg.shape"
     ],
     "language": "python",
     "metadata": {},
     "outputs": [
      {
       "metadata": {},
       "output_type": "pyout",
       "prompt_number": 99,
       "text": [
        "(13, 60)"
       ]
      }
     ],
     "prompt_number": 99
    },
    {
     "cell_type": "markdown",
     "metadata": {},
     "source": [
      "The Langevin limit: a straight line"
     ]
    },
    {
     "cell_type": "code",
     "collapsed": false,
     "input": [
      "C_idx = 12\n",
      "C_val = C_vals[C_idx]\n",
      "omega_h = np.sqrt(C_val**2 - B_val**2)\n",
      "ca_slope = (omega_h * np.cos(omega_h * tau) - B_val * np.sin(omega_h * tau)) / (omega_h + C_val * np.sin(omega_h * tau))\n",
      "n_star = A_val / (B_val + C_val)\n",
      "m_avg = np.sum(j_pdists[C_idx,...] * bin_ctrs[np.newaxis,:]) / np.sum(j_pdists[C_idx,...])\n",
      "m_avg_lower = np.sum(np.tril(j_pdists[C_idx]) * bin_ctrs[np.newaxis,:]) / np.sum(np.tril(j_pdists[C_idx,...]))"
     ],
     "language": "python",
     "metadata": {},
     "outputs": [],
     "prompt_number": 204
    },
    {
     "cell_type": "code",
     "collapsed": false,
     "input": [
      "m_avg"
     ],
     "language": "python",
     "metadata": {},
     "outputs": [
      {
       "metadata": {},
       "output_type": "pyout",
       "prompt_number": 200,
       "text": [
        "16.924757126402184"
       ]
      }
     ],
     "prompt_number": 200
    },
    {
     "cell_type": "code",
     "collapsed": false,
     "input": [
      "m_avg_lower"
     ],
     "language": "python",
     "metadata": {},
     "outputs": [
      {
       "metadata": {},
       "output_type": "pyout",
       "prompt_number": 201,
       "text": [
        "8.8533908141545616"
       ]
      }
     ],
     "prompt_number": 201
    },
    {
     "cell_type": "code",
     "collapsed": false,
     "input": [
      "omega_h"
     ],
     "language": "python",
     "metadata": {},
     "outputs": [
      {
       "metadata": {},
       "output_type": "pyout",
       "prompt_number": 16,
       "text": [
        "2.179449471770337"
       ]
      }
     ],
     "prompt_number": 16
    },
    {
     "cell_type": "code",
     "collapsed": false,
     "input": [
      "fig = figure()\n",
      "plot((bin_ctrs - n_star) / np.sqrt(A_val), (cond_avg[C_idx,...] - n_star) / np.sqrt(A_val), figure=fig)\n",
      "xi_grid = np.linspace(-8, 8, 100)\n",
      "plot(xi_grid, ca_slope * xi_grid)\n",
      "print(C_val)"
     ],
     "language": "python",
     "metadata": {},
     "outputs": [
      {
       "output_type": "stream",
       "stream": "stdout",
       "text": [
        "2.0\n"
       ]
      }
     ],
     "prompt_number": 148
    },
    {
     "cell_type": "code",
     "collapsed": false,
     "input": [
      "fig = figure()\n",
      "ax = fig.gca()\n",
      "im = ax.pcolor(bin_lefts, bin_lefts, j_pdists[C_idx,...].T, cmap='hot')\n",
      "#ax.plot((xi_grid * np.sqrt(A_val)) + n_star, (ca_slope * xi_grid * np.sqrt(A_val)) + n_star, color='blue', linewidth=2.0)\n",
      "ax.plot(bin_ctrs, m_avg_lower * ones_like(bin_ctrs), color='RoyalBlue', linewidth=2.0)\n",
      "ax.plot(bin_ctrs, cond_avg[C_idx,...], color='green', linewidth=2.0)\n",
      "n_max = 50\n",
      "ax.set_ylim(0, n_max)\n",
      "ax.set_xlim(0, n_max)\n",
      "ax.set_aspect('equal')\n",
      "ax.set_xlabel('$(p, t)$')\n",
      "ax.set_ylabel(r'$(q, t - \\tau)$')\n",
      "ax.set_title(r'Delayed Distribution, $A = {:g}$, $B = {:g}$, $C = {:.3g}$, $\\tau = {:g}$'.format(A_val, B_val, C_val, tau))"
     ],
     "language": "python",
     "metadata": {},
     "outputs": [
      {
       "metadata": {},
       "output_type": "pyout",
       "prompt_number": 207,
       "text": [
        "<matplotlib.text.Text at 0x7f98f4cecc50>"
       ]
      }
     ],
     "prompt_number": 207
    },
    {
     "cell_type": "code",
     "collapsed": false,
     "input": [
      "fig_name = 'ddjd-ca-a{:g}-c{:.2g}-t{:g}'.format(A_val, C_val, tau).replace('.', ',') + '.png'\n",
      "fig.savefig(os.path.join('../results/presentation', fig_name), bbox_inches='tight')"
     ],
     "language": "python",
     "metadata": {},
     "outputs": [],
     "prompt_number": 208
    },
    {
     "cell_type": "code",
     "collapsed": false,
     "input": [
      "plot(bin_ctrs, cond_avg.T)\n",
      "legend(['$C = {:.2g}$'.format(C_val) for C_val in C_vals[:12]])"
     ],
     "language": "python",
     "metadata": {},
     "outputs": [
      {
       "metadata": {},
       "output_type": "pyout",
       "prompt_number": 157,
       "text": [
        "<matplotlib.legend.Legend at 0x7f0f729724e0>"
       ]
      }
     ],
     "prompt_number": 157
    },
    {
     "cell_type": "heading",
     "level": 1,
     "metadata": {},
     "source": [
      "Weighted-Ensemble Verification"
     ]
    },
    {
     "cell_type": "markdown",
     "metadata": {},
     "source": [
      "For the delayed-deg system below the Hopf bifurcation:\n",
      "\n",
      "Analytical distribution is $P(\\xi) = \\sqrt{\\frac{b + c}{2\\pi (1 + c\\tau)}}\\exp\\left(- \\frac{b + c}{2 (1 + c\\tau)}\\xi^2 \\right)$ (as a function of fluctuation $\\xi$ from the mean of $x^\\star = \\frac{a}{b+c}$)"
     ]
    },
    {
     "cell_type": "markdown",
     "metadata": {},
     "source": [
      "$A\\Omega = 100$, $\\tau = 20$"
     ]
    },
    {
     "cell_type": "code",
     "collapsed": false,
     "input": [
      "ddwe1_res = np.load('output/ddwe_gauss_t20_wa100_res.npz')\n",
      "ddwe1_nores = np.load('output/ddwe_gauss_t20_wa100_nores.npz')"
     ],
     "language": "python",
     "metadata": {},
     "outputs": [],
     "prompt_number": 91
    },
    {
     "cell_type": "code",
     "collapsed": false,
     "input": [
      "param_fname = str(ddwe1_res['param_fname'])\n",
      "with open(param_fname, 'r') as param_file:\n",
      "    pdwe_params = json.load(param_file)\n",
      "rxn_list = pdwe_params['rxn_list']\n",
      "prmA = rxn_list[0]['propensity_const']\n",
      "prmB = rxn_list[1]['propensity_const']\n",
      "prmC = rxn_list[2]['propensity_const']\n",
      "prmTau = rxn_list[2]['delay']"
     ],
     "language": "python",
     "metadata": {},
     "outputs": [],
     "prompt_number": 92
    },
    {
     "cell_type": "code",
     "collapsed": false,
     "input": [
      "pdists_res = ddwe1_res['prob_dists']\n",
      "pdists_nores = ddwe1_nores['prob_dists']\n",
      "bincts_res = ddwe1_res['bin_counts']\n",
      "bincts_nores = ddwe1_nores['bin_counts']\n",
      "bin_xs = ddwe1_res['bin_xs']\n",
      "nens = pdists_res.shape[0]"
     ],
     "language": "python",
     "metadata": {},
     "outputs": [],
     "prompt_number": 93
    },
    {
     "cell_type": "markdown",
     "metadata": {},
     "source": [
      "$A\\Omega = 200$"
     ]
    },
    {
     "cell_type": "code",
     "collapsed": false,
     "input": [
      "ddwe2_res = np.load('output/ddwe_gauss_wa200_freqres.npz')\n",
      "ddwe2_nores = np.load('output/ddwe_gauss_wa200_freqnores.npz')"
     ],
     "language": "python",
     "metadata": {},
     "outputs": [],
     "prompt_number": 477
    },
    {
     "cell_type": "code",
     "collapsed": false,
     "input": [
      "rxn_params = ddwe2_res['rxn_params'][()]\n",
      "print(rxn_params)\n",
      "prmA = rxn_params['k_plus']\n",
      "prmB = rxn_params['k_minus']\n",
      "prmC = rxn_params['k_delayed']\n",
      "prmTau = rxn_params['tau_delay']"
     ],
     "language": "python",
     "metadata": {},
     "outputs": [
      {
       "output_type": "stream",
       "stream": "stdout",
       "text": [
        "{'tau_delay': 20.0, 'k_delayed': 1.0, 'k_plus': 200.0, 'k_minus': 3.0}\n"
       ]
      }
     ],
     "prompt_number": 478
    },
    {
     "cell_type": "code",
     "collapsed": false,
     "input": [
      "pdists_res = ddwe2_res['prob_dists']\n",
      "pdists_nores = ddwe2_nores['prob_dists']\n",
      "bincts_res = ddwe2_res['bin_counts']\n",
      "bincts_nores = ddwe2_nores['bin_counts']\n",
      "bin_xs = ddwe2_res['bin_xs']\n",
      "nens = pdists_res.shape[0]"
     ],
     "language": "python",
     "metadata": {},
     "outputs": [],
     "prompt_number": 479
    },
    {
     "cell_type": "markdown",
     "metadata": {},
     "source": [
      "$A\\Omega = 400$"
     ]
    },
    {
     "cell_type": "code",
     "collapsed": false,
     "input": [
      "ddwe4_res = np.load('output/ddwe_gauss_wa400_freqres.npz')\n",
      "ddwe4_nores = np.load('output/ddwe_gauss_wa400_freqnores.npz')"
     ],
     "language": "python",
     "metadata": {},
     "outputs": [],
     "prompt_number": 443
    },
    {
     "cell_type": "code",
     "collapsed": false,
     "input": [
      "rxn_params = ddwe4_res['rxn_params'][()]\n",
      "print(rxn_params)\n",
      "prmA = rxn_params['k_plus']\n",
      "prmB = rxn_params['k_minus']\n",
      "prmC = rxn_params['k_delayed']\n",
      "prmTau = rxn_params['tau_delay']"
     ],
     "language": "python",
     "metadata": {},
     "outputs": [
      {
       "output_type": "stream",
       "stream": "stdout",
       "text": [
        "{'k_plus': 400.0, 'tau_delay': 20.0, 'k_minus': 3.0, 'k_delayed': 1.0}\n"
       ]
      }
     ],
     "prompt_number": 444
    },
    {
     "cell_type": "code",
     "collapsed": false,
     "input": [
      "pdists_res = ddwe4_res['prob_dists']\n",
      "pdists_nores = ddwe4_nores['prob_dists']\n",
      "bincts_res = ddwe4_res['bin_counts']\n",
      "bincts_nores = ddwe4_nores['bin_counts']\n",
      "bin_xs = ddwe4_res['bin_xs']\n",
      "nens = pdists_res.shape[0]"
     ],
     "language": "python",
     "metadata": {},
     "outputs": [],
     "prompt_number": 445
    },
    {
     "cell_type": "markdown",
     "metadata": {},
     "source": [
      "$A\\Omega = 800$, $\\tau = 20$"
     ]
    },
    {
     "cell_type": "code",
     "collapsed": false,
     "input": [
      "ddwe208_res = np.load('output/ddwe_gauss_t20_wa800_res.npz')\n",
      "ddwe208_nores = np.load('output/ddwe_gauss_t20_wa800_nores.npz')"
     ],
     "language": "python",
     "metadata": {},
     "outputs": [],
     "prompt_number": 96
    },
    {
     "cell_type": "code",
     "collapsed": false,
     "input": [
      "param_fname = str(ddwe208_res['param_fname'])\n",
      "with open(param_fname, 'r') as param_file:\n",
      "    pdwe_params = json.load(param_file)\n",
      "rxn_list = pdwe_params['rxn_list']\n",
      "prmA = rxn_list[0]['propensity_const']\n",
      "prmB = rxn_list[1]['propensity_const']\n",
      "prmC = rxn_list[2]['propensity_const']\n",
      "prmTau = rxn_list[2]['delay']"
     ],
     "language": "python",
     "metadata": {},
     "outputs": [],
     "prompt_number": 97
    },
    {
     "cell_type": "code",
     "collapsed": false,
     "input": [
      "pdists_res = ddwe208_res['prob_dists']\n",
      "pdists_nores = ddwe208_nores['prob_dists']\n",
      "bincts_res = ddwe208_res['bin_counts']\n",
      "bincts_nores = ddwe208_nores['bin_counts']\n",
      "bin_xs = ddwe208_res['bin_xs']\n",
      "nens = pdists_res.shape[0]"
     ],
     "language": "python",
     "metadata": {},
     "outputs": [],
     "prompt_number": 98
    },
    {
     "cell_type": "markdown",
     "metadata": {},
     "source": [
      "$A\\Omega = 100$, $\\tau = 1$"
     ]
    },
    {
     "cell_type": "code",
     "collapsed": false,
     "input": [
      "ddwe11_res = np.load('output/ddwe_gauss_t1_wa100_res.npz')\n",
      "ddwe11_nores = np.load('output/ddwe_gauss_t1_wa100_nores.npz')"
     ],
     "language": "python",
     "metadata": {},
     "outputs": [],
     "prompt_number": 98
    },
    {
     "cell_type": "code",
     "collapsed": false,
     "input": [
      "param_fname = str(ddwe11_res['param_fname'])\n",
      "with open(param_fname, 'r') as param_file:\n",
      "    pdwe_params = json.load(param_file)\n",
      "rxn_list = pdwe_params['rxn_list']\n",
      "prmA = rxn_list[0]['propensity_const']\n",
      "prmB = rxn_list[1]['propensity_const']\n",
      "prmC = rxn_list[2]['propensity_const']\n",
      "prmTau = rxn_list[2]['delay']"
     ],
     "language": "python",
     "metadata": {},
     "outputs": [],
     "prompt_number": 99
    },
    {
     "cell_type": "code",
     "collapsed": false,
     "input": [
      "pdists_res = ddwe11_res['prob_dists']\n",
      "pdists_nores = ddwe11_nores['prob_dists']\n",
      "bincts_res = ddwe11_res['bin_counts']\n",
      "bincts_nores = ddwe11_nores['bin_counts']\n",
      "bin_xs = ddwe11_res['bin_xs']\n",
      "nens = pdists_res.shape[0]"
     ],
     "language": "python",
     "metadata": {},
     "outputs": [],
     "prompt_number": 100
    },
    {
     "cell_type": "markdown",
     "metadata": {},
     "source": [
      "$A\\Omega = 400$, $\\tau = 1$"
     ]
    },
    {
     "cell_type": "code",
     "collapsed": false,
     "input": [
      "ddwe14_res = np.load('output/ddwe_gauss_t1_wa400_res.npz')\n",
      "ddwe14_nores = np.load('output/ddwe_gauss_t1_wa400_nores.npz')"
     ],
     "language": "python",
     "metadata": {},
     "outputs": [],
     "prompt_number": 28
    },
    {
     "cell_type": "code",
     "collapsed": false,
     "input": [
      "param_fname = str(ddwe14_res['param_fname'])\n",
      "with open(param_fname, 'r') as param_file:\n",
      "    pdwe_params = json.load(param_file)\n",
      "rxn_list = pdwe_params['rxn_list']\n",
      "prmA = rxn_list[0]['propensity_const']\n",
      "prmB = rxn_list[1]['propensity_const']\n",
      "prmC = rxn_list[2]['propensity_const']\n",
      "prmTau = rxn_list[2]['delay']"
     ],
     "language": "python",
     "metadata": {},
     "outputs": [],
     "prompt_number": 29
    },
    {
     "cell_type": "code",
     "collapsed": false,
     "input": [
      "pdists_res = ddwe14_res['prob_dists']\n",
      "pdists_nores = ddwe14_nores['prob_dists']\n",
      "bincts_res = ddwe14_res['bin_counts']\n",
      "bincts_nores = ddwe14_nores['bin_counts']\n",
      "bin_xs = ddwe14_res['bin_xs']\n",
      "nens = pdists_res.shape[0]"
     ],
     "language": "python",
     "metadata": {},
     "outputs": [],
     "prompt_number": 30
    },
    {
     "cell_type": "markdown",
     "metadata": {},
     "source": [
      "$A\\Omega = 800$, $\\tau = 1$"
     ]
    },
    {
     "cell_type": "code",
     "collapsed": false,
     "input": [
      "ddwe18_res = np.load('output/ddwe_gauss_t1_wa800_res.npz')\n",
      "ddwe18_nores = np.load('output/ddwe_gauss_t1_wa800_nores.npz')"
     ],
     "language": "python",
     "metadata": {},
     "outputs": [],
     "prompt_number": 107
    },
    {
     "cell_type": "code",
     "collapsed": false,
     "input": [
      "param_fname = str(ddwe18_res['param_fname'])\n",
      "with open(param_fname, 'r') as param_file:\n",
      "    pdwe_params = json.load(param_file)\n",
      "rxn_list = pdwe_params['rxn_list']\n",
      "prmA = rxn_list[0]['propensity_const']\n",
      "prmB = rxn_list[1]['propensity_const']\n",
      "prmC = rxn_list[2]['propensity_const']\n",
      "prmTau = rxn_list[2]['delay']"
     ],
     "language": "python",
     "metadata": {},
     "outputs": [],
     "prompt_number": 108
    },
    {
     "cell_type": "code",
     "collapsed": false,
     "input": [
      "pdists_res = ddwe18_res['prob_dists']\n",
      "pdists_nores = ddwe18_nores['prob_dists']\n",
      "bincts_res = ddwe18_res['bin_counts']\n",
      "bincts_nores = ddwe18_nores['bin_counts']\n",
      "bin_xs = ddwe18_res['bin_xs']\n",
      "nens = pdists_res.shape[0]"
     ],
     "language": "python",
     "metadata": {},
     "outputs": [],
     "prompt_number": 109
    },
    {
     "cell_type": "markdown",
     "metadata": {},
     "source": [
      "$A\\Omega = 100$, $\\tau = 0.1$"
     ]
    },
    {
     "cell_type": "code",
     "collapsed": false,
     "input": [
      "ddwe011_res = np.load('output/ddwe_gauss_t01_wa100_res.npz')\n",
      "ddwe011_nores = np.load('output/ddwe_gauss_t01_wa100_nores.npz')"
     ],
     "language": "python",
     "metadata": {},
     "outputs": [],
     "prompt_number": 55
    },
    {
     "cell_type": "code",
     "collapsed": false,
     "input": [
      "param_fname = str(ddwe011_res['param_fname'])\n",
      "with open(param_fname, 'r') as param_file:\n",
      "    pdwe_params = json.load(param_file)\n",
      "rxn_list = pdwe_params['rxn_list']\n",
      "prmA = rxn_list[0]['propensity_const']\n",
      "prmB = rxn_list[1]['propensity_const']\n",
      "prmC = rxn_list[2]['propensity_const']\n",
      "prmTau = rxn_list[2]['delay']"
     ],
     "language": "python",
     "metadata": {},
     "outputs": [],
     "prompt_number": 57
    },
    {
     "cell_type": "code",
     "collapsed": false,
     "input": [
      "pdists_res = ddwe011_res['prob_dists']\n",
      "pdists_nores = ddwe011_nores['prob_dists']\n",
      "bincts_res = ddwe011_res['bin_counts']\n",
      "bincts_nores = ddwe011_nores['bin_counts']\n",
      "bin_xs = ddwe011_res['bin_xs']\n",
      "nens = pdists_res.shape[0]"
     ],
     "language": "python",
     "metadata": {},
     "outputs": [],
     "prompt_number": 58
    },
    {
     "cell_type": "markdown",
     "metadata": {},
     "source": [
      "$A\\Omega = 400$, $\\tau = 0.1$"
     ]
    },
    {
     "cell_type": "code",
     "collapsed": false,
     "input": [
      "ddwe014_res = np.load('output/ddwe_gauss_t01_wa400_res.npz')\n",
      "ddwe014_nores = np.load('output/ddwe_gauss_t01_wa400_nores.npz')"
     ],
     "language": "python",
     "metadata": {},
     "outputs": [],
     "prompt_number": 60
    },
    {
     "cell_type": "code",
     "collapsed": false,
     "input": [
      "param_fname = str(ddwe014_res['param_fname'])\n",
      "with open(param_fname, 'r') as param_file:\n",
      "    pdwe_params = json.load(param_file)\n",
      "rxn_list = pdwe_params['rxn_list']\n",
      "prmA = rxn_list[0]['propensity_const']\n",
      "prmB = rxn_list[1]['propensity_const']\n",
      "prmC = rxn_list[2]['propensity_const']\n",
      "prmTau = rxn_list[2]['delay']"
     ],
     "language": "python",
     "metadata": {},
     "outputs": [],
     "prompt_number": 61
    },
    {
     "cell_type": "code",
     "collapsed": false,
     "input": [
      "pdists_res = ddwe014_res['prob_dists']\n",
      "pdists_nores = ddwe014_nores['prob_dists']\n",
      "bincts_res = ddwe014_res['bin_counts']\n",
      "bincts_nores = ddwe014_nores['bin_counts']\n",
      "bin_xs = ddwe014_res['bin_xs']\n",
      "nens = pdists_res.shape[0]"
     ],
     "language": "python",
     "metadata": {},
     "outputs": [],
     "prompt_number": 81
    },
    {
     "cell_type": "markdown",
     "metadata": {},
     "source": [
      "$A\\Omega = 800$, $\\tau = 0.1$"
     ]
    },
    {
     "cell_type": "code",
     "collapsed": false,
     "input": [
      "ddwe018_res = np.load('output/ddwe_gauss_t01_wa800_res.npz')\n",
      "ddwe018_nores = np.load('output/ddwe_gauss_t01_wa800_nores.npz')"
     ],
     "language": "python",
     "metadata": {},
     "outputs": [],
     "prompt_number": 78
    },
    {
     "cell_type": "code",
     "collapsed": false,
     "input": [
      "param_fname = str(ddwe018_res['param_fname'])\n",
      "with open(param_fname, 'r') as param_file:\n",
      "    pdwe_params = json.load(param_file)\n",
      "rxn_list = pdwe_params['rxn_list']\n",
      "prmA = rxn_list[0]['propensity_const']\n",
      "prmB = rxn_list[1]['propensity_const']\n",
      "prmC = rxn_list[2]['propensity_const']\n",
      "prmTau = rxn_list[2]['delay']"
     ],
     "language": "python",
     "metadata": {},
     "outputs": [],
     "prompt_number": 131
    },
    {
     "cell_type": "code",
     "collapsed": false,
     "input": [
      "pdists_res = ddwe018_res['prob_dists']\n",
      "pdists_nores = ddwe018_nores['prob_dists']\n",
      "bincts_res = ddwe018_res['bin_counts']\n",
      "bincts_nores = ddwe018_nores['bin_counts']\n",
      "bin_xs = ddwe018_res['bin_xs']\n",
      "nens = pdists_res.shape[0]"
     ],
     "language": "python",
     "metadata": {},
     "outputs": [],
     "prompt_number": 132
    },
    {
     "cell_type": "heading",
     "level": 4,
     "metadata": {},
     "source": [
      "Simple Production-Degradation"
     ]
    },
    {
     "cell_type": "markdown",
     "metadata": {},
     "source": [
      "$A\\Omega = 100$"
     ]
    },
    {
     "cell_type": "code",
     "collapsed": false,
     "input": [
      "pdwe1_res = np.load('output/pdwe_wa100_res.npz')\n",
      "pdwe1_nores = np.load('output/pdwe_wa100_nores.npz')"
     ],
     "language": "python",
     "metadata": {},
     "outputs": [],
     "prompt_number": 41
    },
    {
     "cell_type": "code",
     "collapsed": false,
     "input": [
      "param_fname = str(pdwe1_res['param_fname'])\n",
      "with open(param_fname, 'r') as param_file:\n",
      "    pdwe_params = json.load(param_file)\n",
      "rxn_list = pdwe_params['rxn_list']\n",
      "prmA = rxn_list[0]['propensity_const']\n",
      "prmB = rxn_list[1]['propensity_const']"
     ],
     "language": "python",
     "metadata": {},
     "outputs": [],
     "prompt_number": 42
    },
    {
     "cell_type": "code",
     "collapsed": false,
     "input": [
      "pdists_res = pdwe1_res['prob_dists']\n",
      "pdists_nores = pdwe1_nores['prob_dists']\n",
      "bincts_res = pdwe1_res['bin_counts']\n",
      "bincts_nores = pdwe1_nores['bin_counts']\n",
      "bin_xs = pdwe1_res['bin_xs']\n",
      "nens = pdists_res.shape[0]"
     ],
     "language": "python",
     "metadata": {},
     "outputs": [],
     "prompt_number": 43
    },
    {
     "cell_type": "markdown",
     "metadata": {},
     "source": [
      "$A\\Omega = 400$"
     ]
    },
    {
     "cell_type": "code",
     "collapsed": false,
     "input": [
      "pdwe4_res = np.load('output/pdwe_wa400_res.npz')\n",
      "pdwe4_nores = np.load('output/pdwe_wa400_nores.npz')"
     ],
     "language": "python",
     "metadata": {},
     "outputs": [],
     "prompt_number": 5
    },
    {
     "cell_type": "code",
     "collapsed": false,
     "input": [
      "param_fname = str(pdwe4_res['param_fname'])\n",
      "with open(param_fname, 'r') as param_file:\n",
      "    pdwe_params = json.load(param_file)\n",
      "rxn_list = pdwe_params['rxn_list']\n",
      "prmA = rxn_list[0]['propensity_const']\n",
      "prmB = rxn_list[1]['propensity_const']"
     ],
     "language": "python",
     "metadata": {},
     "outputs": [],
     "prompt_number": 6
    },
    {
     "cell_type": "code",
     "collapsed": false,
     "input": [
      "pdists_res = pdwe4_res['prob_dists']\n",
      "pdists_nores = pdwe4_nores['prob_dists']\n",
      "bincts_res = pdwe4_res['bin_counts']\n",
      "bincts_nores = pdwe4_nores['bin_counts']\n",
      "bin_xs = pdwe4_res['bin_xs']\n",
      "nens = pdists_res.shape[0]"
     ],
     "language": "python",
     "metadata": {},
     "outputs": [],
     "prompt_number": 7
    },
    {
     "cell_type": "heading",
     "level": 3,
     "metadata": {},
     "source": [
      "Analytical Distribution"
     ]
    },
    {
     "cell_type": "heading",
     "level": 4,
     "metadata": {},
     "source": [
      "Delayed degradation"
     ]
    },
    {
     "cell_type": "markdown",
     "metadata": {},
     "source": [
      "Using $P(\\xi) = \\sqrt{\\frac{B + C}{2\\pi (1 + C\\tau)}}\\exp\\left(- \\frac{B + C}{2 (1 + C\\tau)}\\xi^2 \\right)$ (as a function of normalized fluctuation $\\xi$ from the mean of $n^\\star = \\frac{A}{B+C}$; $\\xi = \\frac{n - n^\\star}{\\sqrt{A}}$)"
     ]
    },
    {
     "cell_type": "code",
     "collapsed": false,
     "input": [
      "an_normfact = np.sqrt((prmB + prmC) / (2*np.pi * (1 + prmC*prmTau)))\n",
      "an_sigma = np.sqrt((1 + prmC*prmTau) / (prmB + prmC))\n",
      "xi_max = 3 * an_sigma\n",
      "xi_grid = np.linspace(-1*xi_max, xi_max, 1000)\n",
      "an_dist = an_normfact * np.exp((prmB + prmC) * -1 * xi_grid**2 / (2 * (1 + prmC*prmTau)))"
     ],
     "language": "python",
     "metadata": {},
     "outputs": [],
     "prompt_number": 133
    },
    {
     "cell_type": "code",
     "collapsed": false,
     "input": [
      "n_star = prmA / (prmB + prmC)\n",
      "bin_xis = (bin_xs - n_star) / np.sqrt(prmA)\n",
      "pdist_scale = np.sqrt(prmA)\n",
      "discrete_shift = 0.5 * (bin_xs[1] - bin_xs[0] - 1.0)\n",
      "bin_xis_shifted = (bin_xs + discrete_shift - n_star) / pdist_scale\n",
      "an_coarse = an_normfact * np.exp(-1.0 * (prmB + prmC) * bin_xis_shifted**2 / (2.0 * (1 + prmC*prmTau)))"
     ],
     "language": "python",
     "metadata": {},
     "outputs": [],
     "prompt_number": 134
    },
    {
     "cell_type": "code",
     "collapsed": false,
     "input": [
      "bin_xis_shifted"
     ],
     "language": "python",
     "metadata": {},
     "outputs": [
      {
       "metadata": {},
       "output_type": "pyout",
       "prompt_number": 65,
       "text": [
        "array([-2.925, -2.725, -2.525, -2.325, -2.125, -1.925, -1.725, -1.525,\n",
        "       -1.325, -1.125, -0.925, -0.725, -0.525, -0.325, -0.125,  0.075,\n",
        "        0.275,  0.475,  0.675,  0.875,  1.075,  1.275,  1.475,  1.675,\n",
        "        1.875,  2.075,  2.275,  2.475,  2.675,  2.875])"
       ]
      }
     ],
     "prompt_number": 65
    },
    {
     "cell_type": "code",
     "collapsed": false,
     "input": [
      "an_sigma * np.sqrt(prmA)"
     ],
     "language": "python",
     "metadata": {},
     "outputs": [
      {
       "metadata": {},
       "output_type": "pyout",
       "prompt_number": 112,
       "text": [
        "20.000000000000004"
       ]
      }
     ],
     "prompt_number": 112
    },
    {
     "cell_type": "code",
     "collapsed": false,
     "input": [
      "an_sigma_noct = np.sqrt(1.0 / (prmB + prmC))\n",
      "an_sigma_noct * np.sqrt(prmA)"
     ],
     "language": "python",
     "metadata": {},
     "outputs": [
      {
       "metadata": {},
       "output_type": "pyout",
       "prompt_number": 65,
       "text": [
        "14.142135623730951"
       ]
      }
     ],
     "prompt_number": 65
    },
    {
     "cell_type": "code",
     "collapsed": false,
     "input": [
      "np.trapz(an_dist, x=xi_grid)"
     ],
     "language": "python",
     "metadata": {},
     "outputs": [
      {
       "metadata": {},
       "output_type": "pyout",
       "prompt_number": 66,
       "text": [
        "0.99730012400397072"
       ]
      }
     ],
     "prompt_number": 66
    },
    {
     "cell_type": "heading",
     "level": 4,
     "metadata": {},
     "source": [
      "Simple Prod-Deg"
     ]
    },
    {
     "cell_type": "markdown",
     "metadata": {},
     "source": [
      "$P(n) = \\sqrt{\\frac{B}{2\\pi A}}\\exp\\left(-\\frac{B}{2A} \\left(n - \\frac{A}{B}\\right)^2\\right)$ (again, using $\\Omega = 1$ and writing everything in terms of $A$)."
     ]
    },
    {
     "cell_type": "code",
     "collapsed": false,
     "input": [
      "n_grid = np.linspace(min(bin_xs), max(bin_xs), 1000)\n",
      "pdist_analytic = sqrt(prmB / (2.0 * pi * prmA)) * exp(-1.0 * prmB / (2.0 * prmA) * (n_grid - prmA * 1.0 / prmB)**2)"
     ],
     "language": "python",
     "metadata": {},
     "outputs": [],
     "prompt_number": 12
    },
    {
     "cell_type": "code",
     "collapsed": false,
     "input": [
      "np.trapz(pdist_analytic, n_grid)"
     ],
     "language": "python",
     "metadata": {},
     "outputs": [
      {
       "metadata": {},
       "output_type": "pyout",
       "prompt_number": 13,
       "text": [
        "0.99999999999999811"
       ]
      }
     ],
     "prompt_number": 13
    },
    {
     "cell_type": "markdown",
     "metadata": {},
     "source": [
      "Or, in terms of $\\xi = A^{-1/2}\\left(n - \\frac{A}{B}\\right)$: $P(\\xi) = \\sqrt{\\frac{B}{2\\pi}}\\exp\\left(-\\frac{B\\xi^2}{2}\\right)$:"
     ]
    },
    {
     "cell_type": "code",
     "collapsed": false,
     "input": [
      "an_sigma = 1.0 / np.sqrt(prmB)\n",
      "xi_max = 4 * an_sigma\n",
      "xi_grid = np.linspace(-1*xi_max, xi_max, 1000)\n",
      "an_dist = np.sqrt(prmB / (2 * np.pi)) * np.exp(-1.0 * prmB * xi_grid**2 / 2.0)\n",
      "pdist_scale = np.sqrt(prmA)\n",
      "n_star = prmA / prmB\n",
      "bin_xis = (bin_xs - n_star) / pdist_scale\n",
      "discrete_shift = 0.5 * (bin_xs[1] - bin_xs[0] - 1.0)\n",
      "bin_xis_shifted = (bin_xs + discrete_shift - n_star) / pdist_scale\n",
      "an_coarse = np.sqrt(prmB / (2 * np.pi)) * np.exp(-1.0 * prmB * bin_xis_shifted**2 / 2.0)"
     ],
     "language": "python",
     "metadata": {},
     "outputs": [],
     "prompt_number": 85
    },
    {
     "cell_type": "code",
     "collapsed": false,
     "input": [
      "an_sigma * np.sqrt(prmA)"
     ],
     "language": "python",
     "metadata": {},
     "outputs": [
      {
       "metadata": {},
       "output_type": "pyout",
       "prompt_number": 9,
       "text": [
        "11.547005383792516"
       ]
      }
     ],
     "prompt_number": 9
    },
    {
     "cell_type": "code",
     "collapsed": false,
     "input": [
      "n_star - 45, n_star + 45"
     ],
     "language": "python",
     "metadata": {},
     "outputs": [
      {
       "metadata": {},
       "output_type": "pyout",
       "prompt_number": 10,
       "text": [
        "(88.33333333333334, 178.33333333333334)"
       ]
      }
     ],
     "prompt_number": 10
    },
    {
     "cell_type": "heading",
     "level": 3,
     "metadata": {},
     "source": [
      "Simulation Results"
     ]
    },
    {
     "cell_type": "code",
     "collapsed": false,
     "input": [
      "pd_mean_res = np.mean(pdists_res, axis=0)\n",
      "pd_mean_nores = np.mean(pdists_nores, axis=0)\n",
      "pd_sem_res = np.std(pdists_res, axis=0) / np.sqrt(nens)\n",
      "pd_sem_nores = np.std(pdists_nores, axis=0) / np.sqrt(nens)"
     ],
     "language": "python",
     "metadata": {},
     "outputs": [],
     "prompt_number": 135
    },
    {
     "cell_type": "code",
     "collapsed": false,
     "input": [
      "fig = figure()\n",
      "ax = fig.gca()\n",
      "im = ax.pcolormesh(bin_xs, array(range(nens)), pdists_res, cmap='hot')\n",
      "ax.set_xlabel('Number of X')\n",
      "ax.set_ylabel('Ensemble Index')\n",
      "ax.set_title('Probability Distribution, Resampling')\n",
      "fig.colorbar(im)"
     ],
     "language": "python",
     "metadata": {},
     "outputs": [
      {
       "metadata": {},
       "output_type": "pyout",
       "prompt_number": 114,
       "text": [
        "<matplotlib.colorbar.Colorbar at 0x7f53eadd9240>"
       ]
      }
     ],
     "prompt_number": 114
    },
    {
     "cell_type": "code",
     "collapsed": false,
     "input": [
      "fig = figure()\n",
      "ax = fig.gca()\n",
      "im = ax.pcolormesh(bin_xs, array(range(nens)), bincts_res, cmap='hot')\n",
      "ax.set_ylabel('Ensemble Index')\n",
      "ax.set_xlabel('Number of X')\n",
      "ax.set_title('Bin Counts, Resampling')\n",
      "fig.colorbar(im)"
     ],
     "language": "python",
     "metadata": {},
     "outputs": [
      {
       "metadata": {},
       "output_type": "pyout",
       "prompt_number": 104,
       "text": [
        "<matplotlib.colorbar.Colorbar at 0x7f53eb58c3c8>"
       ]
      }
     ],
     "prompt_number": 104
    },
    {
     "cell_type": "code",
     "collapsed": false,
     "input": [
      "fig = figure()\n",
      "ax = fig.gca()\n",
      "im = ax.pcolormesh(bin_xs, array(range(nens)), pdists_nores, cmap='hot')\n",
      "ax.set_xlabel('Number of X')\n",
      "ax.set_ylabel('Ensemble Index')\n",
      "ax.set_title('Probability Distribution, No Resampling')\n",
      "fig.colorbar(im)"
     ],
     "language": "python",
     "metadata": {},
     "outputs": [
      {
       "metadata": {},
       "output_type": "pyout",
       "prompt_number": 83,
       "text": [
        "<matplotlib.colorbar.Colorbar at 0x7f53ec2683c8>"
       ]
      }
     ],
     "prompt_number": 83
    },
    {
     "cell_type": "code",
     "collapsed": false,
     "input": [
      "fig = figure()\n",
      "ax = fig.gca()\n",
      "im = ax.pcolormesh(bin_xs, array(range(nens)), bincts_nores, cmap='hot')\n",
      "ax.set_ylabel('Ensemble Index')\n",
      "ax.set_xlabel('Number of X')\n",
      "ax.set_title('Bin Counts, No Resampling')\n",
      "fig.colorbar(im)"
     ],
     "language": "python",
     "metadata": {},
     "outputs": [
      {
       "metadata": {},
       "output_type": "pyout",
       "prompt_number": 41,
       "text": [
        "<matplotlib.colorbar.Colorbar at 0x7f157f4a9ac8>"
       ]
      }
     ],
     "prompt_number": 41
    },
    {
     "cell_type": "heading",
     "level": 4,
     "metadata": {},
     "source": [
      "Scaling of PDist variance"
     ]
    },
    {
     "cell_type": "code",
     "collapsed": false,
     "input": [
      "pd_sigmas = dict()"
     ],
     "language": "python",
     "metadata": {},
     "outputs": [],
     "prompt_number": 39
    },
    {
     "cell_type": "code",
     "collapsed": true,
     "input": [
      "pd_mean_ctr = np.sum(bin_xs * pd_mean_res)\n",
      "pd_mean_sigma = np.sqrt(np.sum(bin_xs**2 * pd_mean_res) - pd_mean_ctr**2)\n",
      "print(pd_mean_ctr)\n",
      "print(prmA / (prmB + prmC))\n",
      "print(pd_mean_sigma)"
     ],
     "language": "python",
     "metadata": {},
     "outputs": [
      {
       "output_type": "stream",
       "stream": "stdout",
       "text": [
        "198.546716068\n",
        "200.0\n",
        "16.7470073904\n"
       ]
      }
     ],
     "prompt_number": 71
    },
    {
     "cell_type": "code",
     "collapsed": false,
     "input": [
      "pd_sigmas[prmA] = pd_mean_sigma"
     ],
     "language": "python",
     "metadata": {},
     "outputs": [],
     "prompt_number": 72
    },
    {
     "cell_type": "code",
     "collapsed": false,
     "input": [
      "pd_sigmas"
     ],
     "language": "python",
     "metadata": {},
     "outputs": [
      {
       "metadata": {},
       "output_type": "pyout",
       "prompt_number": 73,
       "text": [
        "{400.0: 11.970519690503957, 800.0: 16.74700739037937, 100.0: 5.911340002794379}"
       ]
      }
     ],
     "prompt_number": 73
    },
    {
     "cell_type": "code",
     "collapsed": false,
     "input": [
      "A_sigmas = array(list(pd_sigmas.items()))\n",
      "plot(log(A_sigmas[:,0]), log(A_sigmas[:,1]), 'o', label='Simulation')\n",
      "A_1 = 100\n",
      "sigma_1 = pd_sigmas[100]\n",
      "A_grid = np.logspace(0.9, 1.5, 1000, base=A_1)\n",
      "plot(log(A_grid), log(sigma_1) + 0.5 * (log(A_grid) - log(A_1)), label=r'$\\sigma \\propto \\sqrt{A}$')\n",
      "legend(loc='best')\n",
      "xlabel(r'$\\ln(A)$')\n",
      "ylabel(r'$\\ln(\\sigma)$')"
     ],
     "language": "python",
     "metadata": {},
     "outputs": [
      {
       "metadata": {},
       "output_type": "pyout",
       "prompt_number": 81,
       "text": [
        "<matplotlib.text.Text at 0x7f0f79b918d0>"
       ]
      }
     ],
     "prompt_number": 81
    },
    {
     "cell_type": "code",
     "collapsed": false,
     "input": [
      "log(800) / log(100)"
     ],
     "language": "python",
     "metadata": {},
     "outputs": [
      {
       "metadata": {},
       "output_type": "pyout",
       "prompt_number": 76,
       "text": [
        "1.4515449934959717"
       ]
      }
     ],
     "prompt_number": 76
    },
    {
     "cell_type": "heading",
     "level": 3,
     "metadata": {},
     "source": [
      "Plots"
     ]
    },
    {
     "cell_type": "code",
     "collapsed": false,
     "input": [
      "fig = figure()\n",
      "ax = fig.gca()\n",
      "bar_width = bin_xs[1] - bin_xs[0]\n",
      "ax.bar(bin_xs, pd_mean_res, yerr=pd_sem_res, width=bar_width, color='blue', alpha=0.6, ecolor='blue')\n",
      "ax.bar(bin_xs, pd_mean_nores, yerr=pd_sem_res, width=bar_width, color='red', alpha=0.6, ecolor='red')\n",
      "ax.set_ylim(bottom=0.0)\n",
      "ax.legend(('With Resampling', 'No Resampling'))\n",
      "ax.set_xlabel('Number $n$')\n",
      "ax.set_ylabel('Probability $P(n)$')\n",
      "#ax.set_title(r'Delayed-degradation system, $\\Omega A = {:g}$, $B=3$, $C=1$, $\\tau=20$'.format(prmA))"
     ],
     "language": "python",
     "metadata": {},
     "outputs": [
      {
       "metadata": {},
       "output_type": "pyout",
       "prompt_number": 115,
       "text": [
        "<matplotlib.text.Text at 0x7f53eadfd6d8>"
       ]
      }
     ],
     "prompt_number": 115
    },
    {
     "cell_type": "markdown",
     "metadata": {},
     "source": [
      "In terms of $\\xi = \\frac{n - n^\\star}{\\sqrt{A}}$:"
     ]
    },
    {
     "cell_type": "code",
     "collapsed": false,
     "input": [
      "fig = figure()\n",
      "ax = fig.gca()\n",
      "bar_width = bin_xis[1] - bin_xis[0]\n",
      "bar_scale = 1.0 / bar_width\n",
      "ax.bar(bin_xis_shifted - 0.5*bar_width, pd_mean_res * bar_scale, yerr=pd_sem_res * bar_scale,\n",
      "       width=bar_width, color='blue', alpha=0.6, ecolor='blue', label='With Resampling')\n",
      "ax.bar(bin_xis_shifted - 0.5*bar_width, pd_mean_nores * bar_scale, yerr=pd_sem_res * bar_scale,\n",
      "       width=bar_width, color='red', alpha=0.6, ecolor='red', label='No Resampling')\n",
      "ax.set_ylim(bottom=0.0)\n",
      "ax.set_xlim(-3.0, 3.0)\n",
      "ax.plot(xi_grid, an_dist, color='black', label='Analytical')\n",
      "ax.legend(loc='best')\n",
      "ax.set_xlabel(r'Fluctuation $\\xi = A^{-1/2}(n - n^\\star)$')\n",
      "ax.set_ylabel('Probability $P(n)$')\n",
      "ax.set_title(r'Delayed-Degradation System, $A = {:g}$, $\\tau={:g}$'.format(prmA, prmTau))\n",
      "#ax.set_title(r'Production-Degradation System, $A = {:g}$, $B={:g}$'.format(prmA, prmB))"
     ],
     "language": "python",
     "metadata": {},
     "outputs": [
      {
       "metadata": {},
       "output_type": "pyout",
       "prompt_number": 140,
       "text": [
        "<matplotlib.text.Text at 0x7f53e92966d8>"
       ]
      }
     ],
     "prompt_number": 140
    },
    {
     "cell_type": "code",
     "collapsed": false,
     "input": [
      "fig.set_size_inches((5.0, 4.0))\n",
      "fig.tight_layout()\n",
      "#fig.savefig('../results/presentation/pdwe-a{:g}-cmp.pgf'.format(prmA))\n",
      "fig.savefig('../results/presentation/ddwe-t{:g}-a{:g}-cmp.pgf'.format(prmTau, prmA))"
     ],
     "language": "python",
     "metadata": {},
     "outputs": [],
     "prompt_number": 117
    },
    {
     "cell_type": "markdown",
     "metadata": {},
     "source": [
      "And now a plot of the deviations from analytical"
     ]
    },
    {
     "cell_type": "code",
     "collapsed": false,
     "input": [
      "fig = figure()\n",
      "ax = fig.gca()\n",
      "bar_width = bin_xis[1] - bin_xis[0]\n",
      "bar_scale = 1.0 / bar_width\n",
      "devs_res = (pd_mean_res * bar_scale - an_coarse) / (pd_sem_res * bar_scale)\n",
      "devs_nores = (pd_mean_nores * bar_scale - an_coarse) / (pd_sem_nores * bar_scale)\n",
      "keep_range = np.abs(bin_xis) <= 2.0\n",
      "ax.bar(bin_xis[keep_range], devs_res[keep_range], width=bar_width, color='blue', alpha=0.6, label='With Resampling')\n",
      "ax.bar(bin_xis[keep_range], devs_nores[keep_range], width=bar_width, color='red', alpha=0.6, label='No Resampling')\n",
      "ax.grid()\n",
      "ax.axhline(0.0, color='black', linewidth=1.5)\n",
      "ax.legend(loc='best')\n",
      "ax.set_xlabel(r'Fluctuation $\\xi = A^{-1/2}(n - n^\\star)$')\n",
      "ax.set_ylabel(r'Normalized Difference $(P - P_\\mathrm{an})/\\sigma_\\mathrm{est}$')\n",
      "ax.set_title('Difference from Analytical Distribution')"
     ],
     "language": "python",
     "metadata": {},
     "outputs": [
      {
       "output_type": "stream",
       "stream": "stderr",
       "text": [
        "/usr/lib/python3.4/site-packages/matplotlib/transforms.py:821: RuntimeWarning: invalid value encountered in double_scalars\n",
        "  return Bbox.from_extents(x0, y0, x0 + width, y0 + height)\n"
       ]
      },
      {
       "metadata": {},
       "output_type": "pyout",
       "prompt_number": 142,
       "text": [
        "<matplotlib.text.Text at 0x7f53e8e57d68>"
       ]
      }
     ],
     "prompt_number": 142
    },
    {
     "cell_type": "code",
     "collapsed": false,
     "input": [
      "fig.set_size_inches((5.0, 4.0))\n",
      "fig.tight_layout()\n",
      "#fig.savefig('../results/presentation/pdwe-a{:g}-devs.pgf'.format(prmA))\n",
      "fig.savefig('../results/presentation/ddwe-t{:g}-a{:g}-devs.pgf'.format(prmTau, prmA))"
     ],
     "language": "python",
     "metadata": {},
     "outputs": [],
     "prompt_number": 143
    },
    {
     "cell_type": "code",
     "collapsed": false,
     "input": [
      "fig = figure()\n",
      "ax = fig.gca()\n",
      "bar_width = bin_xis[1] - bin_xis[0]\n",
      "bar_scale = 1.0 / bar_width\n",
      "devs_rescmp = (pd_mean_res - pd_mean_nores) / sqrt(pd_sem_res**2 + pd_sem_nores**2)\n",
      "keep_range = np.abs(bin_xis) <= 2.0\n",
      "ax.bar(bin_xis[keep_range], devs_rescmp[keep_range], width=bar_width, color='blue')\n",
      "ax.grid()\n",
      "ax.axhline(0.0, color='black', linewidth=1.5)\n",
      "ax.legend(loc='best')\n",
      "ax.set_xlabel(r'Fluctuation $\\xi = A^{-1/2}(n - n^\\star)$')\n",
      "ax.set_ylabel(r'Normalized Difference $(P_\\mathrm{res} - P_\\mathrm{non})/\\sqrt{\\sigma_\\mathrm{res}^2 + \\sigma_\\mathrm{non}^2}$')\n",
      "ax.set_title('With vs. Without Resampling')"
     ],
     "language": "python",
     "metadata": {},
     "outputs": [
      {
       "output_type": "stream",
       "stream": "stderr",
       "text": [
        "/usr/lib/python3.4/site-packages/matplotlib/axes.py:4749: UserWarning: No labeled objects found. Use label='...' kwarg on individual plots.\n",
        "  warnings.warn(\"No labeled objects found. \"\n"
       ]
      },
      {
       "metadata": {},
       "output_type": "pyout",
       "prompt_number": 144,
       "text": [
        "<matplotlib.text.Text at 0x7f53e8993be0>"
       ]
      }
     ],
     "prompt_number": 144
    },
    {
     "cell_type": "code",
     "collapsed": false,
     "input": [],
     "language": "python",
     "metadata": {},
     "outputs": []
    }
   ],
   "metadata": {}
  }
 ]
}