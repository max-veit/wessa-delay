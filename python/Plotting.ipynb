{
 "metadata": {
  "name": "",
  "signature": "sha256:406bd67c6e041882af3a533c341a3652a9e419bfc046f168af69b39aa026f222"
 },
 "nbformat": 3,
 "nbformat_minor": 0,
 "worksheets": [
  {
   "cells": [
    {
     "cell_type": "heading",
     "level": 1,
     "metadata": {},
     "source": [
      "Initialization"
     ]
    },
    {
     "cell_type": "code",
     "collapsed": false,
     "input": [
      "%pylab"
     ],
     "language": "python",
     "metadata": {},
     "outputs": [
      {
       "output_type": "stream",
       "stream": "stdout",
       "text": [
        "Using matplotlib backend: Qt4Agg\n",
        "Populating the interactive namespace from numpy and matplotlib\n"
       ]
      }
     ],
     "prompt_number": 2
    },
    {
     "cell_type": "code",
     "collapsed": false,
     "input": [
      "mpl.rcParams.update({'font.family': 'serif',\n",
      "                     'font.size': 12,\n",
      "                     'font.sans-serif': [],})"
     ],
     "language": "python",
     "metadata": {},
     "outputs": [],
     "prompt_number": 3
    },
    {
     "cell_type": "code",
     "collapsed": false,
     "input": [
      "from mpl_toolkits.axes_grid1 import ImageGrid"
     ],
     "language": "python",
     "metadata": {},
     "outputs": [],
     "prompt_number": 4
    },
    {
     "cell_type": "heading",
     "level": 1,
     "metadata": {},
     "source": [
      "Delayed Joint Distribution"
     ]
    },
    {
     "cell_type": "markdown",
     "metadata": {},
     "source": [
      "$A\\Omega = 100$"
     ]
    },
    {
     "cell_type": "code",
     "collapsed": false,
     "input": [
      "dd_joint = np.load('output/ddjd_sweep0.npz')"
     ],
     "language": "python",
     "metadata": {},
     "outputs": [],
     "prompt_number": 4
    },
    {
     "cell_type": "code",
     "collapsed": false,
     "input": [
      "bin_ubound = 60\n",
      "nbins = 60\n",
      "bin_lefts = np.linspace(0, bin_ubound, nbins, endpoint=False)\n",
      "bin_ctrs = bin_lefts + bin_ubound / nbins / 2.0"
     ],
     "language": "python",
     "metadata": {},
     "outputs": [],
     "prompt_number": 90
    },
    {
     "cell_type": "code",
     "collapsed": false,
     "input": [
      "C_vals = dd_joint['C_vals']\n",
      "j_pdists = dd_joint['j_pdists']"
     ],
     "language": "python",
     "metadata": {},
     "outputs": [],
     "prompt_number": 5
    },
    {
     "cell_type": "code",
     "collapsed": false,
     "input": [
      "C_vals"
     ],
     "language": "python",
     "metadata": {},
     "outputs": [
      {
       "metadata": {},
       "output_type": "pyout",
       "prompt_number": 6,
       "text": [
        "array([ 1. ,  1.5,  2. ,  2.5,  3. ,  3.5,  4. ,  4.5,  5. ])"
       ]
      }
     ],
     "prompt_number": 6
    },
    {
     "cell_type": "code",
     "collapsed": false,
     "input": [
      "plt.pcolormesh(j_pdists[1,...], cmap='hot')"
     ],
     "language": "python",
     "metadata": {},
     "outputs": [
      {
       "metadata": {},
       "output_type": "pyout",
       "prompt_number": 7,
       "text": [
        "<matplotlib.collections.QuadMesh at 0x7f5f1dd41da0>"
       ]
      }
     ],
     "prompt_number": 7
    },
    {
     "cell_type": "code",
     "collapsed": false,
     "input": [
      "fig = figure()\n",
      "ax = fig.add_subplot(111, frameon=False)\n",
      "ax.set_xticks([])\n",
      "ax.set_yticks([])\n",
      "ax.set_xlabel('$n(t)$')\n",
      "ax.set_ylabel('$n(t - \\\\tau)$')\n",
      "ax.set_aspect('equal')\n",
      "ax.set_position((0.05, 0.05, 0.9, 0.9))\n",
      "tiles = ImageGrid(fig, 111, nrows_ncols=(3, 3), axes_pad=0.1)\n",
      "for gridx in range(9):\n",
      "    tiles[gridx].pcolormesh(bin_lefts, bin_lefts, j_pdists[gridx,...].T, cmap='hot')\n",
      "fig.suptitle('Parameter sweep, $\\\\Omega A=100$, $B=3$, $C \\in [1, 5]$')"
     ],
     "language": "python",
     "metadata": {},
     "outputs": [
      {
       "metadata": {},
       "output_type": "pyout",
       "prompt_number": 8,
       "text": [
        "<matplotlib.text.Text at 0x7f5f1d69e6a0>"
       ]
      }
     ],
     "prompt_number": 8
    },
    {
     "cell_type": "markdown",
     "metadata": {},
     "source": [
      "$A\\Omega = 10^3$"
     ]
    },
    {
     "cell_type": "code",
     "collapsed": false,
     "input": [
      "ddj_3 = np.load('output/ddjd_sweep3.npz')"
     ],
     "language": "python",
     "metadata": {},
     "outputs": [],
     "prompt_number": 96
    },
    {
     "cell_type": "code",
     "collapsed": false,
     "input": [
      "bin_ubound = 600\n",
      "nbins = 60\n",
      "bin_lefts = np.linspace(0, bin_ubound, nbins, endpoint=False)\n",
      "bin_ctrs = bin_lefts + bin_ubound / nbins / 2.0"
     ],
     "language": "python",
     "metadata": {},
     "outputs": [],
     "prompt_number": 97
    },
    {
     "cell_type": "code",
     "collapsed": false,
     "input": [
      "C_vals = ddj_3['C_vals']\n",
      "j_pdists = ddj_3['j_pdists']"
     ],
     "language": "python",
     "metadata": {},
     "outputs": [],
     "prompt_number": 98
    },
    {
     "cell_type": "code",
     "collapsed": false,
     "input": [
      "fig = figure()\n",
      "ax = fig.add_subplot(111, frameon=False)\n",
      "ax.set_xticks([])\n",
      "ax.set_yticks([])\n",
      "ax.set_xlabel('$n(t)$')\n",
      "ax.set_ylabel('$n(t - \\\\tau)$')\n",
      "ax.set_aspect('equal')\n",
      "ax.set_position((0.05, 0.05, 0.9, 0.9))\n",
      "tiles = ImageGrid(fig, 111, nrows_ncols=(3, 4), axes_pad=0.1)\n",
      "for gridx in range(12):\n",
      "    tiles[gridx].pcolormesh(bin_lefts, bin_lefts, j_pdists[gridx,...].T, cmap='hot')\n",
      "fig.suptitle('Parameter sweep, $\\\\Omega A=1000$, $B=3$, $C \\in [1, 5]$')"
     ],
     "language": "python",
     "metadata": {},
     "outputs": [
      {
       "metadata": {},
       "output_type": "pyout",
       "prompt_number": 99,
       "text": [
        "<matplotlib.text.Text at 0x7f5c08a40e48>"
       ]
      }
     ],
     "prompt_number": 99
    },
    {
     "cell_type": "markdown",
     "metadata": {},
     "source": [
      "$A\\Omega = 10^4$\n",
      "\n",
      "(Need to investigate further; binning does not seem to be working)"
     ]
    },
    {
     "cell_type": "code",
     "collapsed": false,
     "input": [
      "ddj_4 = np.load('output/ddjd_sweep4.npz')"
     ],
     "language": "python",
     "metadata": {},
     "outputs": [],
     "prompt_number": 61
    },
    {
     "cell_type": "code",
     "collapsed": false,
     "input": [
      "bin_ubound = 6000\n",
      "nbins = 60\n",
      "bin_lefts = np.linspace(0, bin_ubound, nbins, endpoint=False)\n",
      "bin_ctrs = bin_lefts + bin_ubound / nbins / 2.0"
     ],
     "language": "python",
     "metadata": {},
     "outputs": [],
     "prompt_number": 97
    },
    {
     "cell_type": "code",
     "collapsed": false,
     "input": [
      "C_vals = ddj_4['C_vals']\n",
      "j_pdists = ddj_4['j_pdists']"
     ],
     "language": "python",
     "metadata": {},
     "outputs": [],
     "prompt_number": 62
    },
    {
     "cell_type": "code",
     "collapsed": false,
     "input": [
      "fig = figure()\n",
      "ax = fig.add_subplot(111, frameon=False)\n",
      "ax.set_xticks([])\n",
      "ax.set_yticks([])\n",
      "ax.set_xlabel('$x(t)$')\n",
      "ax.set_ylabel('$x(t - \\\\tau)$')\n",
      "ax.set_aspect('equal')\n",
      "ax.set_position((0.05, 0.05, 0.9, 0.9))\n",
      "tiles = ImageGrid(fig, 111, nrows_ncols=(3, 4), axes_pad=0.1)\n",
      "for gridx in range(12):\n",
      "    tiles[gridx].pcolormesh(bin_lefts, bin_lefts, j_pdists[gridx,...].T, cmap='hot')\n",
      "fig.suptitle('Parameter sweep, $\\\\Omega A=10\\,000$, $B=3$, $C \\in [1, 5]$')"
     ],
     "language": "python",
     "metadata": {},
     "outputs": [
      {
       "metadata": {},
       "output_type": "pyout",
       "prompt_number": 79,
       "text": [
        "<matplotlib.text.Text at 0x7fbd347d3518>"
       ]
      }
     ],
     "prompt_number": 79
    },
    {
     "cell_type": "heading",
     "level": 2,
     "metadata": {},
     "source": [
      "Conditional Averages"
     ]
    },
    {
     "cell_type": "code",
     "collapsed": false,
     "input": [
      "margdist_n = np.sum(j_pdists, axis=2)\n",
      "# The division here takes care of any normalization factors on the joint distribution\n",
      "cond_avg = np.sum(j_pdists * bin_ctrs[np.newaxis,np.newaxis,:] / margdist_n[:,:,np.newaxis], axis=2)"
     ],
     "language": "python",
     "metadata": {},
     "outputs": [
      {
       "output_type": "stream",
       "stream": "stderr",
       "text": [
        "-c:3: RuntimeWarning: invalid value encountered in true_divide\n"
       ]
      }
     ],
     "prompt_number": 91
    },
    {
     "cell_type": "code",
     "collapsed": false,
     "input": [
      "cond_avg.shape"
     ],
     "language": "python",
     "metadata": {},
     "outputs": [
      {
       "metadata": {},
       "output_type": "pyout",
       "prompt_number": 92,
       "text": [
        "(13, 60)"
       ]
      }
     ],
     "prompt_number": 92
    },
    {
     "cell_type": "code",
     "collapsed": false,
     "input": [
      "bif_idx = 5\n",
      "fig = figure()\n",
      "plot(n_vals, cond_avg[bif_idx,...], figure=fig)\n",
      "print(C_vals[bif_idx])"
     ],
     "language": "python",
     "metadata": {},
     "outputs": [
      {
       "output_type": "stream",
       "stream": "stdout",
       "text": [
        "2.66666666667\n"
       ]
      }
     ],
     "prompt_number": 94
    },
    {
     "cell_type": "code",
     "collapsed": false,
     "input": [
      "plot(n_vals, cond_avg.T)"
     ],
     "language": "python",
     "metadata": {},
     "outputs": [
      {
       "metadata": {},
       "output_type": "pyout",
       "prompt_number": 95,
       "text": [
        "[<matplotlib.lines.Line2D at 0x7f5c079c00b8>,\n",
        " <matplotlib.lines.Line2D at 0x7f5c079c0cf8>,\n",
        " <matplotlib.lines.Line2D at 0x7f5c079b1780>,\n",
        " <matplotlib.lines.Line2D at 0x7f5c079b1a90>,\n",
        " <matplotlib.lines.Line2D at 0x7f5c079d9a20>,\n",
        " <matplotlib.lines.Line2D at 0x7f5c079d9208>,\n",
        " <matplotlib.lines.Line2D at 0x7f5c079d91d0>,\n",
        " <matplotlib.lines.Line2D at 0x7f5c07df00f0>,\n",
        " <matplotlib.lines.Line2D at 0x7f5c07b89630>,\n",
        " <matplotlib.lines.Line2D at 0x7f5c079c94e0>,\n",
        " <matplotlib.lines.Line2D at 0x7f5c079c9dd8>,\n",
        " <matplotlib.lines.Line2D at 0x7f5c079c92e8>,\n",
        " <matplotlib.lines.Line2D at 0x7f5c079c9f60>]"
       ]
      }
     ],
     "prompt_number": 95
    },
    {
     "cell_type": "code",
     "collapsed": false,
     "input": [
      "pcolormesh(j_pdists[3,...].T, cmap='hot')"
     ],
     "language": "python",
     "metadata": {},
     "outputs": [
      {
       "metadata": {},
       "output_type": "pyout",
       "prompt_number": 48,
       "text": [
        "<matplotlib.collections.QuadMesh at 0x7f5f1b62be80>"
       ]
      }
     ],
     "prompt_number": 48
    },
    {
     "cell_type": "heading",
     "level": 1,
     "metadata": {},
     "source": [
      "Weighted-Ensemble Verification"
     ]
    },
    {
     "cell_type": "markdown",
     "metadata": {},
     "source": [
      "For the delayed-deg system below the Hopf bifurcation:\n",
      "\n",
      "Analytical distribution is $P(\\xi) = \\sqrt{\\frac{b + c}{2\\pi a (1 + c\\tau)}}\\exp\\left(- \\frac{b + c}{2 a (1 + c\\tau)}\\xi^2 \\right)$ (as a function of fluctuation $\\xi$ from the mean of $x^\\star = \\frac{a}{b+c}$)"
     ]
    },
    {
     "cell_type": "markdown",
     "metadata": {},
     "source": [
      "$A\\Omega = 10^2$"
     ]
    },
    {
     "cell_type": "code",
     "collapsed": false,
     "input": [
      "ddwe2_res = np.load('output/ddwe_gauss_100_res.npz')\n",
      "ddwe2_nores = np.load('output/ddwe_gauss_100_nores.npz')"
     ],
     "language": "python",
     "metadata": {},
     "outputs": [],
     "prompt_number": 43
    },
    {
     "cell_type": "code",
     "collapsed": false,
     "input": [
      "rxn_params = ddwe2_res['rxn_params'][()]\n",
      "print(rxn_params)\n",
      "prmA = rxn_params['k_plus']\n",
      "prmB = rxn_params['k_minus']\n",
      "prmC = rxn_params['k_delayed']\n",
      "prmTau = rxn_params['tau_delay']"
     ],
     "language": "python",
     "metadata": {},
     "outputs": [
      {
       "output_type": "stream",
       "stream": "stdout",
       "text": [
        "{'k_delayed': 1, 'k_plus': 100, 'tau_delay': 20, 'k_minus': 3}\n"
       ]
      }
     ],
     "prompt_number": 46
    },
    {
     "cell_type": "code",
     "collapsed": false,
     "input": [
      "pdists_res = ddwe2_res['prob_dists']\n",
      "pdists_nores = ddwe2_nores['prob_dists']\n",
      "bin_xs = ddwe2_res['bin_xs']\n",
      "nens = pdists_res.shape[0]"
     ],
     "language": "python",
     "metadata": {},
     "outputs": [],
     "prompt_number": 45
    },
    {
     "cell_type": "markdown",
     "metadata": {},
     "source": [
      "$A\\Omega = 10^3$"
     ]
    },
    {
     "cell_type": "code",
     "collapsed": false,
     "input": [
      "ddwe3_res = np.load('output/ddwe_gauss_wa1k_100res.npz')\n",
      "ddwe3_nores = np.load('output/ddwe_gauss_wa1k_100nores.npz')"
     ],
     "language": "python",
     "metadata": {},
     "outputs": [],
     "prompt_number": 63
    },
    {
     "cell_type": "code",
     "collapsed": false,
     "input": [
      "rxn_params = ddwe3_res['rxn_params'][()]\n",
      "print(rxn_params)\n",
      "prmA = rxn_params['k_plus']\n",
      "prmB = rxn_params['k_minus']\n",
      "prmC = rxn_params['k_delayed']\n",
      "prmTau = rxn_params['tau_delay']"
     ],
     "language": "python",
     "metadata": {},
     "outputs": [
      {
       "output_type": "stream",
       "stream": "stdout",
       "text": [
        "{'k_delayed': 1.0, 'k_plus': 1000.0, 'tau_delay': 20.0, 'k_minus': 3.0}\n"
       ]
      }
     ],
     "prompt_number": 64
    },
    {
     "cell_type": "code",
     "collapsed": false,
     "input": [
      "pdists_res = ddwe3_res['prob_dists']\n",
      "pdists_nores = ddwe3_nores['prob_dists']\n",
      "bin_xs = ddwe3_res['bin_xs']\n",
      "nens = pdists_res.shape[0]"
     ],
     "language": "python",
     "metadata": {},
     "outputs": [],
     "prompt_number": 65
    },
    {
     "cell_type": "heading",
     "level": 3,
     "metadata": {},
     "source": [
      "Analytical Distribution"
     ]
    },
    {
     "cell_type": "code",
     "collapsed": false,
     "input": [
      "an_normfact = np.sqrt((prmB + prmC) / (2*np.pi*prmA * (1 + prmC*prmTau)))\n",
      "an_dist = an_normfact * np.exp((prmB + prmC) * -1 * (bin_xs - prmA/(prmB + prmC))**2 / (2*prmA * (1 + prmC*prmTau)))\n",
      "an_sigma = np.sqrt(2*prmA * (1 + prmC*prmTau) / (prmB + prmC))"
     ],
     "language": "python",
     "metadata": {},
     "outputs": [],
     "prompt_number": 66
    },
    {
     "cell_type": "code",
     "collapsed": false,
     "input": [
      "plot(bin_xs, an_dist)"
     ],
     "language": "python",
     "metadata": {},
     "outputs": [
      {
       "metadata": {},
       "output_type": "pyout",
       "prompt_number": 10,
       "text": [
        "[<matplotlib.lines.Line2D at 0x7f5c0df76c50>]"
       ]
      }
     ],
     "prompt_number": 10
    },
    {
     "cell_type": "code",
     "collapsed": false,
     "input": [
      "an_sigma"
     ],
     "language": "python",
     "metadata": {},
     "outputs": [
      {
       "metadata": {},
       "output_type": "pyout",
       "prompt_number": 48,
       "text": [
        "32.403703492039298"
       ]
      }
     ],
     "prompt_number": 48
    },
    {
     "cell_type": "code",
     "collapsed": false,
     "input": [
      "np.trapz(an_dist, x=bin_xs)"
     ],
     "language": "python",
     "metadata": {},
     "outputs": [
      {
       "metadata": {},
       "output_type": "pyout",
       "prompt_number": 11,
       "text": [
        "0.99969460237672236"
       ]
      }
     ],
     "prompt_number": 11
    },
    {
     "cell_type": "markdown",
     "metadata": {},
     "source": [
      "May not equal 1 because of the cutoff at $n=0$."
     ]
    },
    {
     "cell_type": "heading",
     "level": 3,
     "metadata": {},
     "source": [
      "Simulation Results"
     ]
    },
    {
     "cell_type": "code",
     "collapsed": false,
     "input": [
      "pdists_res.shape"
     ],
     "language": "python",
     "metadata": {},
     "outputs": [
      {
       "metadata": {},
       "output_type": "pyout",
       "prompt_number": 42,
       "text": [
        "(100, 30)"
       ]
      }
     ],
     "prompt_number": 42
    },
    {
     "cell_type": "code",
     "collapsed": false,
     "input": [
      "pd_mean_res = np.mean(pdists_res, axis=0)\n",
      "pd_mean_nores = np.mean(pdists_nores, axis=0)\n",
      "pd_sem_res = np.std(pdists_res, axis=0) / np.sqrt(nens)\n",
      "pd_sem_nores = np.std(pdists_nores, axis=0) / np.sqrt(nens)"
     ],
     "language": "python",
     "metadata": {},
     "outputs": [],
     "prompt_number": 67
    },
    {
     "cell_type": "code",
     "collapsed": false,
     "input": [
      "fig = figure()\n",
      "ax = fig.gca()\n",
      "bar_width = bin_xs[1] - bin_xs[0]\n",
      "ax.bar(bin_xs, pd_mean_res, yerr=pd_sem_res, width=bar_width, color='blue', alpha=0.6, ecolor='blue')\n",
      "ax.bar(bin_xs, pd_mean_nores, yerr=pd_sem_res, width=bar_width, color='red', alpha=0.6, ecolor='red')\n",
      "ax.set_ylim(bottom=0.0)\n",
      "ax2 = ax,twinx()\n",
      "ax2 = ax2[1]\n",
      "ax2.plot(bin_xs, an_dist, color='black')\n",
      "ax.legend(('With Resampling', 'No Resampling'))\n",
      "#ax2.legend(('Analytical Distribution'))\n",
      "ax.set_xlabel('Number $n$')\n",
      "ax.set_ylabel('Probability $P(n)$')\n",
      "ax2.set_ylabel('Analytical probability $P(n)$')\n",
      "ax.set_title(r'Delayed-degradation system, $\\Omega A = {:g}$, $B=3$, $C=1$, $\\tau=20$'.format(prmA))"
     ],
     "language": "python",
     "metadata": {},
     "outputs": [
      {
       "metadata": {},
       "output_type": "pyout",
       "prompt_number": 71,
       "text": [
        "<matplotlib.text.Text at 0x7f5c08ab25c0>"
       ]
      }
     ],
     "prompt_number": 71
    },
    {
     "cell_type": "code",
     "collapsed": false,
     "input": [
      "bar(bin_xs[16:], pd_mean_res[16:], yerr=pd_sem_res[16:], width=bar_width, color='blue', alpha=0.6, ecolor='blue')\n",
      "bar(bin_xs[16:], pd_mean_nores[16:], yerr=pd_sem_res[16:], width=bar_width, color='red', alpha=0.6, ecolor='red')"
     ],
     "language": "python",
     "metadata": {},
     "outputs": [
      {
       "metadata": {},
       "output_type": "pyout",
       "prompt_number": 41,
       "text": [
        "<Container object of 14 artists>"
       ]
      }
     ],
     "prompt_number": 41
    },
    {
     "cell_type": "code",
     "collapsed": false,
     "input": [],
     "language": "python",
     "metadata": {},
     "outputs": []
    }
   ],
   "metadata": {}
  }
 ]
}