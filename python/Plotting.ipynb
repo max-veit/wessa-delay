{
 "metadata": {
  "name": "",
  "signature": "sha256:b414fe057c0ee8b45f671a8e251e0c18abea7bdb0eb798f14524493ea41d5eb3"
 },
 "nbformat": 3,
 "nbformat_minor": 0,
 "worksheets": [
  {
   "cells": [
    {
     "cell_type": "heading",
     "level": 1,
     "metadata": {},
     "source": [
      "Initialization"
     ]
    },
    {
     "cell_type": "code",
     "collapsed": false,
     "input": [
      "%pylab"
     ],
     "language": "python",
     "metadata": {},
     "outputs": [
      {
       "output_type": "stream",
       "stream": "stdout",
       "text": [
        "Using matplotlib backend: Qt4Agg\n",
        "Populating the interactive namespace from numpy and matplotlib\n"
       ]
      }
     ],
     "prompt_number": 1
    },
    {
     "cell_type": "code",
     "collapsed": false,
     "input": [
      "mpl.rcParams.update({'font.family': 'serif',\n",
      "                     'font.size': 12,\n",
      "                     'font.serif': [],})"
     ],
     "language": "python",
     "metadata": {},
     "outputs": [],
     "prompt_number": 2
    },
    {
     "cell_type": "code",
     "collapsed": false,
     "input": [
      "from mpl_toolkits.axes_grid1 import ImageGrid\n",
      "import json\n",
      "import os.path"
     ],
     "language": "python",
     "metadata": {},
     "outputs": [],
     "prompt_number": 46
    },
    {
     "cell_type": "heading",
     "level": 1,
     "metadata": {},
     "source": [
      "Delayed Joint Distribution"
     ]
    },
    {
     "cell_type": "markdown",
     "metadata": {},
     "source": [
      "$A\\Omega = 100$"
     ]
    },
    {
     "cell_type": "code",
     "collapsed": false,
     "input": [
      "ddj_2 = np.load('output/ddjd_csweep0_wa100.npz')\n",
      "with open('params/ddjd_csweep0_wa100.json') as param_file:\n",
      "    params_2 = json.load(param_file)"
     ],
     "language": "python",
     "metadata": {},
     "outputs": [],
     "prompt_number": 206
    },
    {
     "cell_type": "code",
     "collapsed": false,
     "input": [
      "pdist_params = params_2['pdist_params']\n",
      "binrange = pdist_params['binrange']\n",
      "nbins = pdist_params['nbins']\n",
      "bin_lefts = np.linspace(*binrange, num=nbins, endpoint=False)\n",
      "bin_ctrs = bin_lefts + (bin_lefts[1] - bin_lefts[0]) / 2.0"
     ],
     "language": "python",
     "metadata": {},
     "outputs": [],
     "prompt_number": 207
    },
    {
     "cell_type": "code",
     "collapsed": false,
     "input": [
      "rxn_params = params_2['rxn_params']\n",
      "A_val = rxn_params['k_plus']\n",
      "B_val = rxn_params['k_minus']\n",
      "C_vals = ddj_2['C_vals']\n",
      "j_pdists = ddj_2['j_pdists']\n",
      "tau = rxn_params['tau_delay']"
     ],
     "language": "python",
     "metadata": {},
     "outputs": [],
     "prompt_number": 208
    },
    {
     "cell_type": "code",
     "collapsed": false,
     "input": [
      "C_vals"
     ],
     "language": "python",
     "metadata": {},
     "outputs": [
      {
       "metadata": {},
       "output_type": "pyout",
       "prompt_number": 209,
       "text": [
        "array([ 1.        ,  1.33333333,  1.66666667,  2.        ,  2.33333333,\n",
        "        2.66666667,  3.        ,  3.33333333,  3.66666667,  4.        ,\n",
        "        4.33333333,  4.66666667,  5.        ])"
       ]
      }
     ],
     "prompt_number": 209
    },
    {
     "cell_type": "code",
     "collapsed": false,
     "input": [
      "fig = figure()\n",
      "ax = fig.add_subplot(111, frameon=False)\n",
      "ax.set_xticks([])\n",
      "ax.set_yticks([])\n",
      "ax.set_xlabel('$n(t)$')\n",
      "ax.set_ylabel('$n(t - \\\\tau)$')\n",
      "ax.set_aspect(0.75)\n",
      "ax.set_position((0.05, 0.05, 0.9, 0.9))\n",
      "tiles = ImageGrid(fig, 111, nrows_ncols=(3, 4), axes_pad=0.1)\n",
      "for gridx in range(12):\n",
      "    tiles[gridx].pcolormesh(bin_lefts, bin_lefts, j_pdists[gridx,...].T, cmap='hot')\n",
      "fig.suptitle('Parameter sweep, $\\\\Omega A=100$, $B=3$, $C \\in [1, 5]$')"
     ],
     "language": "python",
     "metadata": {},
     "outputs": [
      {
       "metadata": {},
       "output_type": "pyout",
       "prompt_number": 210,
       "text": [
        "<matplotlib.text.Text at 0x7f3a208a81d0>"
       ]
      }
     ],
     "prompt_number": 210
    },
    {
     "cell_type": "markdown",
     "metadata": {},
     "source": [
      "$A\\Omega = 10^3$"
     ]
    },
    {
     "cell_type": "code",
     "collapsed": false,
     "input": [
      "ddj_3 = np.load('output/ddjd_csweep0_wa1k.npz')\n",
      "with open('params/ddjd_csweep0_wa1k.json') as param_file:\n",
      "    params_3 = json.load(param_file)"
     ],
     "language": "python",
     "metadata": {},
     "outputs": [],
     "prompt_number": 228
    },
    {
     "cell_type": "code",
     "collapsed": false,
     "input": [
      "pdist_params = params_3['pdist_params']\n",
      "binrange = pdist_params['binrange']\n",
      "nbins = pdist_params['nbins']\n",
      "bin_lefts = np.linspace(*binrange, num=nbins, endpoint=False)\n",
      "bin_ctrs = bin_lefts + (bin_lefts[1] - bin_lefts[0]) / 2.0"
     ],
     "language": "python",
     "metadata": {},
     "outputs": [],
     "prompt_number": 229
    },
    {
     "cell_type": "code",
     "collapsed": false,
     "input": [
      "rxn_params = params_3['rxn_params']\n",
      "A_val = rxn_params['k_plus']\n",
      "B_val = rxn_params['k_minus']\n",
      "C_vals = ddj_3['C_vals']\n",
      "j_pdists = ddj_3['j_pdists']\n",
      "tau = rxn_params['tau_delay']"
     ],
     "language": "python",
     "metadata": {},
     "outputs": [],
     "prompt_number": 230
    },
    {
     "cell_type": "code",
     "collapsed": false,
     "input": [
      "fig = figure()\n",
      "ax = fig.add_subplot(111, frameon=False)\n",
      "ax.set_xticks([])\n",
      "ax.set_yticks([])\n",
      "ax.set_xlabel('$n(t)$')\n",
      "ax.set_ylabel('$n(t - \\\\tau)$')\n",
      "ax.set_aspect(0.75)\n",
      "ax.set_position((0.05, 0.05, 0.9, 0.9))\n",
      "tiles = ImageGrid(fig, 111, nrows_ncols=(3, 4), axes_pad=0.1)\n",
      "for gridx in range(12):\n",
      "    tiles[gridx].pcolormesh(bin_lefts, bin_lefts, j_pdists[gridx,...].T, cmap='hot')\n",
      "fig.suptitle('Parameter sweep, $\\\\Omega A=1000$, $B=3$, $C \\in [1, 5]$')"
     ],
     "language": "python",
     "metadata": {},
     "outputs": [
      {
       "metadata": {},
       "output_type": "pyout",
       "prompt_number": 231,
       "text": [
        "<matplotlib.text.Text at 0x7f3a1ec8e668>"
       ]
      }
     ],
     "prompt_number": 231
    },
    {
     "cell_type": "markdown",
     "metadata": {},
     "source": [
      "$A\\Omega = 10^4$"
     ]
    },
    {
     "cell_type": "code",
     "collapsed": false,
     "input": [
      "ddj_4 = np.load('output/ddjd_csweep0_wa10k.npz')\n",
      "with open('params/ddjd_csweep0_wa10k.json') as param_file:\n",
      "    params_4 = json.load(param_file)"
     ],
     "language": "python",
     "metadata": {},
     "outputs": [],
     "prompt_number": 232
    },
    {
     "cell_type": "code",
     "collapsed": false,
     "input": [
      "pdist_params = params_4['pdist_params']\n",
      "binrange = pdist_params['binrange']\n",
      "nbins = pdist_params['nbins']\n",
      "bin_lefts = np.linspace(*binrange, num=nbins, endpoint=False)\n",
      "bin_ctrs = bin_lefts + (bin_lefts[1] - bin_lefts[0]) / 2.0"
     ],
     "language": "python",
     "metadata": {},
     "outputs": [],
     "prompt_number": 233
    },
    {
     "cell_type": "code",
     "collapsed": false,
     "input": [
      "rxn_params = params_4['rxn_params']\n",
      "A_val = rxn_params['k_plus']\n",
      "B_val = rxn_params['k_minus']\n",
      "C_vals = ddj_4['C_vals']\n",
      "j_pdists = ddj_4['j_pdists']\n",
      "tau = rxn_params['tau_delay']"
     ],
     "language": "python",
     "metadata": {},
     "outputs": [],
     "prompt_number": 234
    },
    {
     "cell_type": "code",
     "collapsed": false,
     "input": [
      "fig = figure()\n",
      "ax = fig.add_subplot(111, frameon=False)\n",
      "ax.set_xticks([])\n",
      "ax.set_yticks([])\n",
      "ax.set_xlabel('$n(t)$')\n",
      "ax.set_ylabel('$n(t - \\\\tau)$')\n",
      "ax.set_aspect(0.75)\n",
      "ax.set_position((0.05, 0.05, 0.9, 0.9))\n",
      "tiles = ImageGrid(fig, 111, nrows_ncols=(3, 4), axes_pad=0.1)\n",
      "for gridx in range(12):\n",
      "    tiles[gridx].pcolormesh(bin_lefts, bin_lefts, j_pdists[gridx,...].T, cmap='hot')\n",
      "fig.suptitle('Parameter sweep, $\\\\Omega A=10\\,000$, $B=3$, $C \\in [1, 5]$')"
     ],
     "language": "python",
     "metadata": {},
     "outputs": [
      {
       "metadata": {},
       "output_type": "pyout",
       "prompt_number": 235,
       "text": [
        "<matplotlib.text.Text at 0x7f3a1f7eab00>"
       ]
      }
     ],
     "prompt_number": 235
    },
    {
     "cell_type": "markdown",
     "metadata": {},
     "source": [
      "$A\\Omega = 100$, $B = 4.5$, $\\tau = 1.0$"
     ]
    },
    {
     "cell_type": "code",
     "collapsed": false,
     "input": [
      "ddj1_1 = np.load('output/ddjd_csweep1_wa100.npz')\n",
      "with open('params/ddjd_csweep1_wa100.json') as param_file:\n",
      "    params1_1 = json.load(param_file)"
     ],
     "language": "python",
     "metadata": {},
     "outputs": [],
     "prompt_number": 276
    },
    {
     "cell_type": "code",
     "collapsed": false,
     "input": [
      "pdist_params = params1_1['pdist_params']\n",
      "binrange = pdist_params['binrange']\n",
      "nbins = pdist_params['nbins']\n",
      "bin_lefts = np.linspace(*binrange, num=nbins, endpoint=False)\n",
      "bin_ctrs = bin_lefts + (bin_lefts[1] - bin_lefts[0]) / 2.0"
     ],
     "language": "python",
     "metadata": {},
     "outputs": [],
     "prompt_number": 277
    },
    {
     "cell_type": "code",
     "collapsed": false,
     "input": [
      "rxn_params = params1_1['rxn_params']\n",
      "A_val = rxn_params['k_plus']\n",
      "B_val = rxn_params['k_minus']\n",
      "C_vals = ddj1_1['C_vals']\n",
      "j_pdists = ddj1_1['j_pdists']\n",
      "tau = rxn_params['tau_delay']"
     ],
     "language": "python",
     "metadata": {},
     "outputs": [],
     "prompt_number": 278
    },
    {
     "cell_type": "code",
     "collapsed": false,
     "input": [
      "C_vals"
     ],
     "language": "python",
     "metadata": {},
     "outputs": [
      {
       "metadata": {},
       "output_type": "pyout",
       "prompt_number": 279,
       "text": [
        "array([ 4. ,  4.2,  4.4,  4.6,  4.8,  5. ,  5.2,  5.4,  5.6,  5.8,  6. ])"
       ]
      }
     ],
     "prompt_number": 279
    },
    {
     "cell_type": "code",
     "collapsed": false,
     "input": [
      "fig = figure()\n",
      "ax = fig.add_subplot(111, frameon=False)\n",
      "ax.set_xticks([])\n",
      "ax.set_yticks([])\n",
      "ax.set_xlabel('$n(t)$')\n",
      "ax.set_ylabel('$n(t - \\\\tau)$')\n",
      "ax.set_aspect(0.4)\n",
      "ax.set_position((0.05, 0.05, 0.9, 0.9))\n",
      "tiles = ImageGrid(fig, 111, nrows_ncols=(2, 5), axes_pad=0.1)\n",
      "for gridx in range(10):\n",
      "    tiles[gridx].pcolormesh(bin_lefts, bin_lefts, j_pdists[gridx + 1,...].T, cmap='hot')\n",
      "fig.suptitle('Parameter sweep, $\\\\Omega A=100$, $B=4.5$, $\\\\tau = 1.0$, $C \\in [4, 5.8]$')"
     ],
     "language": "python",
     "metadata": {},
     "outputs": [
      {
       "metadata": {},
       "output_type": "pyout",
       "prompt_number": 280,
       "text": [
        "<matplotlib.text.Text at 0x7f3a1a2121d0>"
       ]
      }
     ],
     "prompt_number": 280
    },
    {
     "cell_type": "markdown",
     "metadata": {},
     "source": [
      "$A\\Omega = 400$, $B = 4.5$, $\\tau = 1.0$"
     ]
    },
    {
     "cell_type": "code",
     "collapsed": false,
     "input": [
      "ddj1_4 = np.load('output/ddjd_csweep1_wa400.npz')\n",
      "with open('params/ddjd_csweep1_wa400.json') as param_file:\n",
      "    params1_4 = json.load(param_file)"
     ],
     "language": "python",
     "metadata": {},
     "outputs": [],
     "prompt_number": 298
    },
    {
     "cell_type": "code",
     "collapsed": false,
     "input": [
      "pdist_params = params1_4['pdist_params']\n",
      "binrange = pdist_params['binrange']\n",
      "nbins = pdist_params['nbins']\n",
      "bin_lefts = np.linspace(*binrange, num=nbins, endpoint=False)\n",
      "bin_ctrs = bin_lefts + (bin_lefts[1] - bin_lefts[0]) / 2.0"
     ],
     "language": "python",
     "metadata": {},
     "outputs": [],
     "prompt_number": 299
    },
    {
     "cell_type": "code",
     "collapsed": false,
     "input": [
      "rxn_params = params1_4['rxn_params']\n",
      "A_val = rxn_params['k_plus']\n",
      "B_val = rxn_params['k_minus']\n",
      "C_vals = ddj1_4['C_vals']\n",
      "j_pdists = ddj1_4['j_pdists']\n",
      "tau = rxn_params['tau_delay']"
     ],
     "language": "python",
     "metadata": {},
     "outputs": [],
     "prompt_number": 300
    },
    {
     "cell_type": "code",
     "collapsed": false,
     "input": [
      "fig = figure()\n",
      "ax = fig.add_subplot(111, frameon=False)\n",
      "ax.set_xticks([])\n",
      "ax.set_yticks([])\n",
      "ax.set_xlabel('$n(t)$')\n",
      "ax.set_ylabel('$n(t - \\\\tau)$')\n",
      "ax.set_aspect(0.4)\n",
      "ax.set_position((0.05, 0.05, 0.9, 0.9))\n",
      "tiles = ImageGrid(fig, 111, nrows_ncols=(2, 5), axes_pad=0.1)\n",
      "for gridx in range(10):\n",
      "    tiles[gridx].pcolormesh(bin_lefts, bin_lefts, j_pdists[gridx,...].T, cmap='hot')\n",
      "fig.suptitle('Parameter sweep, $\\\\Omega A=400$, $B=4.5$, $\\\\tau = 1.0$, $C \\in [4, 5.8]$')"
     ],
     "language": "python",
     "metadata": {},
     "outputs": [
      {
       "metadata": {},
       "output_type": "pyout",
       "prompt_number": 301,
       "text": [
        "<matplotlib.text.Text at 0x7f3a1ef670b8>"
       ]
      }
     ],
     "prompt_number": 301
    },
    {
     "cell_type": "heading",
     "level": 2,
     "metadata": {},
     "source": [
      "Conditional Averages"
     ]
    },
    {
     "cell_type": "code",
     "collapsed": false,
     "input": [
      "margdist_n = np.sum(j_pdists, axis=2)\n",
      "# The division here takes care of any normalization factors on the joint distribution\n",
      "cond_avg = np.sum(j_pdists * bin_ctrs[np.newaxis,np.newaxis,:] / margdist_n[:,:,np.newaxis], axis=2)"
     ],
     "language": "python",
     "metadata": {},
     "outputs": [],
     "prompt_number": 302
    },
    {
     "cell_type": "code",
     "collapsed": false,
     "input": [
      "cond_avg.shape"
     ],
     "language": "python",
     "metadata": {},
     "outputs": [
      {
       "metadata": {},
       "output_type": "pyout",
       "prompt_number": 303,
       "text": [
        "(11, 60)"
       ]
      }
     ],
     "prompt_number": 303
    },
    {
     "cell_type": "markdown",
     "metadata": {},
     "source": [
      "The Langevin limit: a straight line"
     ]
    },
    {
     "cell_type": "code",
     "collapsed": false,
     "input": [
      "C_idx = 5\n",
      "C_val = C_vals[C_idx]\n",
      "omega_h = np.sqrt(C_val**2 - B_val**2)\n",
      "ca_slope = (omega_h * np.cos(omega_h * tau) - B_val * np.sin(omega_h * tau)) / (omega_h + C_val * np.sin(omega_h * tau))\n",
      "n_star = A_val / (B_val + C_val)"
     ],
     "language": "python",
     "metadata": {},
     "outputs": [],
     "prompt_number": 304
    },
    {
     "cell_type": "code",
     "collapsed": false,
     "input": [
      "fig = figure()\n",
      "plot((bin_ctrs - n_star) / np.sqrt(A_val), (cond_avg[C_idx,...] - n_star) / np.sqrt(A_val), figure=fig)\n",
      "xi_grid = np.linspace(-8, 8, 100)\n",
      "plot(xi_grid, ca_slope * xi_grid)\n",
      "print(C_val)"
     ],
     "language": "python",
     "metadata": {},
     "outputs": [
      {
       "output_type": "stream",
       "stream": "stdout",
       "text": [
        "5.0\n"
       ]
      }
     ],
     "prompt_number": 305
    },
    {
     "cell_type": "code",
     "collapsed": false,
     "input": [
      "fig = figure()\n",
      "ax = fig.gca()\n",
      "im = ax.pcolormesh(bin_lefts, bin_lefts, j_pdists[C_idx,...].T, cmap='hot')\n",
      "ax.plot(bin_ctrs, cond_avg[C_idx,...], color='green', linewidth=2.0)\n",
      "ax.plot((xi_grid * np.sqrt(A_val)) + n_star, (ca_slope * xi_grid * np.sqrt(A_val)) + n_star, color='blue', linewidth=2.0)\n",
      "ax.set_ylim(min(bin_lefts), max(bin_lefts))\n",
      "ax.set_xlim(min(bin_lefts), max(bin_lefts))"
     ],
     "language": "python",
     "metadata": {},
     "outputs": [
      {
       "metadata": {},
       "output_type": "pyout",
       "prompt_number": 306,
       "text": [
        "(0.0, 236.0)"
       ]
      }
     ],
     "prompt_number": 306
    },
    {
     "cell_type": "code",
     "collapsed": false,
     "input": [
      "plot(bin_ctrs, cond_avg.T)\n",
      "legend(['$C = {:.2g}$'.format(C_val) for C_val in C_vals[:12]])"
     ],
     "language": "python",
     "metadata": {},
     "outputs": [
      {
       "metadata": {},
       "output_type": "pyout",
       "prompt_number": 216,
       "text": [
        "<matplotlib.legend.Legend at 0x7f3a1ef49710>"
       ]
      }
     ],
     "prompt_number": 216
    },
    {
     "cell_type": "heading",
     "level": 1,
     "metadata": {},
     "source": [
      "Weighted-Ensemble Verification"
     ]
    },
    {
     "cell_type": "markdown",
     "metadata": {},
     "source": [
      "For the delayed-deg system below the Hopf bifurcation:\n",
      "\n",
      "Analytical distribution is $P(\\xi) = \\sqrt{\\frac{b + c}{2\\pi (1 + c\\tau)}}\\exp\\left(- \\frac{b + c}{2 (1 + c\\tau)}\\xi^2 \\right)$ (as a function of fluctuation $\\xi$ from the mean of $x^\\star = \\frac{a}{b+c}$)"
     ]
    },
    {
     "cell_type": "markdown",
     "metadata": {},
     "source": [
      "$A\\Omega = 100$"
     ]
    },
    {
     "cell_type": "code",
     "collapsed": false,
     "input": [
      "ddwe1_res = np.load('output/ddwe_gauss_freqres.npz')\n",
      "ddwe1_nores = np.load('output/ddwe_gauss_freqnores_counts.npz')"
     ],
     "language": "python",
     "metadata": {},
     "outputs": [],
     "prompt_number": 481
    },
    {
     "cell_type": "code",
     "collapsed": false,
     "input": [
      "rxn_params = ddwe1_res['rxn_params'][()]\n",
      "print(rxn_params)\n",
      "prmA = rxn_params['k_plus']\n",
      "prmB = rxn_params['k_minus']\n",
      "prmC = rxn_params['k_delayed']\n",
      "prmTau = rxn_params['tau_delay']"
     ],
     "language": "python",
     "metadata": {},
     "outputs": [
      {
       "output_type": "stream",
       "stream": "stdout",
       "text": [
        "{'k_plus': 100.0, 'k_delayed': 1.0, 'tau_delay': 20.0, 'k_minus': 3.0}\n"
       ]
      }
     ],
     "prompt_number": 482
    },
    {
     "cell_type": "code",
     "collapsed": false,
     "input": [
      "pdists_res = ddwe1_res['prob_dists']\n",
      "pdists_nores = ddwe1_nores['prob_dists']\n",
      "bincts_res = ddwe1_res['bin_counts']\n",
      "bincts_nores = ddwe1_nores['bin_counts']\n",
      "bin_xs = ddwe1_res['bin_xs']\n",
      "nens = pdists_res.shape[0]"
     ],
     "language": "python",
     "metadata": {},
     "outputs": [],
     "prompt_number": 483
    },
    {
     "cell_type": "markdown",
     "metadata": {},
     "source": [
      "$A\\Omega = 200$"
     ]
    },
    {
     "cell_type": "code",
     "collapsed": false,
     "input": [
      "ddwe2_res = np.load('output/ddwe_gauss_wa200_freqres.npz')\n",
      "ddwe2_nores = np.load('output/ddwe_gauss_wa200_freqnores.npz')"
     ],
     "language": "python",
     "metadata": {},
     "outputs": [],
     "prompt_number": 477
    },
    {
     "cell_type": "code",
     "collapsed": false,
     "input": [
      "rxn_params = ddwe2_res['rxn_params'][()]\n",
      "print(rxn_params)\n",
      "prmA = rxn_params['k_plus']\n",
      "prmB = rxn_params['k_minus']\n",
      "prmC = rxn_params['k_delayed']\n",
      "prmTau = rxn_params['tau_delay']"
     ],
     "language": "python",
     "metadata": {},
     "outputs": [
      {
       "output_type": "stream",
       "stream": "stdout",
       "text": [
        "{'tau_delay': 20.0, 'k_delayed': 1.0, 'k_plus': 200.0, 'k_minus': 3.0}\n"
       ]
      }
     ],
     "prompt_number": 478
    },
    {
     "cell_type": "code",
     "collapsed": false,
     "input": [
      "pdists_res = ddwe2_res['prob_dists']\n",
      "pdists_nores = ddwe2_nores['prob_dists']\n",
      "bincts_res = ddwe2_res['bin_counts']\n",
      "bincts_nores = ddwe2_nores['bin_counts']\n",
      "bin_xs = ddwe2_res['bin_xs']\n",
      "nens = pdists_res.shape[0]"
     ],
     "language": "python",
     "metadata": {},
     "outputs": [],
     "prompt_number": 479
    },
    {
     "cell_type": "markdown",
     "metadata": {},
     "source": [
      "$A\\Omega = 400$"
     ]
    },
    {
     "cell_type": "code",
     "collapsed": false,
     "input": [
      "ddwe4_res = np.load('output/ddwe_gauss_wa400_freqres.npz')\n",
      "ddwe4_nores = np.load('output/ddwe_gauss_wa400_freqnores.npz')"
     ],
     "language": "python",
     "metadata": {},
     "outputs": [],
     "prompt_number": 443
    },
    {
     "cell_type": "code",
     "collapsed": false,
     "input": [
      "rxn_params = ddwe4_res['rxn_params'][()]\n",
      "print(rxn_params)\n",
      "prmA = rxn_params['k_plus']\n",
      "prmB = rxn_params['k_minus']\n",
      "prmC = rxn_params['k_delayed']\n",
      "prmTau = rxn_params['tau_delay']"
     ],
     "language": "python",
     "metadata": {},
     "outputs": [
      {
       "output_type": "stream",
       "stream": "stdout",
       "text": [
        "{'k_plus': 400.0, 'tau_delay': 20.0, 'k_minus': 3.0, 'k_delayed': 1.0}\n"
       ]
      }
     ],
     "prompt_number": 444
    },
    {
     "cell_type": "code",
     "collapsed": false,
     "input": [
      "pdists_res = ddwe4_res['prob_dists']\n",
      "pdists_nores = ddwe4_nores['prob_dists']\n",
      "bincts_res = ddwe4_res['bin_counts']\n",
      "bincts_nores = ddwe4_nores['bin_counts']\n",
      "bin_xs = ddwe4_res['bin_xs']\n",
      "nens = pdists_res.shape[0]"
     ],
     "language": "python",
     "metadata": {},
     "outputs": [],
     "prompt_number": 445
    },
    {
     "cell_type": "markdown",
     "metadata": {},
     "source": [
      "$A\\Omega = 800$"
     ]
    },
    {
     "cell_type": "code",
     "collapsed": false,
     "input": [
      "ddwe8_res = np.load('output/ddwe_gauss_wa800_freqres.npz')\n",
      "ddwe8_nores = np.load('output/ddwe_gauss_wa800_freqnores.npz')"
     ],
     "language": "python",
     "metadata": {},
     "outputs": [],
     "prompt_number": 489
    },
    {
     "cell_type": "code",
     "collapsed": false,
     "input": [
      "rxn_params = ddwe8_res['rxn_params'][()]\n",
      "print(rxn_params)\n",
      "prmA = rxn_params['k_plus']\n",
      "prmB = rxn_params['k_minus']\n",
      "prmC = rxn_params['k_delayed']\n",
      "prmTau = rxn_params['tau_delay']"
     ],
     "language": "python",
     "metadata": {},
     "outputs": [
      {
       "output_type": "stream",
       "stream": "stdout",
       "text": [
        "{'k_plus': 800.0, 'k_delayed': 1.0, 'tau_delay': 20.0, 'k_minus': 3.0}\n"
       ]
      }
     ],
     "prompt_number": 490
    },
    {
     "cell_type": "code",
     "collapsed": false,
     "input": [
      "pdists_res = ddwe8_res['prob_dists']\n",
      "pdists_nores = ddwe8_nores['prob_dists']\n",
      "bincts_res = ddwe8_res['bin_counts']\n",
      "bincts_nores = ddwe8_nores['bin_counts']\n",
      "bin_xs = ddwe8_res['bin_xs']\n",
      "nens = pdists_res.shape[0]"
     ],
     "language": "python",
     "metadata": {},
     "outputs": [],
     "prompt_number": 491
    },
    {
     "cell_type": "heading",
     "level": 4,
     "metadata": {},
     "source": [
      "Simple Production-Degradation"
     ]
    },
    {
     "cell_type": "markdown",
     "metadata": {},
     "source": [
      "$A\\Omega = 100$"
     ]
    },
    {
     "cell_type": "code",
     "collapsed": false,
     "input": [
      "pdwe1_res = np.load('output/pdwe_wa100_res.npz')\n",
      "pdwe1_nores = np.load('output/pdwe_wa100_nores.npz')"
     ],
     "language": "python",
     "metadata": {},
     "outputs": [],
     "prompt_number": 394
    },
    {
     "cell_type": "code",
     "collapsed": false,
     "input": [
      "param_fname = str(pdwe1_res['param_fname'])\n",
      "with open(param_fname, 'r') as param_file:\n",
      "    pdwe_params = json.load(param_file)\n",
      "rxn_list = pdwe_params['rxn_list']\n",
      "prmA = rxn_list[0]['propensity_const']\n",
      "prmB = rxn_list[1]['propensity_const']"
     ],
     "language": "python",
     "metadata": {},
     "outputs": [],
     "prompt_number": 395
    },
    {
     "cell_type": "code",
     "collapsed": false,
     "input": [
      "pdists_res = pdwe1_res['prob_dists']\n",
      "pdists_nores = pdwe1_nores['prob_dists']\n",
      "bincts_res = pdwe1_res['bin_counts']\n",
      "bincts_nores = pdwe1_nores['bin_counts']\n",
      "bin_xs = pdwe1_res['bin_xs']\n",
      "nens = pdists_res.shape[0]"
     ],
     "language": "python",
     "metadata": {},
     "outputs": [],
     "prompt_number": 396
    },
    {
     "cell_type": "markdown",
     "metadata": {},
     "source": [
      "$A\\Omega = 400$"
     ]
    },
    {
     "cell_type": "code",
     "collapsed": false,
     "input": [
      "pdwe4_res = np.load('output/pdwe_wa400_res.npz')\n",
      "pdwe4_nores = np.load('output/pdwe_wa400_nores.npz')"
     ],
     "language": "python",
     "metadata": {},
     "outputs": [],
     "prompt_number": 485
    },
    {
     "cell_type": "code",
     "collapsed": false,
     "input": [
      "param_fname = str(pdwe4_res['param_fname'])\n",
      "with open(param_fname, 'r') as param_file:\n",
      "    pdwe_params = json.load(param_file)\n",
      "rxn_list = pdwe_params['rxn_list']\n",
      "prmA = rxn_list[0]['propensity_const']\n",
      "prmB = rxn_list[1]['propensity_const']"
     ],
     "language": "python",
     "metadata": {},
     "outputs": [],
     "prompt_number": 486
    },
    {
     "cell_type": "code",
     "collapsed": false,
     "input": [
      "pdists_res = pdwe4_res['prob_dists']\n",
      "pdists_nores = pdwe4_nores['prob_dists']\n",
      "bincts_res = pdwe4_res['bin_counts']\n",
      "bincts_nores = pdwe4_nores['bin_counts']\n",
      "bin_xs = pdwe4_res['bin_xs']\n",
      "nens = pdists_res.shape[0]"
     ],
     "language": "python",
     "metadata": {},
     "outputs": [],
     "prompt_number": 487
    },
    {
     "cell_type": "heading",
     "level": 3,
     "metadata": {},
     "source": [
      "Analytical Distribution"
     ]
    },
    {
     "cell_type": "heading",
     "level": 4,
     "metadata": {},
     "source": [
      "Delayed degradation"
     ]
    },
    {
     "cell_type": "markdown",
     "metadata": {},
     "source": [
      "Using $P(\\xi) = \\sqrt{\\frac{B + C}{2\\pi (1 + C\\tau)}}\\exp\\left(- \\frac{B + C}{2 (1 + C\\tau)}\\xi^2 \\right)$ (as a function of normalized fluctuation $\\xi$ from the mean of $n^\\star = \\frac{A}{B+C}$; $\\xi = \\frac{n - n^\\star}{\\sqrt{A}}$)"
     ]
    },
    {
     "cell_type": "code",
     "collapsed": false,
     "input": [
      "an_normfact = np.sqrt((prmB + prmC) / (2*np.pi * (1 + prmC*prmTau)))\n",
      "an_sigma = np.sqrt((1 + prmC*prmTau) / (prmB + prmC))\n",
      "xi_max = 3 * an_sigma\n",
      "xi_grid = np.linspace(-1*xi_max, xi_max, 1000)\n",
      "an_dist = an_normfact * np.exp((prmB + prmC) * -1 * xi_grid**2 / (2 * (1 + prmC*prmTau)))"
     ],
     "language": "python",
     "metadata": {},
     "outputs": [],
     "prompt_number": 430
    },
    {
     "cell_type": "code",
     "collapsed": false,
     "input": [
      "n_star = prmA / (prmB + prmC)\n",
      "bin_xis = (bin_xs - n_star) / np.sqrt(prmA)\n",
      "pdist_scale = np.sqrt(prmA)\n",
      "discrete_shift = 0.5 * (bin_xs[1] - bin_xs[0] - 1.0)\n",
      "bin_xis_shifted = (bin_xs + discrete_shift - n_star) / pdist_scale\n",
      "an_coarse = np.sqrt(prmB / (2 * np.pi)) * np.exp(-1.0 * prmB * bin_xis_shifted**2 / 2.0)"
     ],
     "language": "python",
     "metadata": {},
     "outputs": [],
     "prompt_number": 434
    },
    {
     "cell_type": "code",
     "collapsed": false,
     "input": [
      "bin_xis_shifted"
     ],
     "language": "python",
     "metadata": {},
     "outputs": [
      {
       "metadata": {},
       "output_type": "pyout",
       "prompt_number": 435,
       "text": [
        "array([-2.45, -2.25, -2.05, -1.85, -1.65, -1.45, -1.25, -1.05, -0.85,\n",
        "       -0.65, -0.45, -0.25, -0.05,  0.15,  0.35,  0.55,  0.75,  0.95,\n",
        "        1.15,  1.35,  1.55,  1.75,  1.95,  2.15,  2.35,  2.55,  2.75,\n",
        "        2.95,  3.15,  3.35])"
       ]
      }
     ],
     "prompt_number": 435
    },
    {
     "cell_type": "code",
     "collapsed": false,
     "input": [
      "an_sigma_noct = np.sqrt(1.0 / (prmB + prmC))\n",
      "an_sigma_noct * np.sqrt(prmA)"
     ],
     "language": "python",
     "metadata": {},
     "outputs": [
      {
       "metadata": {},
       "output_type": "pyout",
       "prompt_number": 492,
       "text": [
        "14.142135623730951"
       ]
      }
     ],
     "prompt_number": 492
    },
    {
     "cell_type": "code",
     "collapsed": false,
     "input": [
      "np.trapz(an_dist, x=xi_grid)"
     ],
     "language": "python",
     "metadata": {},
     "outputs": [
      {
       "metadata": {},
       "output_type": "pyout",
       "prompt_number": 425,
       "text": [
        "0.99730012400397183"
       ]
      }
     ],
     "prompt_number": 425
    },
    {
     "cell_type": "heading",
     "level": 4,
     "metadata": {},
     "source": [
      "Simple Prod-Deg"
     ]
    },
    {
     "cell_type": "markdown",
     "metadata": {},
     "source": [
      "$P(n) = \\sqrt{\\frac{B}{2\\pi A}}\\exp\\left(-\\frac{B}{2A} \\left(n - \\frac{A}{B}\\right)^2\\right)$ (again, using $\\Omega = 1$ and writing everything in terms of $A$)."
     ]
    },
    {
     "cell_type": "code",
     "collapsed": false,
     "input": [
      "n_grid = np.linspace(min(bin_lefts), max(bin_lefts), 1000)\n",
      "pdist_analytic = sqrt(prmB / (2.0 * pi * prmA)) * exp(-1.0 * prmB / (2.0 * prmA) * (n_grid - prmA * 1.0 / prmB)**2)"
     ],
     "language": "python",
     "metadata": {},
     "outputs": [],
     "prompt_number": 382
    },
    {
     "cell_type": "code",
     "collapsed": false,
     "input": [
      "np.trapz(pdist_analytic, n_grid)"
     ],
     "language": "python",
     "metadata": {},
     "outputs": [
      {
       "metadata": {},
       "output_type": "pyout",
       "prompt_number": 383,
       "text": [
        "1.0"
       ]
      }
     ],
     "prompt_number": 383
    },
    {
     "cell_type": "markdown",
     "metadata": {},
     "source": [
      "Or, in terms of $\\xi = A^{-1/2}\\left(n - \\frac{A}{B}\\right)$: $P(\\xi) = \\sqrt{\\frac{B}{2\\pi}}\\exp\\left(-\\frac{B\\xi^2}{2}\\right)$:"
     ]
    },
    {
     "cell_type": "code",
     "collapsed": false,
     "input": [
      "an_sigma = 1.0 / np.sqrt(prmB)\n",
      "xi_max = 3 * an_sigma\n",
      "xi_grid = np.linspace(-1*xi_max, xi_max, 1000)\n",
      "an_dist = np.sqrt(prmB / (2 * np.pi)) * np.exp(-1.0 * prmB * xi_grid**2 / 2.0)\n",
      "pdist_scale = np.sqrt(prmA)\n",
      "n_star = prmA / prmB\n",
      "bin_xis = (bin_xs - n_star) / pdist_scale\n",
      "discrete_shift = 0.5 * (bin_xs[1] - bin_xs[0] - 1.0)\n",
      "bin_xis_shifted = (bin_xs + discrete_shift - n_star) / pdist_scale\n",
      "an_coarse = np.sqrt(prmB / (2 * np.pi)) * np.exp(-1.0 * prmB * bin_xis_shifted**2 / 2.0)"
     ],
     "language": "python",
     "metadata": {},
     "outputs": [],
     "prompt_number": 385
    },
    {
     "cell_type": "code",
     "collapsed": false,
     "input": [
      "an_sigma"
     ],
     "language": "python",
     "metadata": {},
     "outputs": [
      {
       "metadata": {},
       "output_type": "pyout",
       "prompt_number": 386,
       "text": [
        "0.57735026918962584"
       ]
      }
     ],
     "prompt_number": 386
    },
    {
     "cell_type": "heading",
     "level": 3,
     "metadata": {},
     "source": [
      "Simulation Results"
     ]
    },
    {
     "cell_type": "code",
     "collapsed": false,
     "input": [
      "fig = figure()\n",
      "ax = fig.gca()\n",
      "im = ax.pcolormesh(bin_xs, array(range(nens)), pdists_res, cmap='hot')\n",
      "ax.set_xlabel('Number of X')\n",
      "ax.set_ylabel('Ensemble Index')\n",
      "ax.set_title('Probability Distribution, Resampling')\n",
      "fig.colorbar(im)"
     ],
     "language": "python",
     "metadata": {},
     "outputs": [
      {
       "metadata": {},
       "output_type": "pyout",
       "prompt_number": 391,
       "text": [
        "<matplotlib.colorbar.Colorbar at 0x7f3a14868128>"
       ]
      }
     ],
     "prompt_number": 391
    },
    {
     "cell_type": "code",
     "collapsed": false,
     "input": [
      "fig = figure()\n",
      "ax = fig.gca()\n",
      "im = ax.pcolormesh(bin_xs, array(range(nens)), bincts_res, cmap='hot')\n",
      "ax.set_ylabel('Ensemble Index')\n",
      "ax.set_xlabel('Number of X')\n",
      "ax.set_title('Bin Counts, Resampling')\n",
      "fig.colorbar(im)"
     ],
     "language": "python",
     "metadata": {},
     "outputs": [
      {
       "metadata": {},
       "output_type": "pyout",
       "prompt_number": 392,
       "text": [
        "<matplotlib.colorbar.Colorbar at 0x7f3a14690898>"
       ]
      }
     ],
     "prompt_number": 392
    },
    {
     "cell_type": "code",
     "collapsed": false,
     "input": [
      "fig = figure()\n",
      "ax = fig.gca()\n",
      "im = ax.pcolormesh(bin_xs, array(range(nens)), pdists_nores, cmap='hot')\n",
      "ax.set_xlabel('Number of X')\n",
      "ax.set_ylabel('Ensemble Index')\n",
      "ax.set_title('Probability Distribution, No Resampling')\n",
      "fig.colorbar(im)"
     ],
     "language": "python",
     "metadata": {},
     "outputs": [
      {
       "metadata": {},
       "output_type": "pyout",
       "prompt_number": 393,
       "text": [
        "<matplotlib.colorbar.Colorbar at 0x7f3a142d5f28>"
       ]
      }
     ],
     "prompt_number": 393
    },
    {
     "cell_type": "code",
     "collapsed": false,
     "input": [
      "fig = figure()\n",
      "ax = fig.gca()\n",
      "im = ax.pcolormesh(bin_xs, array(range(nens)), bincts_nores, cmap='hot')\n",
      "ax.set_ylabel('Ensemble Index')\n",
      "ax.set_xlabel('Number of X')\n",
      "ax.set_title('Bin Counts, No Resampling')\n",
      "fig.colorbar(im)"
     ],
     "language": "python",
     "metadata": {},
     "outputs": [
      {
       "metadata": {},
       "output_type": "pyout",
       "prompt_number": 84,
       "text": [
        "<matplotlib.colorbar.Colorbar at 0x7f3a29f59198>"
       ]
      }
     ],
     "prompt_number": 84
    },
    {
     "cell_type": "code",
     "collapsed": false,
     "input": [
      "pd_mean_res = np.mean(pdists_res, axis=0)\n",
      "pd_mean_nores = np.mean(pdists_nores, axis=0)\n",
      "pd_sem_res = np.std(pdists_res, axis=0) / np.sqrt(nens)\n",
      "pd_sem_nores = np.std(pdists_nores, axis=0) / np.sqrt(nens)"
     ],
     "language": "python",
     "metadata": {},
     "outputs": [],
     "prompt_number": 464
    },
    {
     "cell_type": "heading",
     "level": 4,
     "metadata": {},
     "source": [
      "Scaling of PDist variance"
     ]
    },
    {
     "cell_type": "code",
     "collapsed": false,
     "input": [
      "pd_sigmas = dict()"
     ],
     "language": "python",
     "metadata": {},
     "outputs": [],
     "prompt_number": 447
    },
    {
     "cell_type": "code",
     "collapsed": true,
     "input": [
      "pd_mean_ctr = np.sum(bin_xs * pd_mean_res)\n",
      "pd_mean_sigma = np.sqrt(np.sum(bin_xs**2 * pd_mean_res) - pd_mean_ctr**2)\n",
      "print(pd_mean_ctr)\n",
      "print(prmA / (prmB + prmC))\n",
      "print(pd_mean_sigma)\n",
      "pd_sigmas[prmA] = pd_mean_sigma"
     ],
     "language": "python",
     "metadata": {},
     "outputs": [
      {
       "output_type": "stream",
       "stream": "stdout",
       "text": [
        "48.2957201872\n",
        "50.0\n",
        "8.82451118406\n"
       ]
      }
     ],
     "prompt_number": 465
    },
    {
     "cell_type": "code",
     "collapsed": false,
     "input": [
      "pd_sigmas"
     ],
     "language": "python",
     "metadata": {},
     "outputs": [
      {
       "metadata": {},
       "output_type": "pyout",
       "prompt_number": 466,
       "text": [
        "{400.0: 12.036853618625987,\n",
        " 800.0: 17.010946747942739,\n",
        " 100.0: 6.0149731532523933,\n",
        " 200.0: 8.8245111840627608}"
       ]
      }
     ],
     "prompt_number": 466
    },
    {
     "cell_type": "code",
     "collapsed": false,
     "input": [
      "A_sigmas = array(list(pd_sigmas.items()))\n",
      "plot(log(A_sigmas[:,0]), log(A_sigmas[:,1]), 'o')"
     ],
     "language": "python",
     "metadata": {},
     "outputs": [
      {
       "metadata": {},
       "output_type": "pyout",
       "prompt_number": 467,
       "text": [
        "[<matplotlib.lines.Line2D at 0x7f3a12a9a710>]"
       ]
      }
     ],
     "prompt_number": 467
    },
    {
     "cell_type": "code",
     "collapsed": false,
     "input": [
      "fig = figure()\n",
      "ax = fig.gca()\n",
      "bar_width = bin_xs[1] - bin_xs[0]\n",
      "ax.bar(bin_xs, pd_mean_res, yerr=pd_sem_res, width=bar_width, color='blue', alpha=0.6, ecolor='blue')\n",
      "ax.bar(bin_xs, pd_mean_nores, yerr=pd_sem_res, width=bar_width, color='red', alpha=0.6, ecolor='red')\n",
      "ax.set_ylim(bottom=0.0)\n",
      "ax.legend(('With Resampling', 'No Resampling'))\n",
      "ax.set_xlabel('Number $n$')\n",
      "ax.set_ylabel('Probability $P(n)$')\n",
      "#ax.set_title(r'Delayed-degradation system, $\\Omega A = {:g}$, $B=3$, $C=1$, $\\tau=20$'.format(prmA))"
     ],
     "language": "python",
     "metadata": {},
     "outputs": [
      {
       "metadata": {},
       "output_type": "pyout",
       "prompt_number": 407,
       "text": [
        "<matplotlib.text.Text at 0x7f3a13ce2cc0>"
       ]
      }
     ],
     "prompt_number": 407
    },
    {
     "cell_type": "markdown",
     "metadata": {},
     "source": [
      "In terms of $\\xi = \\frac{n - n^\\star}{\\sqrt{A}}$:"
     ]
    },
    {
     "cell_type": "code",
     "collapsed": false,
     "input": [
      "fig = figure()\n",
      "ax = fig.gca()\n",
      "bar_width = bin_xis[1] - bin_xis[0]\n",
      "ax.bar(bin_xis, pd_mean_res * pdist_scale, yerr=pd_sem_res * pdist_scale, width=bar_width, color='blue', alpha=0.6, ecolor='blue')\n",
      "ax.bar(bin_xis, pd_mean_nores * pdist_scale, yerr=pd_sem_res * pdist_scale, width=bar_width, color='red', alpha=0.6, ecolor='red')\n",
      "ax.set_ylim(bottom=0.0)\n",
      "ax2 = ax,twinx()\n",
      "ax2 = ax2[1]\n",
      "ax2.plot(xi_grid, an_dist, color='black')\n",
      "ax.legend(('With Resampling', 'No Resampling'), loc='best')\n",
      "#ax2.legend(('Analytical Distribution'))\n",
      "ax.set_xlabel(r'Fluctuation $\\xi = A^{-1/2}(n - n^\\star)$')\n",
      "ax.set_ylabel('Probability $P(n)$')\n",
      "ax2.set_ylabel('Analytical probability $P(n)$')\n",
      "#ax.set_title(r'Delayed-degradation system, $\\Omega A = {:g}$, $B=3$, $C=1$, $\\tau=20$'.format(prmA))\n",
      "ax.set_title(r'Production-Degradation system, $A = {:g}$, $B={:g}$'.format(prmA, prmB))"
     ],
     "language": "python",
     "metadata": {},
     "outputs": [
      {
       "metadata": {},
       "output_type": "pyout",
       "prompt_number": 436,
       "text": [
        "<matplotlib.text.Text at 0x7f3a133e5438>"
       ]
      }
     ],
     "prompt_number": 436
    },
    {
     "cell_type": "code",
     "collapsed": false,
     "input": [
      "fig = figure()\n",
      "ax = fig.gca()\n",
      "bar_width = bin_xis[1] - bin_xis[0]\n",
      "bar_scale = 1.0 / bar_width\n",
      "ax.bar(bin_xis_shifted - 0.5*bar_width, pd_mean_res * bar_scale, yerr=pd_sem_res * bar_scale,\n",
      "       width=bar_width, color='blue', alpha=0.6, ecolor='blue', label='With Resampling')\n",
      "ax.bar(bin_xis_shifted - 0.5*bar_width, pd_mean_nores * bar_scale, yerr=pd_sem_res * bar_scale,\n",
      "       width=bar_width, color='red', alpha=0.6, ecolor='red', label='No Resampling')\n",
      "ax.set_ylim(bottom=0.0)\n",
      "ax.plot(xi_grid, an_dist, color='black', label='Analytical')\n",
      "ax.legend(loc='best')\n",
      "ax.set_xlabel(r'Fluctuation $\\xi = A^{-1/2}(n - n^\\star)$')\n",
      "ax.set_ylabel('Probability $P(n)$')\n",
      "ax2.set_ylabel('Analytical probability $P(n)$')\n",
      "#ax.set_title(r'Delayed-degradation system, $\\Omega A = {:g}$, $B={:g}$, $C={:g}$, $\\tau={:g}$'.format(prmA, prmB, prmC, prmTau))\n",
      "ax.set_title(r'Production-Degradation system, $A = {:g}$, $B={:g}$'.format(prmA, prmB))"
     ],
     "language": "python",
     "metadata": {},
     "outputs": [
      {
       "metadata": {},
       "output_type": "pyout",
       "prompt_number": 437,
       "text": [
        "<matplotlib.text.Text at 0x7f3a12d102e8>"
       ]
      }
     ],
     "prompt_number": 437
    },
    {
     "cell_type": "markdown",
     "metadata": {},
     "source": [
      "And now a plot of the deviations from analytical"
     ]
    },
    {
     "cell_type": "code",
     "collapsed": false,
     "input": [
      "fig = figure()\n",
      "ax = fig.gca()\n",
      "bar_width = bin_xis[1] - bin_xis[0]\n",
      "bar_scale = 1.0 / bar_width\n",
      "devs_res = (pd_mean_res * bar_scale - an_coarse) / (pd_sem_res * bar_scale)\n",
      "devs_nores = (pd_mean_nores * bar_scale - an_coarse) / (pd_sem_nores * bar_scale)\n",
      "keep_range = np.abs(bin_xis) <= 2.0\n",
      "ax.bar(bin_xis[keep_range], devs_res[keep_range], width=bar_width, color='blue', alpha=0.6, label='With Resampling')\n",
      "ax.bar(bin_xis[keep_range], devs_nores[keep_range], width=bar_width, color='red', alpha=0.6, label='No Resampling')\n",
      "ax.grid()"
     ],
     "language": "python",
     "metadata": {},
     "outputs": [],
     "prompt_number": 406
    },
    {
     "cell_type": "code",
     "collapsed": false,
     "input": [],
     "language": "python",
     "metadata": {},
     "outputs": []
    }
   ],
   "metadata": {}
  }
 ]
}