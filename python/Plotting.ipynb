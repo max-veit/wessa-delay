{
 "metadata": {
  "name": "",
  "signature": "sha256:451f0c42ef3576c18b626b0cd0b14335006210ca740ed44fbb6982315835454f"
 },
 "nbformat": 3,
 "nbformat_minor": 0,
 "worksheets": [
  {
   "cells": [
    {
     "cell_type": "heading",
     "level": 1,
     "metadata": {},
     "source": [
      "Initialization"
     ]
    },
    {
     "cell_type": "code",
     "collapsed": false,
     "input": [
      "%pylab"
     ],
     "language": "python",
     "metadata": {},
     "outputs": [
      {
       "output_type": "stream",
       "stream": "stdout",
       "text": [
        "Using matplotlib backend: Qt4Agg\n",
        "Populating the interactive namespace from numpy and matplotlib\n"
       ]
      }
     ],
     "prompt_number": 1
    },
    {
     "cell_type": "code",
     "collapsed": false,
     "input": [
      "mpl.rcParams.update({'font.family': 'serif',\n",
      "                     'font.size': 12,\n",
      "                     'font.sans-serif': [],})"
     ],
     "language": "python",
     "metadata": {},
     "outputs": [],
     "prompt_number": 2
    },
    {
     "cell_type": "code",
     "collapsed": false,
     "input": [
      "import json\n",
      "from mpl_toolkits.axes_grid1 import ImageGrid"
     ],
     "language": "python",
     "metadata": {},
     "outputs": [],
     "prompt_number": 29
    },
    {
     "cell_type": "heading",
     "level": 1,
     "metadata": {},
     "source": [
      "Delayed Joint Distribution"
     ]
    },
    {
     "cell_type": "code",
     "collapsed": false,
     "input": [
      "dd_joint = np.load('dd_joint_output.npz')"
     ],
     "language": "python",
     "metadata": {},
     "outputs": [],
     "prompt_number": 22
    },
    {
     "cell_type": "code",
     "collapsed": false,
     "input": [
      "C_vals = dd_joint['C_vals']\n",
      "j_pdists = dd_joint['j_pdists']"
     ],
     "language": "python",
     "metadata": {},
     "outputs": [],
     "prompt_number": 23
    },
    {
     "cell_type": "code",
     "collapsed": false,
     "input": [
      "C_vals"
     ],
     "language": "python",
     "metadata": {},
     "outputs": [
      {
       "metadata": {},
       "output_type": "pyout",
       "prompt_number": 34,
       "text": [
        "array([ 1. ,  1.5,  2. ,  2.5,  3. ,  3.5,  4. ,  4.5,  5. ])"
       ]
      }
     ],
     "prompt_number": 34
    },
    {
     "cell_type": "code",
     "collapsed": false,
     "input": [
      "plt.pcolormesh(j_pdists[1,...], cmap='hot')"
     ],
     "language": "python",
     "metadata": {},
     "outputs": [
      {
       "metadata": {},
       "output_type": "pyout",
       "prompt_number": 28,
       "text": [
        "<matplotlib.collections.QuadMesh at 0x7f5e62558278>"
       ]
      }
     ],
     "prompt_number": 28
    },
    {
     "cell_type": "code",
     "collapsed": false,
     "input": [
      "fig = figure()\n",
      "ax = fig.add_subplot(111, frameon=False)\n",
      "ax.set_xticks([])\n",
      "ax.set_yticks([])\n",
      "ax.set_xlabel('$x(t)$')\n",
      "ax.set_ylabel('$x(t - \\\\tau)$')\n",
      "ax.set_aspect('equal')\n",
      "ax.set_position((0.05, 0.05, 0.9, 0.9))\n",
      "tiles = ImageGrid(fig, 111, nrows_ncols=(3, 3), axes_pad=0.1)\n",
      "for gridx in range(9):\n",
      "    tiles[gridx].pcolormesh(j_pdists[gridx,...].T, cmap='hot')"
     ],
     "language": "python",
     "metadata": {},
     "outputs": [],
     "prompt_number": 53
    },
    {
     "cell_type": "code",
     "collapsed": false,
     "input": [
      "dir(tiles)"
     ],
     "language": "python",
     "metadata": {},
     "outputs": [
      {
       "metadata": {},
       "output_type": "pyout",
       "prompt_number": 44,
       "text": [
        "['__class__',\n",
        " '__delattr__',\n",
        " '__dict__',\n",
        " '__dir__',\n",
        " '__doc__',\n",
        " '__eq__',\n",
        " '__format__',\n",
        " '__ge__',\n",
        " '__getattribute__',\n",
        " '__getitem__',\n",
        " '__gt__',\n",
        " '__hash__',\n",
        " '__init__',\n",
        " '__le__',\n",
        " '__lt__',\n",
        " '__module__',\n",
        " '__ne__',\n",
        " '__new__',\n",
        " '__reduce__',\n",
        " '__reduce_ex__',\n",
        " '__repr__',\n",
        " '__setattr__',\n",
        " '__sizeof__',\n",
        " '__str__',\n",
        " '__subclasshook__',\n",
        " '__weakref__',\n",
        " '_axes_pad',\n",
        " '_colorbar_location',\n",
        " '_colorbar_mode',\n",
        " '_colorbar_pad',\n",
        " '_colorbar_size',\n",
        " '_column_refax',\n",
        " '_defaultCbarAxesClass',\n",
        " '_defaultLocatableAxesClass',\n",
        " '_direction',\n",
        " '_divider',\n",
        " '_get_col_row',\n",
        " '_horiz_pad_size',\n",
        " '_init_axes_pad',\n",
        " '_ncols',\n",
        " '_nrows',\n",
        " '_refax',\n",
        " '_row_refax',\n",
        " '_update_locators',\n",
        " '_vert_pad_size',\n",
        " 'axes_all',\n",
        " 'axes_column',\n",
        " 'axes_llc',\n",
        " 'axes_row',\n",
        " 'cbar_axes',\n",
        " 'get_aspect',\n",
        " 'get_axes_locator',\n",
        " 'get_axes_pad',\n",
        " 'get_divider',\n",
        " 'get_geometry',\n",
        " 'get_vsize_hsize',\n",
        " 'ngrids',\n",
        " 'set_aspect',\n",
        " 'set_axes_locator',\n",
        " 'set_axes_pad',\n",
        " 'set_label_mode']"
       ]
      }
     ],
     "prompt_number": 44
    },
    {
     "cell_type": "code",
     "collapsed": false,
     "input": [
      "tiles.get_axes_locator()"
     ],
     "language": "python",
     "metadata": {},
     "outputs": [],
     "prompt_number": 46
    },
    {
     "cell_type": "code",
     "collapsed": false,
     "input": [],
     "language": "python",
     "metadata": {},
     "outputs": []
    }
   ],
   "metadata": {}
  }
 ]
}