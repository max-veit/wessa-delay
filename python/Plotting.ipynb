{
 "metadata": {
  "name": "",
  "signature": "sha256:842f18e446705ce8019fcea56e3203f07d494e9f65bce84dfefbfb5204893493"
 },
 "nbformat": 3,
 "nbformat_minor": 0,
 "worksheets": [
  {
   "cells": [
    {
     "cell_type": "heading",
     "level": 1,
     "metadata": {},
     "source": [
      "Initialization"
     ]
    },
    {
     "cell_type": "code",
     "collapsed": false,
     "input": [
      "%pylab"
     ],
     "language": "python",
     "metadata": {},
     "outputs": [
      {
       "output_type": "stream",
       "stream": "stdout",
       "text": [
        "Using matplotlib backend: Qt4Agg\n",
        "Populating the interactive namespace from numpy and matplotlib\n"
       ]
      }
     ],
     "prompt_number": 1
    },
    {
     "cell_type": "code",
     "collapsed": false,
     "input": [
      "mpl.rcParams.update({'font.family': 'serif',\n",
      "                     'font.size': 12,\n",
      "                     'font.serif': [],})"
     ],
     "language": "python",
     "metadata": {},
     "outputs": [],
     "prompt_number": 2
    },
    {
     "cell_type": "code",
     "collapsed": false,
     "input": [
      "from mpl_toolkits.axes_grid1 import ImageGrid"
     ],
     "language": "python",
     "metadata": {},
     "outputs": [],
     "prompt_number": 3
    },
    {
     "cell_type": "heading",
     "level": 1,
     "metadata": {},
     "source": [
      "Delayed Joint Distribution"
     ]
    },
    {
     "cell_type": "markdown",
     "metadata": {},
     "source": [
      "$A\\Omega = 100$"
     ]
    },
    {
     "cell_type": "code",
     "collapsed": false,
     "input": [
      "dd_joint = np.load('output/ddjd_sweep1.npz')"
     ],
     "language": "python",
     "metadata": {},
     "outputs": [],
     "prompt_number": 17
    },
    {
     "cell_type": "code",
     "collapsed": false,
     "input": [
      "bin_ubound = 60\n",
      "nbins = 60\n",
      "bin_lefts = np.linspace(0, bin_ubound, nbins, endpoint=False)\n",
      "bin_ctrs = bin_lefts + bin_ubound / nbins / 2.0"
     ],
     "language": "python",
     "metadata": {},
     "outputs": [],
     "prompt_number": 37
    },
    {
     "cell_type": "code",
     "collapsed": false,
     "input": [
      "C_vals = dd_joint['C_vals']\n",
      "j_pdists = dd_joint['j_pdists']\n",
      "A_val = 100.0"
     ],
     "language": "python",
     "metadata": {},
     "outputs": [],
     "prompt_number": 38
    },
    {
     "cell_type": "code",
     "collapsed": false,
     "input": [
      "C_vals"
     ],
     "language": "python",
     "metadata": {},
     "outputs": [
      {
       "metadata": {},
       "output_type": "pyout",
       "prompt_number": 20,
       "text": [
        "array([ 1.        ,  1.33333333,  1.66666667,  2.        ,  2.33333333,\n",
        "        2.66666667,  3.        ,  3.33333333,  3.66666667,  4.        ,\n",
        "        4.33333333,  4.66666667,  5.        ])"
       ]
      }
     ],
     "prompt_number": 20
    },
    {
     "cell_type": "code",
     "collapsed": false,
     "input": [
      "plt.pcolormesh(j_pdists[1,...], cmap='hot')"
     ],
     "language": "python",
     "metadata": {},
     "outputs": [
      {
       "metadata": {},
       "output_type": "pyout",
       "prompt_number": 15,
       "text": [
        "<matplotlib.collections.QuadMesh at 0x7f95d58ba9b0>"
       ]
      }
     ],
     "prompt_number": 15
    },
    {
     "cell_type": "code",
     "collapsed": false,
     "input": [
      "fig = figure()\n",
      "ax = fig.add_subplot(111, frameon=False)\n",
      "ax.set_xticks([])\n",
      "ax.set_yticks([])\n",
      "ax.set_xlabel('$n(t)$')\n",
      "ax.set_ylabel('$n(t - \\\\tau)$')\n",
      "ax.set_aspect('equal')\n",
      "ax.set_position((0.05, 0.05, 0.9, 0.9))\n",
      "tiles = ImageGrid(fig, 111, nrows_ncols=(3, 4), axes_pad=0.1)\n",
      "for gridx in range(12):\n",
      "    tiles[gridx].pcolormesh(bin_lefts, bin_lefts, j_pdists[gridx,...].T, cmap='hot')\n",
      "fig.suptitle('Parameter sweep, $\\\\Omega A=100$, $B=3$, $C \\in [1, 5]$')"
     ],
     "language": "python",
     "metadata": {},
     "outputs": [
      {
       "metadata": {},
       "output_type": "pyout",
       "prompt_number": 39,
       "text": [
        "<matplotlib.text.Text at 0x7f95d2049828>"
       ]
      }
     ],
     "prompt_number": 39
    },
    {
     "cell_type": "markdown",
     "metadata": {},
     "source": [
      "$A\\Omega = 10^3$"
     ]
    },
    {
     "cell_type": "code",
     "collapsed": false,
     "input": [
      "ddj_3 = np.load('output/ddjd_sweep3.npz')"
     ],
     "language": "python",
     "metadata": {},
     "outputs": [],
     "prompt_number": 44
    },
    {
     "cell_type": "code",
     "collapsed": false,
     "input": [
      "bin_ubound = 600\n",
      "nbins = 60\n",
      "bin_lefts = np.linspace(0, bin_ubound, nbins, endpoint=False)\n",
      "bin_ctrs = bin_lefts + bin_ubound / nbins / 2.0"
     ],
     "language": "python",
     "metadata": {},
     "outputs": [],
     "prompt_number": 45
    },
    {
     "cell_type": "code",
     "collapsed": false,
     "input": [
      "C_vals = ddj_3['C_vals']\n",
      "j_pdists = ddj_3['j_pdists']\n",
      "A_val = 1000.0"
     ],
     "language": "python",
     "metadata": {},
     "outputs": [],
     "prompt_number": 46
    },
    {
     "cell_type": "code",
     "collapsed": false,
     "input": [
      "fig = figure()\n",
      "ax = fig.add_subplot(111, frameon=False)\n",
      "ax.set_xticks([])\n",
      "ax.set_yticks([])\n",
      "ax.set_xlabel('$n(t)$')\n",
      "ax.set_ylabel('$n(t - \\\\tau)$')\n",
      "ax.set_aspect(0.75)\n",
      "ax.set_position((0.05, 0.05, 0.9, 0.9))\n",
      "tiles = ImageGrid(fig, 111, nrows_ncols=(3, 4), axes_pad=0.1)\n",
      "for gridx in range(12):\n",
      "    tiles[gridx].pcolormesh(bin_lefts, bin_lefts, j_pdists[gridx,...].T, cmap='hot')\n",
      "fig.suptitle('Parameter sweep, $\\\\Omega A=1000$, $B=3$, $C \\in [1, 5]$')"
     ],
     "language": "python",
     "metadata": {},
     "outputs": [
      {
       "metadata": {},
       "output_type": "pyout",
       "prompt_number": 60,
       "text": [
        "<matplotlib.text.Text at 0x7fa9c15d80f0>"
       ]
      }
     ],
     "prompt_number": 60
    },
    {
     "cell_type": "markdown",
     "metadata": {},
     "source": [
      "$A\\Omega = 10^4$\n",
      "\n",
      "(Need to investigate further; binning does not seem to be working)"
     ]
    },
    {
     "cell_type": "code",
     "collapsed": false,
     "input": [
      "ddj_4 = np.load('output/ddjd_sweep4.npz')\n",
      "A_val = 10000.0"
     ],
     "language": "python",
     "metadata": {},
     "outputs": [],
     "prompt_number": 61
    },
    {
     "cell_type": "code",
     "collapsed": false,
     "input": [
      "bin_ubound = 6000\n",
      "nbins = 60\n",
      "bin_lefts = np.linspace(0, bin_ubound, nbins, endpoint=False)\n",
      "bin_ctrs = bin_lefts + bin_ubound / nbins / 2.0"
     ],
     "language": "python",
     "metadata": {},
     "outputs": [],
     "prompt_number": 97
    },
    {
     "cell_type": "code",
     "collapsed": false,
     "input": [
      "C_vals = ddj_4['C_vals']\n",
      "j_pdists = ddj_4['j_pdists']"
     ],
     "language": "python",
     "metadata": {},
     "outputs": [],
     "prompt_number": 62
    },
    {
     "cell_type": "code",
     "collapsed": false,
     "input": [
      "fig = figure()\n",
      "ax = fig.add_subplot(111, frameon=False)\n",
      "ax.set_xticks([])\n",
      "ax.set_yticks([])\n",
      "ax.set_xlabel('$x(t)$')\n",
      "ax.set_ylabel('$x(t - \\\\tau)$')\n",
      "ax.set_aspect('equal')\n",
      "ax.set_position((0.05, 0.05, 0.9, 0.9))\n",
      "tiles = ImageGrid(fig, 111, nrows_ncols=(3, 4), axes_pad=0.1)\n",
      "for gridx in range(12):\n",
      "    tiles[gridx].pcolormesh(bin_lefts, bin_lefts, j_pdists[gridx,...].T, cmap='hot')\n",
      "fig.suptitle('Parameter sweep, $\\\\Omega A=10\\,000$, $B=3$, $C \\in [1, 5]$')"
     ],
     "language": "python",
     "metadata": {},
     "outputs": [
      {
       "metadata": {},
       "output_type": "pyout",
       "prompt_number": 79,
       "text": [
        "<matplotlib.text.Text at 0x7fbd347d3518>"
       ]
      }
     ],
     "prompt_number": 79
    },
    {
     "cell_type": "heading",
     "level": 2,
     "metadata": {},
     "source": [
      "Conditional Averages"
     ]
    },
    {
     "cell_type": "code",
     "collapsed": false,
     "input": [
      "margdist_n = np.sum(j_pdists, axis=2)\n",
      "# The division here takes care of any normalization factors on the joint distribution\n",
      "cond_avg = np.sum(j_pdists * bin_ctrs[np.newaxis,np.newaxis,:] / margdist_n[:,:,np.newaxis], axis=2)"
     ],
     "language": "python",
     "metadata": {},
     "outputs": [
      {
       "output_type": "stream",
       "stream": "stderr",
       "text": [
        "-c:3: RuntimeWarning: invalid value encountered in true_divide\n"
       ]
      }
     ],
     "prompt_number": 38
    },
    {
     "cell_type": "code",
     "collapsed": false,
     "input": [
      "cond_avg.shape"
     ],
     "language": "python",
     "metadata": {},
     "outputs": [
      {
       "metadata": {},
       "output_type": "pyout",
       "prompt_number": 39,
       "text": [
        "(13, 60)"
       ]
      }
     ],
     "prompt_number": 39
    },
    {
     "cell_type": "markdown",
     "metadata": {},
     "source": [
      "The Langevin limit: a straight line"
     ]
    },
    {
     "cell_type": "code",
     "collapsed": false,
     "input": [
      "C_idx = 9\n",
      "B_val = 3.0\n",
      "tau = 20.0\n",
      "C_val = C_vals[C_idx]\n",
      "omega_h = np.sqrt(C_val**2 - prmB**2)\n",
      "ca_slope = (omega_h * np.cos(omega_h * tau) - B_val * np.sin(omega_h * tau)) / (omega_h + C_val * np.sin(omega_h * tau))\n",
      "n_star = A_val / (B_val + C_val)"
     ],
     "language": "python",
     "metadata": {},
     "outputs": [],
     "prompt_number": 58
    },
    {
     "cell_type": "code",
     "collapsed": false,
     "input": [
      "fig = figure()\n",
      "plot((bin_ctrs - n_star) / np.sqrt(A_val), (cond_avg[C_idx,...] - n_star) / np.sqrt(A_val), figure=fig)\n",
      "xi_grid = np.linspace(-8, 8, 100)\n",
      "plot(xi_grid, ca_slope * xi_grid)\n",
      "print(C_val)"
     ],
     "language": "python",
     "metadata": {},
     "outputs": [
      {
       "output_type": "stream",
       "stream": "stdout",
       "text": [
        "4.0\n"
       ]
      }
     ],
     "prompt_number": 59
    },
    {
     "cell_type": "code",
     "collapsed": false,
     "input": [
      "plot(bin_ctrs, cond_avg.T)"
     ],
     "language": "python",
     "metadata": {},
     "outputs": [
      {
       "metadata": {},
       "output_type": "pyout",
       "prompt_number": 27,
       "text": [
        "[<matplotlib.lines.Line2D at 0x7f95d33b64e0>,\n",
        " <matplotlib.lines.Line2D at 0x7f95d33b6860>,\n",
        " <matplotlib.lines.Line2D at 0x7f95d33b6b38>,\n",
        " <matplotlib.lines.Line2D at 0x7f95d33b6da0>,\n",
        " <matplotlib.lines.Line2D at 0x7f95d33b8048>,\n",
        " <matplotlib.lines.Line2D at 0x7f95d33b82b0>,\n",
        " <matplotlib.lines.Line2D at 0x7f95d33b8518>,\n",
        " <matplotlib.lines.Line2D at 0x7f95d37f4f28>,\n",
        " <matplotlib.lines.Line2D at 0x7f95d33b89e8>,\n",
        " <matplotlib.lines.Line2D at 0x7f95d33b8c50>,\n",
        " <matplotlib.lines.Line2D at 0x7f95d33b8eb8>,\n",
        " <matplotlib.lines.Line2D at 0x7f95d33bb160>,\n",
        " <matplotlib.lines.Line2D at 0x7f95d33bb3c8>]"
       ]
      }
     ],
     "prompt_number": 27
    },
    {
     "cell_type": "code",
     "collapsed": false,
     "input": [
      "pcolormesh(j_pdists[3,...].T, cmap='hot')"
     ],
     "language": "python",
     "metadata": {},
     "outputs": [
      {
       "metadata": {},
       "output_type": "pyout",
       "prompt_number": 48,
       "text": [
        "<matplotlib.collections.QuadMesh at 0x7f5f1b62be80>"
       ]
      }
     ],
     "prompt_number": 48
    },
    {
     "cell_type": "heading",
     "level": 1,
     "metadata": {},
     "source": [
      "Weighted-Ensemble Verification"
     ]
    },
    {
     "cell_type": "markdown",
     "metadata": {},
     "source": [
      "For the delayed-deg system below the Hopf bifurcation:\n",
      "\n",
      "Analytical distribution is $P(\\xi) = \\sqrt{\\frac{b + c}{2\\pi a (1 + c\\tau)}}\\exp\\left(- \\frac{b + c}{2 a (1 + c\\tau)}\\xi^2 \\right)$ (as a function of fluctuation $\\xi$ from the mean of $x^\\star = \\frac{a}{b+c}$)"
     ]
    },
    {
     "cell_type": "markdown",
     "metadata": {},
     "source": [
      "$A\\Omega = 100$"
     ]
    },
    {
     "cell_type": "code",
     "collapsed": false,
     "input": [
      "ddwe1_res = np.load('output/ddwe_gauss_freqres.npz')\n",
      "ddwe1_nores = np.load('output/ddwe_gauss_freqnores_counts.npz')"
     ],
     "language": "python",
     "metadata": {},
     "outputs": [],
     "prompt_number": 55
    },
    {
     "cell_type": "code",
     "collapsed": false,
     "input": [
      "rxn_params = ddwe1_res['rxn_params'][()]\n",
      "print(rxn_params)\n",
      "prmA = rxn_params['k_plus']\n",
      "prmB = rxn_params['k_minus']\n",
      "prmC = rxn_params['k_delayed']\n",
      "prmTau = rxn_params['tau_delay']"
     ],
     "language": "python",
     "metadata": {},
     "outputs": [
      {
       "output_type": "stream",
       "stream": "stdout",
       "text": [
        "{'k_plus': 100.0, 'k_minus': 3.0, 'k_delayed': 1.0, 'tau_delay': 20.0}\n"
       ]
      }
     ],
     "prompt_number": 56
    },
    {
     "cell_type": "code",
     "collapsed": false,
     "input": [
      "pdists_res = ddwe1_res['prob_dists']\n",
      "pdists_nores = ddwe1_nores['prob_dists']\n",
      "bincts_res = ddwe1_res['bin_counts']\n",
      "bincts_nores = ddwe1_nores['bin_counts']\n",
      "bin_xs = ddwe1_res['bin_xs']\n",
      "nens = pdists_res.shape[0]"
     ],
     "language": "python",
     "metadata": {},
     "outputs": [],
     "prompt_number": 57
    },
    {
     "cell_type": "markdown",
     "metadata": {},
     "source": [
      "$A\\Omega = 200$"
     ]
    },
    {
     "cell_type": "code",
     "collapsed": false,
     "input": [
      "ddwe2_res = np.load('output/ddwe_gauss_wa200_freqres.npz')\n",
      "ddwe2_nores = np.load('output/ddwe_gauss_wa200_freqnores.npz')"
     ],
     "language": "python",
     "metadata": {},
     "outputs": [],
     "prompt_number": 50
    },
    {
     "cell_type": "code",
     "collapsed": false,
     "input": [
      "rxn_params = ddwe2_res['rxn_params'][()]\n",
      "print(rxn_params)\n",
      "prmA = rxn_params['k_plus']\n",
      "prmB = rxn_params['k_minus']\n",
      "prmC = rxn_params['k_delayed']\n",
      "prmTau = rxn_params['tau_delay']"
     ],
     "language": "python",
     "metadata": {},
     "outputs": [
      {
       "output_type": "stream",
       "stream": "stdout",
       "text": [
        "{'k_plus': 200.0, 'k_minus': 3.0, 'k_delayed': 1.0, 'tau_delay': 20.0}\n"
       ]
      }
     ],
     "prompt_number": 51
    },
    {
     "cell_type": "code",
     "collapsed": false,
     "input": [
      "pdists_res = ddwe2_res['prob_dists']\n",
      "pdists_nores = ddwe2_nores['prob_dists']\n",
      "bincts_res = ddwe2_res['bin_counts']\n",
      "bincts_nores = ddwe2_nores['bin_counts']\n",
      "bin_xs = ddwe2_res['bin_xs']\n",
      "nens = pdists_res.shape[0]"
     ],
     "language": "python",
     "metadata": {},
     "outputs": [],
     "prompt_number": 52
    },
    {
     "cell_type": "markdown",
     "metadata": {},
     "source": [
      "$A\\Omega = 400$"
     ]
    },
    {
     "cell_type": "code",
     "collapsed": false,
     "input": [
      "ddwe4_res = np.load('output/ddwe_gauss_wa400_freqres.npz')\n",
      "ddwe4_nores = np.load('output/ddwe_gauss_wa400_freqnores.npz')"
     ],
     "language": "python",
     "metadata": {},
     "outputs": [],
     "prompt_number": 43
    },
    {
     "cell_type": "code",
     "collapsed": false,
     "input": [
      "rxn_params = ddwe4_res['rxn_params'][()]\n",
      "print(rxn_params)\n",
      "prmA = rxn_params['k_plus']\n",
      "prmB = rxn_params['k_minus']\n",
      "prmC = rxn_params['k_delayed']\n",
      "prmTau = rxn_params['tau_delay']"
     ],
     "language": "python",
     "metadata": {},
     "outputs": [
      {
       "output_type": "stream",
       "stream": "stdout",
       "text": [
        "{'k_plus': 400.0, 'k_minus': 3.0, 'k_delayed': 1.0, 'tau_delay': 20.0}\n"
       ]
      }
     ],
     "prompt_number": 44
    },
    {
     "cell_type": "code",
     "collapsed": false,
     "input": [
      "pdists_res = ddwe4_res['prob_dists']\n",
      "pdists_nores = ddwe4_nores['prob_dists']\n",
      "bincts_res = ddwe4_res['bin_counts']\n",
      "bincts_nores = ddwe4_nores['bin_counts']\n",
      "bin_xs = ddwe4_res['bin_xs']\n",
      "nens = pdists_res.shape[0]"
     ],
     "language": "python",
     "metadata": {},
     "outputs": [],
     "prompt_number": 45
    },
    {
     "cell_type": "markdown",
     "metadata": {},
     "source": [
      "$A\\Omega = 10^3$"
     ]
    },
    {
     "cell_type": "code",
     "collapsed": false,
     "input": [
      "ddwe3_res = np.load('output/ddwe_gauss_wa1k_100res.npz')\n",
      "ddwe3_nores = np.load('output/ddwe_gauss_wa1k_100nores.npz')"
     ],
     "language": "python",
     "metadata": {},
     "outputs": [],
     "prompt_number": 4
    },
    {
     "cell_type": "code",
     "collapsed": false,
     "input": [
      "rxn_params = ddwe3_res['rxn_params'][()]\n",
      "print(rxn_params)\n",
      "prmA = rxn_params['k_plus']\n",
      "prmB = rxn_params['k_minus']\n",
      "prmC = rxn_params['k_delayed']\n",
      "prmTau = rxn_params['tau_delay']"
     ],
     "language": "python",
     "metadata": {},
     "outputs": [
      {
       "output_type": "stream",
       "stream": "stdout",
       "text": [
        "{'k_plus': 1000.0, 'k_minus': 3.0, 'k_delayed': 1.0, 'tau_delay': 20.0}\n"
       ]
      }
     ],
     "prompt_number": 5
    },
    {
     "cell_type": "code",
     "collapsed": false,
     "input": [
      "pdists_res = ddwe3_res['prob_dists']\n",
      "pdists_nores = ddwe3_nores['prob_dists']\n",
      "bin_xs = ddwe3_res['bin_xs']\n",
      "nens = pdists_res.shape[0]"
     ],
     "language": "python",
     "metadata": {},
     "outputs": [],
     "prompt_number": 6
    },
    {
     "cell_type": "markdown",
     "metadata": {},
     "source": [
      "With more frequent resampling ($\\tau_p = 0.02$, $A\\Omega = 10^2$)"
     ]
    },
    {
     "cell_type": "code",
     "collapsed": false,
     "input": [
      "ddwe2f_res = np.load('output/ddwe_gauss_freqres20.npz')\n",
      "ddwe2f_nores = np.load('output/ddwe_gauss_freqnores20.npz')"
     ],
     "language": "python",
     "metadata": {},
     "outputs": [],
     "prompt_number": 4
    },
    {
     "cell_type": "code",
     "collapsed": false,
     "input": [
      "rxn_params = ddwe2f_res['rxn_params'][()]\n",
      "print(rxn_params)\n",
      "prmA = rxn_params['k_plus']\n",
      "prmB = rxn_params['k_minus']\n",
      "prmC = rxn_params['k_delayed']\n",
      "prmTau = rxn_params['tau_delay']"
     ],
     "language": "python",
     "metadata": {},
     "outputs": [
      {
       "output_type": "stream",
       "stream": "stdout",
       "text": [
        "{'k_delayed': 1.0, 'k_minus': 3.0, 'tau_delay': 20.0, 'k_plus': 100.0}\n"
       ]
      }
     ],
     "prompt_number": 5
    },
    {
     "cell_type": "code",
     "collapsed": false,
     "input": [
      "pdists_res = ddwe2f_res['prob_dists']\n",
      "pdists_nores = ddwe2f_nores['prob_dists']\n",
      "bin_xs = ddwe2f_res['bin_xs']\n",
      "nens = pdists_res.shape[0]\n",
      "bin_counts = ddwe2f_res['bin_counts']"
     ],
     "language": "python",
     "metadata": {},
     "outputs": [],
     "prompt_number": 16
    },
    {
     "cell_type": "heading",
     "level": 3,
     "metadata": {},
     "source": [
      "Analytical Distribution"
     ]
    },
    {
     "cell_type": "code",
     "collapsed": false,
     "input": [
      "an_normfact = np.sqrt((prmB + prmC) / (2*np.pi * (1 + prmC*prmTau)))\n",
      "an_sigma = np.sqrt((1 + prmC*prmTau) / (prmB + prmC))\n",
      "xi_max = 3 * an_sigma\n",
      "xi_grid = np.linspace(-1*xi_max, xi_max, 1000)\n",
      "an_dist = an_normfact * np.exp((prmB + prmC) * -1 * xi_grid**2 / (2 * (1 + prmC*prmTau)))"
     ],
     "language": "python",
     "metadata": {},
     "outputs": [],
     "prompt_number": 7
    },
    {
     "cell_type": "code",
     "collapsed": false,
     "input": [
      "plot(xi_grid, an_dist)"
     ],
     "language": "python",
     "metadata": {},
     "outputs": [
      {
       "metadata": {},
       "output_type": "pyout",
       "prompt_number": 25,
       "text": [
        "[<matplotlib.lines.Line2D at 0x7fb4f8b78518>]"
       ]
      }
     ],
     "prompt_number": 25
    },
    {
     "cell_type": "code",
     "collapsed": false,
     "input": [
      "an_sigma"
     ],
     "language": "python",
     "metadata": {},
     "outputs": [
      {
       "metadata": {},
       "output_type": "pyout",
       "prompt_number": 8,
       "text": [
        "2.2912878474779199"
       ]
      }
     ],
     "prompt_number": 8
    },
    {
     "cell_type": "code",
     "collapsed": false,
     "input": [
      "np.trapz(an_dist, x=xi_grid)"
     ],
     "language": "python",
     "metadata": {},
     "outputs": [
      {
       "metadata": {},
       "output_type": "pyout",
       "prompt_number": 27,
       "text": [
        "0.99997790699147104"
       ]
      }
     ],
     "prompt_number": 27
    },
    {
     "cell_type": "heading",
     "level": 3,
     "metadata": {},
     "source": [
      "Simulation Results"
     ]
    },
    {
     "cell_type": "code",
     "collapsed": false,
     "input": [
      "pd_sigmas = dict()"
     ],
     "language": "python",
     "metadata": {},
     "outputs": [],
     "prompt_number": 48
    },
    {
     "cell_type": "code",
     "collapsed": false,
     "input": [
      "pd_mean_res = np.mean(pdists_res, axis=0)\n",
      "pd_mean_nores = np.mean(pdists_nores, axis=0)\n",
      "pd_sem_res = np.std(pdists_res, axis=0) / np.sqrt(nens)\n",
      "pd_sem_nores = np.std(pdists_nores, axis=0) / np.sqrt(nens)"
     ],
     "language": "python",
     "metadata": {},
     "outputs": [],
     "prompt_number": 58
    },
    {
     "cell_type": "heading",
     "level": 4,
     "metadata": {},
     "source": [
      "Scaling of PDist variance"
     ]
    },
    {
     "cell_type": "code",
     "collapsed": false,
     "input": [
      "pd_mean_ctr = np.sum(bin_xs * pd_mean_res)\n",
      "pd_mean_sigma = np.sqrt(np.sum(bin_xs**2 * pd_mean_res) - pd_mean_ctr**2)\n",
      "print(pd_mean_ctr)\n",
      "print(prmA / (prmB + prmC))\n",
      "print(pd_mean_sigma)\n",
      "pd_sigmas[prmA] = pd_mean_sigma"
     ],
     "language": "python",
     "metadata": {},
     "outputs": [
      {
       "output_type": "stream",
       "stream": "stdout",
       "text": [
        "24.7546392991\n",
        "25.0\n",
        "6.01497315325\n"
       ]
      }
     ],
     "prompt_number": 59
    },
    {
     "cell_type": "code",
     "collapsed": false,
     "input": [
      "A_sigmas = array(list(pd_sigmas.items()))\n",
      "plot(log(A_sigmas[:,0]), log(A_sigmas[:,1]), 'o')"
     ],
     "language": "python",
     "metadata": {},
     "outputs": [
      {
       "metadata": {},
       "output_type": "pyout",
       "prompt_number": 68,
       "text": [
        "[<matplotlib.lines.Line2D at 0x7fcb63505ba8>]"
       ]
      }
     ],
     "prompt_number": 68
    },
    {
     "cell_type": "code",
     "collapsed": false,
     "input": [
      "fig = figure()\n",
      "ax = fig.gca()\n",
      "bar_width = bin_xs[1] - bin_xs[0]\n",
      "ax.bar(bin_xs, pd_mean_res, yerr=pd_sem_res, width=bar_width, color='blue', alpha=0.6, ecolor='blue')\n",
      "ax.bar(bin_xs, pd_mean_nores, yerr=pd_sem_res, width=bar_width, color='red', alpha=0.6, ecolor='red')\n",
      "ax.set_ylim(bottom=0.0)\n",
      "ax.legend(('With Resampling', 'No Resampling'))\n",
      "ax.set_xlabel('Number $n$')\n",
      "ax.set_ylabel('Probability $P(n)$')\n",
      "ax.set_title(r'Delayed-degradation system, $\\Omega A = {:g}$, $B=3$, $C=1$, $\\tau=20$'.format(prmA))"
     ],
     "language": "python",
     "metadata": {},
     "outputs": [
      {
       "metadata": {},
       "output_type": "pyout",
       "prompt_number": 33,
       "text": [
        "<matplotlib.text.Text at 0x7fcb641358d0>"
       ]
      }
     ],
     "prompt_number": 33
    },
    {
     "cell_type": "code",
     "collapsed": false,
     "input": [
      "fig = figure()\n",
      "ax = fig.gca()\n",
      "im = ax.pcolormesh(bincts_res, cmap='hot')\n",
      "ax.set_ylabel('Ensemble Index')\n",
      "ax.set_xlabel('Bin Number')\n",
      "ax.set_title('Bin counts for prob. dist, before resampling')\n",
      "fig.colorbar(im)"
     ],
     "language": "python",
     "metadata": {},
     "outputs": [
      {
       "metadata": {},
       "output_type": "pyout",
       "prompt_number": 34,
       "text": [
        "<matplotlib.colorbar.Colorbar at 0x7fcb63ce4d68>"
       ]
      }
     ],
     "prompt_number": 34
    },
    {
     "cell_type": "code",
     "collapsed": false,
     "input": [
      "fig = figure()\n",
      "ax = fig.gca()\n",
      "im = ax.pcolormesh(bincts_nores, cmap='hot')\n",
      "ax.set_ylabel('Ensemble Index')\n",
      "ax.set_xlabel('Bin Number')\n",
      "ax.set_title('Bin counts for prob. dist, no resampling')\n",
      "fig.colorbar(im)"
     ],
     "language": "python",
     "metadata": {},
     "outputs": [
      {
       "metadata": {},
       "output_type": "pyout",
       "prompt_number": 35,
       "text": [
        "<matplotlib.colorbar.Colorbar at 0x7fcb6397e588>"
       ]
      }
     ],
     "prompt_number": 35
    },
    {
     "cell_type": "markdown",
     "metadata": {},
     "source": [
      "In terms of $\\xi = \\frac{n - n^\\star}{(A \\Omega)^{1/2}}$:"
     ]
    },
    {
     "cell_type": "code",
     "collapsed": false,
     "input": [
      "bin_xis = (bin_xs - prmA / (prmB + prmC)) / np.sqrt(prmA)\n",
      "pdist_scale = np.sqrt(prmA)"
     ],
     "language": "python",
     "metadata": {},
     "outputs": [],
     "prompt_number": 19
    },
    {
     "cell_type": "code",
     "collapsed": false,
     "input": [
      "fig = figure()\n",
      "ax = fig.gca()\n",
      "bar_width = bin_xis[1] - bin_xis[0]\n",
      "ax.bar(bin_xis, pd_mean_res * pdist_scale, yerr=pd_sem_res * pdist_scale, width=bar_width, color='blue', alpha=0.6, ecolor='blue')\n",
      "ax.bar(bin_xis, pd_mean_nores * pdist_scale, yerr=pd_sem_res * pdist_scale, width=bar_width, color='red', alpha=0.6, ecolor='red')\n",
      "ax.set_ylim(bottom=0.0)\n",
      "ax2 = ax,twinx()\n",
      "ax2 = ax2[1]\n",
      "ax2.plot(xi_grid, an_dist, color='black')\n",
      "ax.legend(('With Resampling', 'No Resampling'))\n",
      "#ax2.legend(('Analytical Distribution'))\n",
      "ax.set_xlabel('Number $n$')\n",
      "ax.set_ylabel('Probability $P(n)$')\n",
      "ax2.set_ylabel('Analytical probability $P(n)$')\n",
      "ax.set_title(r'Delayed-degradation system, $\\Omega A = {:g}$, $B=3$, $C=1$, $\\tau=20$'.format(prmA))"
     ],
     "language": "python",
     "metadata": {},
     "outputs": [
      {
       "metadata": {},
       "output_type": "pyout",
       "prompt_number": 20,
       "text": [
        "<matplotlib.text.Text at 0x7fa9c2376048>"
       ]
      }
     ],
     "prompt_number": 20
    },
    {
     "cell_type": "code",
     "collapsed": false,
     "input": [
      "np.sum(pd_mean_res)"
     ],
     "language": "python",
     "metadata": {},
     "outputs": [
      {
       "metadata": {},
       "output_type": "pyout",
       "prompt_number": 38,
       "text": [
        "0.99999999999999989"
       ]
      }
     ],
     "prompt_number": 38
    },
    {
     "cell_type": "code",
     "collapsed": false,
     "input": [],
     "language": "python",
     "metadata": {},
     "outputs": []
    }
   ],
   "metadata": {}
  }
 ]
}