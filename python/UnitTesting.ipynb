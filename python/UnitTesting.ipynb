{
 "metadata": {
  "name": "",
  "signature": "sha256:b67b8dd47663275830730ca8a366150a57c853c7dd9810ef70305d4266acc5c1"
 },
 "nbformat": 3,
 "nbformat_minor": 0,
 "worksheets": [
  {
   "cells": [
    {
     "cell_type": "heading",
     "level": 1,
     "metadata": {},
     "source": [
      "Initialization"
     ]
    },
    {
     "cell_type": "code",
     "collapsed": false,
     "input": [
      "import numpy as np\n",
      "import matplotlib\n",
      "from matplotlib import pyplot as plt\n",
      "import ensemble as we\n",
      "import ssad\n",
      "import util\n",
      "from imp import reload"
     ],
     "language": "python",
     "metadata": {},
     "outputs": [],
     "prompt_number": 1
    },
    {
     "cell_type": "code",
     "collapsed": false,
     "input": [
      "reload(we)\n",
      "reload(ssad)\n",
      "reload(util)"
     ],
     "language": "python",
     "metadata": {},
     "outputs": [
      {
       "metadata": {},
       "output_type": "pyout",
       "prompt_number": 2,
       "text": [
        "<module 'util' from '/home/max/Documents/Research/wessa-s2014/python/util.py'>"
       ]
      }
     ],
     "prompt_number": 2
    },
    {
     "cell_type": "heading",
     "level": 1,
     "metadata": {},
     "source": [
      "Uniform Paving"
     ]
    },
    {
     "cell_type": "code",
     "collapsed": false,
     "input": [
      "paving = we.UniformPaving([-10, -3], [15, 9], [5, 4])"
     ],
     "language": "python",
     "metadata": {},
     "outputs": [],
     "prompt_number": 2
    },
    {
     "cell_type": "code",
     "collapsed": false,
     "input": [
      "paving.get_bin_num([1, 1]) # 9"
     ],
     "language": "python",
     "metadata": {},
     "outputs": [
      {
       "metadata": {},
       "output_type": "pyout",
       "prompt_number": 13,
       "text": [
        "9"
       ]
      }
     ],
     "prompt_number": 13
    },
    {
     "cell_type": "code",
     "collapsed": false,
     "input": [
      "paving.get_bin_num([1, 4]) # 10"
     ],
     "language": "python",
     "metadata": {},
     "outputs": [
      {
       "metadata": {},
       "output_type": "pyout",
       "prompt_number": 14,
       "text": [
        "10"
       ]
      }
     ],
     "prompt_number": 14
    },
    {
     "cell_type": "code",
     "collapsed": false,
     "input": [
      "paving.get_bin_num([1, 3]) # 10"
     ],
     "language": "python",
     "metadata": {},
     "outputs": [
      {
       "metadata": {},
       "output_type": "pyout",
       "prompt_number": 15,
       "text": [
        "10"
       ]
      }
     ],
     "prompt_number": 15
    },
    {
     "cell_type": "code",
     "collapsed": false,
     "input": [
      "paving.get_bin_num([0, 0]) # 9"
     ],
     "language": "python",
     "metadata": {},
     "outputs": [
      {
       "metadata": {},
       "output_type": "pyout",
       "prompt_number": 16,
       "text": [
        "9"
       ]
      }
     ],
     "prompt_number": 16
    },
    {
     "cell_type": "code",
     "collapsed": false,
     "input": [
      "paving.get_bin_num([4, -4]) # 8"
     ],
     "language": "python",
     "metadata": {},
     "outputs": [
      {
       "metadata": {},
       "output_type": "pyout",
       "prompt_number": 17,
       "text": [
        "8"
       ]
      }
     ],
     "prompt_number": 17
    },
    {
     "cell_type": "code",
     "collapsed": false,
     "input": [
      "paving.get_bin_num([4, -4000]) # 8"
     ],
     "language": "python",
     "metadata": {},
     "outputs": [
      {
       "metadata": {},
       "output_type": "pyout",
       "prompt_number": 18,
       "text": [
        "8"
       ]
      }
     ],
     "prompt_number": 18
    },
    {
     "cell_type": "code",
     "collapsed": false,
     "input": [
      "paving.get_bin_num([5, -4]) # 12"
     ],
     "language": "python",
     "metadata": {},
     "outputs": [
      {
       "metadata": {},
       "output_type": "pyout",
       "prompt_number": 19,
       "text": [
        "12"
       ]
      }
     ],
     "prompt_number": 19
    },
    {
     "cell_type": "code",
     "collapsed": false,
     "input": [
      "paving.get_bin_num([-10, -4]) # 0"
     ],
     "language": "python",
     "metadata": {},
     "outputs": [
      {
       "metadata": {},
       "output_type": "pyout",
       "prompt_number": 20,
       "text": [
        "0"
       ]
      }
     ],
     "prompt_number": 20
    },
    {
     "cell_type": "code",
     "collapsed": false,
     "input": [
      "paving.get_bin_num([-10000, -4]) # 0"
     ],
     "language": "python",
     "metadata": {},
     "outputs": [
      {
       "metadata": {},
       "output_type": "pyout",
       "prompt_number": 21,
       "text": [
        "0"
       ]
      }
     ],
     "prompt_number": 21
    },
    {
     "cell_type": "code",
     "collapsed": false,
     "input": [
      "paving.get_bin_num([15, 9]) # 19"
     ],
     "language": "python",
     "metadata": {},
     "outputs": [
      {
       "metadata": {},
       "output_type": "pyout",
       "prompt_number": 22,
       "text": [
        "19"
       ]
      }
     ],
     "prompt_number": 22
    },
    {
     "cell_type": "code",
     "collapsed": false,
     "input": [
      "paving.get_bin_num([15, 6]) # 19"
     ],
     "language": "python",
     "metadata": {},
     "outputs": [
      {
       "metadata": {},
       "output_type": "pyout",
       "prompt_number": 23,
       "text": [
        "19"
       ]
      }
     ],
     "prompt_number": 23
    },
    {
     "cell_type": "code",
     "collapsed": false,
     "input": [
      "paving.get_bin_num([14, 6]) # 19"
     ],
     "language": "python",
     "metadata": {},
     "outputs": [
      {
       "metadata": {},
       "output_type": "pyout",
       "prompt_number": 24,
       "text": [
        "19"
       ]
      }
     ],
     "prompt_number": 24
    },
    {
     "cell_type": "code",
     "collapsed": false,
     "input": [
      "paving.get_bin_num([0, 9]) # 11"
     ],
     "language": "python",
     "metadata": {},
     "outputs": [
      {
       "metadata": {},
       "output_type": "pyout",
       "prompt_number": 25,
       "text": [
        "11"
       ]
      }
     ],
     "prompt_number": 25
    },
    {
     "cell_type": "code",
     "collapsed": false,
     "input": [
      "coord_set = np.array([[1, 1],\n",
      "                      [1, 4],\n",
      "                      [1, 3],\n",
      "                      [0, 0],\n",
      "                      [4, -4],\n",
      "                      [4, -4000],\n",
      "                      [5, -4],\n",
      "                      [-10, -4],\n",
      "                      [-10000, -4],\n",
      "                      [15, 9],\n",
      "                      [15, 6],\n",
      "                      [14, 6],\n",
      "                      [0, 9]])"
     ],
     "language": "python",
     "metadata": {},
     "outputs": [],
     "prompt_number": 3
    },
    {
     "cell_type": "code",
     "collapsed": false,
     "input": [
      "paving.get_bin_num(coord_set)"
     ],
     "language": "python",
     "metadata": {},
     "outputs": [
      {
       "metadata": {},
       "output_type": "pyout",
       "prompt_number": 4,
       "text": [
        "array([ 9, 10, 10,  9,  8,  8, 12,  0,  0, 19, 19, 19, 11])"
       ]
      }
     ],
     "prompt_number": 4
    },
    {
     "cell_type": "heading",
     "level": 3,
     "metadata": {},
     "source": [
      "Some Edge Cases"
     ]
    },
    {
     "cell_type": "code",
     "collapsed": false,
     "input": [
      "paving = we.UniformPaving([0], [60], (60))"
     ],
     "language": "python",
     "metadata": {},
     "outputs": [],
     "prompt_number": 45
    },
    {
     "cell_type": "code",
     "collapsed": false,
     "input": [
      "paving.get_bin_num(33)"
     ],
     "language": "python",
     "metadata": {},
     "outputs": [
      {
       "metadata": {},
       "output_type": "pyout",
       "prompt_number": 46,
       "text": [
        "33"
       ]
      }
     ],
     "prompt_number": 46
    },
    {
     "cell_type": "code",
     "collapsed": false,
     "input": [
      "# This is a nice, quick, visual way to find any irregularities in the binning\n",
      "xs = np.array(range(61))\n",
      "xs = xs[:,np.newaxis]\n",
      "plt.plot(xs, paving.get_bin_num(xs))\n",
      "plt.show()"
     ],
     "language": "python",
     "metadata": {},
     "outputs": [],
     "prompt_number": 47
    },
    {
     "cell_type": "code",
     "collapsed": false,
     "input": [
      "nbins = 30\n",
      "binrange = (0, 60)\n",
      "bin_xs, bin_width = np.linspace(*binrange, num=nbins, endpoint=False, retstep=True)\n",
      "paving = we.UniformPaving(*binrange, bin_counts=nbins)\n",
      "xs = np.array(range(61))\n",
      "plt.plot(xs, paving.get_bin_num(xs[:,np.newaxis]))\n",
      "plt.show()"
     ],
     "language": "python",
     "metadata": {},
     "outputs": [],
     "prompt_number": 13
    },
    {
     "cell_type": "heading",
     "level": 1,
     "metadata": {},
     "source": [
      "Self-Implemented Binomial Coefficient"
     ]
    },
    {
     "cell_type": "code",
     "collapsed": false,
     "input": [
      "ssad._combinations(5, 6)"
     ],
     "language": "python",
     "metadata": {},
     "outputs": [
      {
       "metadata": {},
       "output_type": "pyout",
       "prompt_number": 28,
       "text": [
        "0"
       ]
      }
     ],
     "prompt_number": 28
    },
    {
     "cell_type": "code",
     "collapsed": false,
     "input": [
      "ssad._combinations(5, 5)"
     ],
     "language": "python",
     "metadata": {},
     "outputs": [
      {
       "metadata": {},
       "output_type": "pyout",
       "prompt_number": 29,
       "text": [
        "1"
       ]
      }
     ],
     "prompt_number": 29
    },
    {
     "cell_type": "code",
     "collapsed": false,
     "input": [
      "ssad._combinations(1000, 1000)"
     ],
     "language": "python",
     "metadata": {},
     "outputs": [
      {
       "metadata": {},
       "output_type": "pyout",
       "prompt_number": 30,
       "text": [
        "1"
       ]
      }
     ],
     "prompt_number": 30
    },
    {
     "cell_type": "code",
     "collapsed": false,
     "input": [
      "ssad._combinations(1000, 6)"
     ],
     "language": "python",
     "metadata": {},
     "outputs": [
      {
       "metadata": {},
       "output_type": "pyout",
       "prompt_number": 31,
       "text": [
        "1368173298991500"
       ]
      }
     ],
     "prompt_number": 31
    },
    {
     "cell_type": "code",
     "collapsed": false,
     "input": [
      "ssad._combinations(1000, 994)"
     ],
     "language": "python",
     "metadata": {},
     "outputs": [
      {
       "metadata": {},
       "output_type": "pyout",
       "prompt_number": 32,
       "text": [
        "1368173298991500"
       ]
      }
     ],
     "prompt_number": 32
    },
    {
     "cell_type": "code",
     "collapsed": false,
     "input": [
      "ssad._combinations(30, 0)"
     ],
     "language": "python",
     "metadata": {},
     "outputs": [
      {
       "metadata": {},
       "output_type": "pyout",
       "prompt_number": 33,
       "text": [
        "1"
       ]
      }
     ],
     "prompt_number": 33
    },
    {
     "cell_type": "code",
     "collapsed": false,
     "input": [
      "ssad._combinations(30, -2)"
     ],
     "language": "python",
     "metadata": {},
     "outputs": [
      {
       "metadata": {},
       "output_type": "pyout",
       "prompt_number": 37,
       "text": [
        "0"
       ]
      }
     ],
     "prompt_number": 37
    },
    {
     "cell_type": "code",
     "collapsed": false,
     "input": [
      "ssad._combinations(0, 0)"
     ],
     "language": "python",
     "metadata": {},
     "outputs": [
      {
       "metadata": {},
       "output_type": "pyout",
       "prompt_number": 38,
       "text": [
        "1"
       ]
      }
     ],
     "prompt_number": 38
    },
    {
     "cell_type": "heading",
     "level": 1,
     "metadata": {},
     "source": [
      "Trajectory Cloning (with weights)"
     ]
    },
    {
     "cell_type": "code",
     "collapsed": false,
     "input": [
      "species = ['X']\n",
      "rxns = [ssad.Reaction([1], [-1], 1),  # Production\n",
      "        ssad.Reaction([0], [+1], 25)] # Degradation\n",
      "trj1 = we.WeightedTrajectory([0], rxns, 1.0)"
     ],
     "language": "python",
     "metadata": {},
     "outputs": [],
     "prompt_number": 15
    },
    {
     "cell_type": "code",
     "collapsed": false,
     "input": [
      "trj1.run_dynamics(20)\n",
      "states = np.asarray(trj1.hist_states)\n",
      "times = np.asarray(trj1.hist_times)"
     ],
     "language": "python",
     "metadata": {},
     "outputs": [],
     "prompt_number": 16
    },
    {
     "cell_type": "code",
     "collapsed": false,
     "input": [
      "plt.plot(times, states[:,0])\n",
      "plt.show()"
     ],
     "language": "python",
     "metadata": {},
     "outputs": [],
     "prompt_number": 17
    },
    {
     "cell_type": "code",
     "collapsed": false,
     "input": [
      "trj_clones = trj1.clone(3)"
     ],
     "language": "python",
     "metadata": {},
     "outputs": [],
     "prompt_number": 18
    },
    {
     "cell_type": "code",
     "collapsed": false,
     "input": [
      "trj_clones"
     ],
     "language": "python",
     "metadata": {},
     "outputs": [
      {
       "metadata": {},
       "output_type": "pyout",
       "prompt_number": 19,
       "text": [
        "[<ensemble.WeightedTrajectory at 0x7fa074c90b38>,\n",
        " <ensemble.WeightedTrajectory at 0x7fa061defc88>,\n",
        " <ensemble.WeightedTrajectory at 0x7fa061e17668>]"
       ]
      }
     ],
     "prompt_number": 19
    },
    {
     "cell_type": "code",
     "collapsed": false,
     "input": [
      "print([clone.weight for clone in trj_clones])"
     ],
     "language": "python",
     "metadata": {},
     "outputs": [
      {
       "output_type": "stream",
       "stream": "stdout",
       "text": [
        "[0.25, 0.25, 0.25]\n"
       ]
      }
     ],
     "prompt_number": 20
    },
    {
     "cell_type": "code",
     "collapsed": false,
     "input": [
      "trj1.weight"
     ],
     "language": "python",
     "metadata": {},
     "outputs": [
      {
       "metadata": {},
       "output_type": "pyout",
       "prompt_number": 21,
       "text": [
        "0.25"
       ]
      }
     ],
     "prompt_number": 21
    },
    {
     "cell_type": "code",
     "collapsed": false,
     "input": [
      "type(trj_clones[0])"
     ],
     "language": "python",
     "metadata": {},
     "outputs": [
      {
       "metadata": {},
       "output_type": "pyout",
       "prompt_number": 22,
       "text": [
        "ensemble.WeightedTrajectory"
       ]
      }
     ],
     "prompt_number": 22
    },
    {
     "cell_type": "code",
     "collapsed": false,
     "input": [
      "states1 = np.asarray(trj_clones[1].hist_states)\n",
      "times1 = np.asarray(trj_clones[1].hist_times)\n",
      "plt.plot(times1, states1[:,0])\n",
      "plt.show()"
     ],
     "language": "python",
     "metadata": {},
     "outputs": [],
     "prompt_number": 24
    },
    {
     "cell_type": "markdown",
     "metadata": {},
     "source": [
      "Make sure the trajectories aren't aliased to each other."
     ]
    },
    {
     "cell_type": "code",
     "collapsed": false,
     "input": [
      "trj1.run_dynamics(20)"
     ],
     "language": "python",
     "metadata": {},
     "outputs": [],
     "prompt_number": 25
    },
    {
     "cell_type": "code",
     "collapsed": false,
     "input": [
      "states0 = np.asarray(trj1.hist_states)\n",
      "times0 = np.asarray(trj1.hist_times)\n",
      "plt.plot(times0, states0[:,0])\n",
      "plt.show()"
     ],
     "language": "python",
     "metadata": {},
     "outputs": [],
     "prompt_number": 30
    },
    {
     "cell_type": "code",
     "collapsed": false,
     "input": [
      "states1 = np.asarray(trj_clones[2].hist_states)\n",
      "times1 = np.asarray(trj_clones[2].hist_times)\n",
      "plt.plot(times1, states1[:,0])\n",
      "plt.show()"
     ],
     "language": "python",
     "metadata": {},
     "outputs": [],
     "prompt_number": 29
    },
    {
     "cell_type": "heading",
     "level": 1,
     "metadata": {},
     "source": [
      "History Pruning"
     ]
    },
    {
     "cell_type": "markdown",
     "metadata": {},
     "source": [
      "Set up a system with delayed reactions."
     ]
    },
    {
     "cell_type": "code",
     "collapsed": false,
     "input": [
      "species = ['X']\n",
      "rxns = [ssad.Reaction([0], [+1], 100),\n",
      "        ssad.Reaction([1], [-1], 3),\n",
      "        ssad.Reaction([1], [-1], 5, delay=20.0)]\n",
      "trj = ssad.Trajectory([0], rxns)"
     ],
     "language": "python",
     "metadata": {},
     "outputs": [],
     "prompt_number": 141
    },
    {
     "cell_type": "code",
     "collapsed": false,
     "input": [
      "trj.run_dynamics(60)"
     ],
     "language": "python",
     "metadata": {},
     "outputs": [],
     "prompt_number": 142
    },
    {
     "cell_type": "code",
     "collapsed": false,
     "input": [
      "states = np.asarray(trj.hist_states)\n",
      "times = np.asarray(trj.hist_times)\n",
      "plt.plot(times, states[:,0])\n",
      "plt.show()"
     ],
     "language": "python",
     "metadata": {},
     "outputs": [],
     "prompt_number": 143
    },
    {
     "cell_type": "code",
     "collapsed": false,
     "input": [
      "trj.time"
     ],
     "language": "python",
     "metadata": {},
     "outputs": [
      {
       "metadata": {},
       "output_type": "pyout",
       "prompt_number": 144,
       "text": [
        "60.0"
       ]
      }
     ],
     "prompt_number": 144
    },
    {
     "cell_type": "code",
     "collapsed": false,
     "input": [
      "trj.prune_history()"
     ],
     "language": "python",
     "metadata": {},
     "outputs": [],
     "prompt_number": 145
    },
    {
     "cell_type": "code",
     "collapsed": false,
     "input": [
      "states = np.asarray(trj.hist_states)\n",
      "times = np.asarray(trj.hist_times)\n",
      "plt.plot(times, states[:,0])\n",
      "plt.show()"
     ],
     "language": "python",
     "metadata": {},
     "outputs": [],
     "prompt_number": 146
    },
    {
     "cell_type": "code",
     "collapsed": false,
     "input": [
      "trj.last_rxn_time"
     ],
     "language": "python",
     "metadata": {},
     "outputs": [
      {
       "metadata": {},
       "output_type": "pyout",
       "prompt_number": 147,
       "text": [
        "59.99968628625786"
       ]
      }
     ],
     "prompt_number": 147
    },
    {
     "cell_type": "code",
     "collapsed": false,
     "input": [
      "min(trj.hist_times)"
     ],
     "language": "python",
     "metadata": {},
     "outputs": [
      {
       "metadata": {},
       "output_type": "pyout",
       "prompt_number": 148,
       "text": [
        "39.99344721303941"
       ]
      }
     ],
     "prompt_number": 148
    },
    {
     "cell_type": "code",
     "collapsed": false,
     "input": [
      "trj.last_rxn_time - 20"
     ],
     "language": "python",
     "metadata": {},
     "outputs": [
      {
       "metadata": {},
       "output_type": "pyout",
       "prompt_number": 150,
       "text": [
        "39.99968628625786"
       ]
      }
     ],
     "prompt_number": 150
    },
    {
     "cell_type": "heading",
     "level": 1,
     "metadata": {},
     "source": [
      "Ensemble Bin Population Control"
     ]
    },
    {
     "cell_type": "heading",
     "level": 2,
     "metadata": {},
     "source": [
      "Growing"
     ]
    },
    {
     "cell_type": "code",
     "collapsed": false,
     "input": [
      "species = ['X']\n",
      "rxns = [ssad.Reaction([1], [-1], 1),  # Production\n",
      "        ssad.Reaction([0], [+1], 25)] # Degradation\n",
      "trj1 = we.WeightedTrajectory([0], rxns, 1.0)\n",
      "paving = we.UniformPaving([0], [50], 2)\n",
      "ens = we.Ensemble(10, paving, (3, 5), [trj1])"
     ],
     "language": "python",
     "metadata": {},
     "outputs": [],
     "prompt_number": 171
    },
    {
     "cell_type": "code",
     "collapsed": false,
     "input": [
      "print(ens.bins[0][0])"
     ],
     "language": "python",
     "metadata": {},
     "outputs": [
      {
       "output_type": "stream",
       "stream": "stdout",
       "text": [
        "Trajectory at time 0.0 . Current state: [0]. Weight 1.0.\n"
       ]
      }
     ],
     "prompt_number": 172
    },
    {
     "cell_type": "code",
     "collapsed": false,
     "input": [
      "ens.run_step()"
     ],
     "language": "python",
     "metadata": {},
     "outputs": [],
     "prompt_number": 173
    },
    {
     "cell_type": "code",
     "collapsed": false,
     "input": [
      "ens.bins"
     ],
     "language": "python",
     "metadata": {},
     "outputs": [
      {
       "metadata": {},
       "output_type": "pyout",
       "prompt_number": 174,
       "text": [
        "defaultdict(<function Ensemble._recompute_bins.<locals>.<lambda> at 0x7f98c3ad6440>, {0: [<ensemble.WeightedTrajectory object at 0x7f98c3a85a50>, <ensemble.WeightedTrajectory object at 0x7f98c3b46150>], 1: [<ensemble.WeightedTrajectory object at 0x7f98c3b2d890>]})"
       ]
      }
     ],
     "prompt_number": 174
    },
    {
     "cell_type": "code",
     "collapsed": false,
     "input": [
      "for traj in ens:\n",
      "    print(traj)"
     ],
     "language": "python",
     "metadata": {},
     "outputs": [
      {
       "output_type": "stream",
       "stream": "stdout",
       "text": [
        "Trajectory at time 10.0 . Current state: [21]. Next reaction scheduled for time 10.006347944735348. Weight 0.25.\n",
        "Trajectory at time 10.0 . Current state: [24]. Next reaction scheduled for time 10.019015875139718. Weight 0.25.\n",
        "Trajectory at time 10.0 . Current state: [32]. Next reaction scheduled for time 10.001066234502385. Weight 0.5.\n"
       ]
      }
     ],
     "prompt_number": 175
    },
    {
     "cell_type": "code",
     "collapsed": false,
     "input": [
      "ens._resample()"
     ],
     "language": "python",
     "metadata": {},
     "outputs": [],
     "prompt_number": 176
    },
    {
     "cell_type": "code",
     "collapsed": false,
     "input": [
      "for traj in ens:\n",
      "    print(traj)"
     ],
     "language": "python",
     "metadata": {},
     "outputs": [
      {
       "output_type": "stream",
       "stream": "stdout",
       "text": [
        "Trajectory at time 10.0 . Current state: [21]. Next reaction scheduled for time 10.006347944735348. Weight 0.125.\n",
        "Trajectory at time 10.0 . Current state: [24]. Next reaction scheduled for time 10.019015875139718. Weight 0.25.\n",
        "Trajectory at time 10.0 . Current state: [21]. Next reaction scheduled for time 10.006347944735348. Weight 0.125.\n",
        "Trajectory at time 10.0 . Current state: [32]. Next reaction scheduled for time 10.001066234502385. Weight 0.125.\n",
        "Trajectory at time 10.0 . Current state: [32]. Next reaction scheduled for time 10.001066234502385. Weight 0.25.\n",
        "Trajectory at time 10.0 . Current state: [32]. Next reaction scheduled for time 10.001066234502385. Weight 0.125.\n"
       ]
      }
     ],
     "prompt_number": 177
    },
    {
     "cell_type": "code",
     "collapsed": false,
     "input": [
      "sum(traj.weight for traj in ens)"
     ],
     "language": "python",
     "metadata": {},
     "outputs": [
      {
       "metadata": {},
       "output_type": "pyout",
       "prompt_number": 178,
       "text": [
        "1.0"
       ]
      }
     ],
     "prompt_number": 178
    },
    {
     "cell_type": "heading",
     "level": 2,
     "metadata": {},
     "source": [
      "Shrinking"
     ]
    },
    {
     "cell_type": "code",
     "collapsed": false,
     "input": [
      "species = ['X']\n",
      "rxns = [ssad.Reaction([1], [-1], 1),  # Production\n",
      "        ssad.Reaction([0], [+1], 25)] # Degradation\n",
      "init_trjs = []\n",
      "for idx in range(14):\n",
      "    init_trjs.append(we.WeightedTrajectory([0], rxns, 1/14))\n",
      "paving = we.UniformPaving([0], [50], 2)\n",
      "ens = we.Ensemble(10, paving, (3, 5), init_trjs)"
     ],
     "language": "python",
     "metadata": {},
     "outputs": [],
     "prompt_number": 179
    },
    {
     "cell_type": "code",
     "collapsed": false,
     "input": [
      "ens.bins[0]"
     ],
     "language": "python",
     "metadata": {},
     "outputs": [
      {
       "metadata": {},
       "output_type": "pyout",
       "prompt_number": 180,
       "text": [
        "[<ensemble.WeightedTrajectory at 0x7f98c39d3f50>,\n",
        " <ensemble.WeightedTrajectory at 0x7f98c39d3f90>,\n",
        " <ensemble.WeightedTrajectory at 0x7f98c39d3fd0>,\n",
        " <ensemble.WeightedTrajectory at 0x7f98c396a050>,\n",
        " <ensemble.WeightedTrajectory at 0x7f98c396a090>,\n",
        " <ensemble.WeightedTrajectory at 0x7f98c396a0d0>,\n",
        " <ensemble.WeightedTrajectory at 0x7f98c396a110>,\n",
        " <ensemble.WeightedTrajectory at 0x7f98c396a150>,\n",
        " <ensemble.WeightedTrajectory at 0x7f98c396a190>,\n",
        " <ensemble.WeightedTrajectory at 0x7f98c396a1d0>,\n",
        " <ensemble.WeightedTrajectory at 0x7f98c396a210>,\n",
        " <ensemble.WeightedTrajectory at 0x7f98c396a250>,\n",
        " <ensemble.WeightedTrajectory at 0x7f98c396a290>,\n",
        " <ensemble.WeightedTrajectory at 0x7f98c396a2d0>]"
       ]
      }
     ],
     "prompt_number": 180
    },
    {
     "cell_type": "code",
     "collapsed": false,
     "input": [
      "ens._run_dynamics_all()"
     ],
     "language": "python",
     "metadata": {},
     "outputs": [],
     "prompt_number": 181
    },
    {
     "cell_type": "code",
     "collapsed": false,
     "input": [
      "ens._recompute_bins()"
     ],
     "language": "python",
     "metadata": {},
     "outputs": [],
     "prompt_number": 182
    },
    {
     "cell_type": "code",
     "collapsed": false,
     "input": [
      "for bin_no, trjs in ens.bins.items():\n",
      "    for traj in trjs:\n",
      "        print(' '.join((\"Bin\", str(bin_no) + \".\", str(traj))))"
     ],
     "language": "python",
     "metadata": {},
     "outputs": [
      {
       "output_type": "stream",
       "stream": "stdout",
       "text": [
        "Bin 0. Trajectory at time 10.0 . Current state: [18]. Next reaction scheduled for time 10.0103690017322. Weight 0.07142857142857142.\n",
        "Bin 0. Trajectory at time 10.0 . Current state: [24]. Next reaction scheduled for time 10.050623596973466. Weight 0.07142857142857142.\n",
        "Bin 0. Trajectory at time 10.0 . Current state: [21]. Next reaction scheduled for time 10.017628845032627. Weight 0.07142857142857142.\n",
        "Bin 0. Trajectory at time 10.0 . Current state: [21]. Next reaction scheduled for time 10.006253704543637. Weight 0.07142857142857142.\n",
        "Bin 0. Trajectory at time 10.0 . Current state: [24]. Next reaction scheduled for time 10.000897320430624. Weight 0.07142857142857142.\n",
        "Bin 0. Trajectory at time 10.0 . Current state: [24]. Next reaction scheduled for time 10.0052217458396. Weight 0.07142857142857142.\n",
        "Bin 0. Trajectory at time 10.0 . Current state: [17]. Next reaction scheduled for time 10.072085704197564. Weight 0.07142857142857142.\n",
        "Bin 1. Trajectory at time 10.0 . Current state: [26]. Next reaction scheduled for time 10.003276832413649. Weight 0.07142857142857142.\n",
        "Bin 1. Trajectory at time 10.0 . Current state: [26]. Next reaction scheduled for time 10.01471000348363. Weight 0.07142857142857142.\n",
        "Bin 1. Trajectory at time 10.0 . Current state: [28]. Next reaction scheduled for time 10.027017278519278. Weight 0.07142857142857142.\n",
        "Bin 1. Trajectory at time 10.0 . Current state: [29]. Next reaction scheduled for time 10.002456325144493. Weight 0.07142857142857142.\n",
        "Bin 1. Trajectory at time 10.0 . Current state: [25]. Next reaction scheduled for time 10.05292670292451. Weight 0.07142857142857142.\n",
        "Bin 1. Trajectory at time 10.0 . Current state: [27]. Next reaction scheduled for time 10.004609185578333. Weight 0.07142857142857142.\n",
        "Bin 1. Trajectory at time 10.0 . Current state: [27]. Next reaction scheduled for time 10.020622096796496. Weight 0.07142857142857142.\n"
       ]
      }
     ],
     "prompt_number": 183
    },
    {
     "cell_type": "code",
     "collapsed": false,
     "input": [
      "ens._resample()"
     ],
     "language": "python",
     "metadata": {},
     "outputs": [],
     "prompt_number": 184
    },
    {
     "cell_type": "code",
     "collapsed": false,
     "input": [
      "for bin_no, trjs in ens.bins.items():\n",
      "    for traj in trjs:\n",
      "        print(' '.join((\"Bin\", str(bin_no) + \".\", str(traj))))"
     ],
     "language": "python",
     "metadata": {},
     "outputs": [
      {
       "output_type": "stream",
       "stream": "stdout",
       "text": [
        "Bin 0. Trajectory at time 10.0 . Current state: [24]. Next reaction scheduled for time 10.050623596973466. Weight 0.07142857142857142.\n",
        "Bin 0. Trajectory at time 10.0 . Current state: [21]. Next reaction scheduled for time 10.006253704543637. Weight 0.07142857142857142.\n",
        "Bin 0. Trajectory at time 10.0 . Current state: [21]. Next reaction scheduled for time 10.017628845032627. Weight 0.14285714285714285.\n",
        "Bin 0. Trajectory at time 10.0 . Current state: [24]. Next reaction scheduled for time 10.000897320430624. Weight 0.07142857142857142.\n",
        "Bin 0. Trajectory at time 10.0 . Current state: [17]. Next reaction scheduled for time 10.072085704197564. Weight 0.14285714285714285.\n",
        "Bin 1. Trajectory at time 10.0 . Current state: [26]. Next reaction scheduled for time 10.01471000348363. Weight 0.07142857142857142.\n",
        "Bin 1. Trajectory at time 10.0 . Current state: [29]. Next reaction scheduled for time 10.002456325144493. Weight 0.07142857142857142.\n",
        "Bin 1. Trajectory at time 10.0 . Current state: [28]. Next reaction scheduled for time 10.027017278519278. Weight 0.14285714285714285.\n",
        "Bin 1. Trajectory at time 10.0 . Current state: [25]. Next reaction scheduled for time 10.05292670292451. Weight 0.07142857142857142.\n",
        "Bin 1. Trajectory at time 10.0 . Current state: [27]. Next reaction scheduled for time 10.020622096796496. Weight 0.14285714285714285.\n"
       ]
      }
     ],
     "prompt_number": 185
    },
    {
     "cell_type": "code",
     "collapsed": false,
     "input": [
      "sum(trj.weight for trj in ens)"
     ],
     "language": "python",
     "metadata": {},
     "outputs": [
      {
       "metadata": {},
       "output_type": "pyout",
       "prompt_number": 186,
       "text": [
        "0.9999999999999998"
       ]
      }
     ],
     "prompt_number": 186
    },
    {
     "cell_type": "heading",
     "level": 2,
     "metadata": {},
     "source": [
      "Bin Population Counter"
     ]
    },
    {
     "cell_type": "code",
     "collapsed": false,
     "input": [
      "A = 100.0\n",
      "B = 3.0\n",
      "C = 1.0\n",
      "tau = 20.0\n",
      "rxns = [ssad.Reaction([0], [+1], A),\n",
      "        ssad.Reaction([1], [-1], B),\n",
      "        ssad.Reaction([1], [-1], C, delay=tau)]"
     ],
     "language": "python",
     "metadata": {},
     "outputs": [],
     "prompt_number": 60
    },
    {
     "cell_type": "code",
     "collapsed": false,
     "input": [
      "init_trjs = []\n",
      "ntrajs = 100\n",
      "nbins = 30\n",
      "binrange = (0, 60)\n",
      "bin_xs, bin_width = np.linspace(*binrange, num=nbins, endpoint=False, retstep=True)\n",
      "paving = we.UniformPaving(*binrange, bin_counts=nbins)\n",
      "for idx in range(ntrajs):\n",
      "    init_state = np.random.randint(*binrange)\n",
      "    init_time = np.random.random_sample() * rxns[2].delay\n",
      "    init_trjs.append(we.WeightedTrajectory([init_state], rxns, 1.0 / ntrajs, init_time=init_time))"
     ],
     "language": "python",
     "metadata": {},
     "outputs": [],
     "prompt_number": 61
    },
    {
     "cell_type": "code",
     "collapsed": false,
     "input": [
      "ens = we.Ensemble(0.1, paving, (10, 10), init_trjs)"
     ],
     "language": "python",
     "metadata": {},
     "outputs": [],
     "prompt_number": 62
    },
    {
     "cell_type": "code",
     "collapsed": false,
     "input": [
      "print(ens.get_bin_counts())\n",
      "ens.run_step()\n",
      "print(ens.get_bin_counts())\n",
      "ens._resample()\n",
      "print(ens.get_bin_counts())"
     ],
     "language": "python",
     "metadata": {},
     "outputs": [
      {
       "output_type": "stream",
       "stream": "stdout",
       "text": [
        "[ 5.  3.  4.  4.  2.  6.  1.  4.  4.  2.  1.  1.  7.  5.  3.  3.  3.  5.\n",
        "  3.  3.  2.  2.  3.  2.  3.  7.  6.  2.  2.  2.]\n",
        "[ 10.  10.  10.  10.  10.   8.  11.  10.  11.  10.  10.  10.  10.  10.  10.\n",
        "  10.  10.  10.  10.  10.  10.  10.  10.  10.  10.  10.  10.  10.  10.  10.]\n",
        "[ 10.  10.  10.  10.  10.  10.  10.  10.  10.  10.  10.  10.  10.  10.  10.\n",
        "  10.  10.  10.  10.  10.  10.  10.  10.  10.  10.  10.  10.  10.  10.  10.]"
       ]
      },
      {
       "output_type": "stream",
       "stream": "stdout",
       "text": [
        "\n"
       ]
      }
     ],
     "prompt_number": 63
    },
    {
     "cell_type": "code",
     "collapsed": false,
     "input": [
      "plt.bar(bin_xs, ens.get_pdist())\n",
      "plt.show()"
     ],
     "language": "python",
     "metadata": {},
     "outputs": [],
     "prompt_number": 64
    },
    {
     "cell_type": "code",
     "collapsed": false,
     "input": [
      "ens.time"
     ],
     "language": "python",
     "metadata": {},
     "outputs": [
      {
       "metadata": {},
       "output_type": "pyout",
       "prompt_number": 65,
       "text": [
        "0.1"
       ]
      }
     ],
     "prompt_number": 65
    },
    {
     "cell_type": "code",
     "collapsed": false,
     "input": [
      "ens.run_time(20.0)"
     ],
     "language": "python",
     "metadata": {},
     "outputs": [
      {
       "metadata": {},
       "output_type": "pyout",
       "prompt_number": 66,
       "text": [
        "20.100000000000016"
       ]
      }
     ],
     "prompt_number": 66
    },
    {
     "cell_type": "code",
     "collapsed": false,
     "input": [
      "plt.bar(bin_xs, ens.get_pdist())\n",
      "plt.show()"
     ],
     "language": "python",
     "metadata": {},
     "outputs": [],
     "prompt_number": 67
    },
    {
     "cell_type": "code",
     "collapsed": false,
     "input": [
      "ens.get_bin_counts()"
     ],
     "language": "python",
     "metadata": {},
     "outputs": [
      {
       "metadata": {},
       "output_type": "pyout",
       "prompt_number": 70,
       "text": [
        "array([  0.,  10.,  10.,  10.,  10.,  10.,  10.,  10.,  10.,  10.,  10.,\n",
        "        10.,  10.,  10.,  10.,  10.,  10.,  10.,  10.,  10.,  10.,  10.,\n",
        "        10.,  10.,  10.,  10.,  10.,  10.,  10.,  10.])"
       ]
      }
     ],
     "prompt_number": 70
    },
    {
     "cell_type": "code",
     "collapsed": false,
     "input": [
      "ens._resample()"
     ],
     "language": "python",
     "metadata": {},
     "outputs": [],
     "prompt_number": 69
    },
    {
     "cell_type": "heading",
     "level": 1,
     "metadata": {},
     "source": [
      "History Sampling"
     ]
    },
    {
     "cell_type": "code",
     "collapsed": false,
     "input": [
      "rxns = [ssad.Reaction([0], [+1], 100),\n",
      "        ssad.Reaction([1], [-1], 3),\n",
      "        ssad.Reaction([1], [-1], 5, delay=20.0)]\n",
      "trj = ssad.Trajectory([0], rxns)"
     ],
     "language": "python",
     "metadata": {},
     "outputs": [],
     "prompt_number": 3
    },
    {
     "cell_type": "code",
     "collapsed": false,
     "input": [
      "trj.run_dynamics(1)"
     ],
     "language": "python",
     "metadata": {},
     "outputs": [],
     "prompt_number": 4
    },
    {
     "cell_type": "code",
     "collapsed": false,
     "input": [
      "states = np.asarray(trj.hist_states)\n",
      "times = np.asarray(trj.hist_times)\n",
      "plt.step(times, states[:,0], where='post')\n",
      "plt.show()"
     ],
     "language": "python",
     "metadata": {},
     "outputs": [],
     "prompt_number": 12
    },
    {
     "cell_type": "code",
     "collapsed": false,
     "input": [
      "trj.hist_states[1]"
     ],
     "language": "python",
     "metadata": {},
     "outputs": [
      {
       "metadata": {},
       "output_type": "pyout",
       "prompt_number": 6,
       "text": [
        "array([1])"
       ]
      }
     ],
     "prompt_number": 6
    },
    {
     "cell_type": "code",
     "collapsed": false,
     "input": [
      "trj.hist_times[1]"
     ],
     "language": "python",
     "metadata": {},
     "outputs": [
      {
       "metadata": {},
       "output_type": "pyout",
       "prompt_number": 7,
       "text": [
        "0.002830865171941392"
       ]
      }
     ],
     "prompt_number": 7
    },
    {
     "cell_type": "code",
     "collapsed": false,
     "input": [
      "trj.hist_times[2]"
     ],
     "language": "python",
     "metadata": {},
     "outputs": [
      {
       "metadata": {},
       "output_type": "pyout",
       "prompt_number": 8,
       "text": [
        "0.004359918437150452"
       ]
      }
     ],
     "prompt_number": 8
    },
    {
     "cell_type": "code",
     "collapsed": false,
     "input": [
      "print(trj.get_hist_index(0.001))\n",
      "print(trj.sample_state(0.001))"
     ],
     "language": "python",
     "metadata": {},
     "outputs": [
      {
       "output_type": "stream",
       "stream": "stdout",
       "text": [
        "0\n",
        "[0]\n"
       ]
      }
     ],
     "prompt_number": 10
    },
    {
     "cell_type": "code",
     "collapsed": false,
     "input": [
      "print(trj.get_hist_index(0.003))\n",
      "print(trj.sample_state(0.003))"
     ],
     "language": "python",
     "metadata": {},
     "outputs": [
      {
       "output_type": "stream",
       "stream": "stdout",
       "text": [
        "1\n",
        "[1]\n"
       ]
      }
     ],
     "prompt_number": 13
    },
    {
     "cell_type": "code",
     "collapsed": false,
     "input": [
      "print(trj.get_hist_index(0.0044))\n",
      "print(trj.sample_state(0.0044))"
     ],
     "language": "python",
     "metadata": {},
     "outputs": [
      {
       "output_type": "stream",
       "stream": "stdout",
       "text": [
        "2\n",
        "[2]\n"
       ]
      }
     ],
     "prompt_number": 14
    },
    {
     "cell_type": "heading",
     "level": 1,
     "metadata": {},
     "source": [
      "Joint Probability Integral"
     ]
    },
    {
     "cell_type": "markdown",
     "metadata": {},
     "source": [
      "Construct an artificial trajectory with a history whose joint distribution is known"
     ]
    },
    {
     "cell_type": "code",
     "collapsed": false,
     "input": [
      "paving = we.UniformPaving([0], [7], 7)\n",
      "rxns = [ssad.Reaction([], [+1], 1.0)]\n",
      "trj = ssad.Trajectory([1], rxns)\n",
      "trj._execute_rxn(rxns[0], 4)\n",
      "trj._execute_rxn(rxns[0], 6)\n",
      "trj._execute_rxn(rxns[0], 8)\n",
      "trj._execute_rxn(rxns[0], 10)\n",
      "trj._execute_rxn(rxns[0], 12)\n",
      "trj.time = 13.0"
     ],
     "language": "python",
     "metadata": {},
     "outputs": [],
     "prompt_number": 3
    },
    {
     "cell_type": "code",
     "collapsed": false,
     "input": [
      "plt.step(trj.hist_times, trj.hist_states, where='post')\n",
      "plt.show()"
     ],
     "language": "python",
     "metadata": {},
     "outputs": [],
     "prompt_number": 4
    },
    {
     "cell_type": "code",
     "collapsed": false,
     "input": [
      "j_pdist = util.delay_joint_pdist(trj, 5.0, paving, paving)\n",
      "print(j_pdist)"
     ],
     "language": "python",
     "metadata": {},
     "outputs": [
      {
       "output_type": "stream",
       "stream": "stdout",
       "text": [
        "[[ 0.  0.  0.  0.  0.  0.  0.]\n",
        " [ 0.  0.  0.  0.  0.  0.  0.]\n",
        " [ 0.  1.  0.  0.  0.  0.  0.]\n",
        " [ 0.  2.  0.  0.  0.  0.  0.]\n",
        " [ 0.  1.  1.  0.  0.  0.  0.]\n",
        " [ 0.  0.  1.  1.  0.  0.  0.]\n",
        " [ 0.  0.  0.  1.  0.  0.  0.]]\n"
       ]
      }
     ],
     "prompt_number": 5
    },
    {
     "cell_type": "code",
     "collapsed": false,
     "input": [
      "j_pdist[6, 3]"
     ],
     "language": "python",
     "metadata": {},
     "outputs": [
      {
       "metadata": {},
       "output_type": "pyout",
       "prompt_number": 6,
       "text": [
        "1.0"
       ]
      }
     ],
     "prompt_number": 6
    },
    {
     "cell_type": "code",
     "collapsed": false,
     "input": [
      "np.sum(j_pdist)"
     ],
     "language": "python",
     "metadata": {},
     "outputs": [
      {
       "metadata": {},
       "output_type": "pyout",
       "prompt_number": 7,
       "text": [
        "8.0"
       ]
      }
     ],
     "prompt_number": 7
    },
    {
     "cell_type": "markdown",
     "metadata": {},
     "source": [
      "Restarting capability:"
     ]
    },
    {
     "cell_type": "code",
     "collapsed": false,
     "input": [
      "species = ['X']\n",
      "tau = 20.0\n",
      "rxns = [ssad.Reaction([0], [+1], 100),\n",
      "        ssad.Reaction([1], [-1], 3),\n",
      "        ssad.Reaction([1], [-1], 5, delay=tau)]\n",
      "trj = ssad.Trajectory([0], rxns)"
     ],
     "language": "python",
     "metadata": {},
     "outputs": [],
     "prompt_number": 88
    },
    {
     "cell_type": "code",
     "collapsed": false,
     "input": [
      "trj.run_dynamics(60)"
     ],
     "language": "python",
     "metadata": {},
     "outputs": [],
     "prompt_number": 89
    },
    {
     "cell_type": "code",
     "collapsed": false,
     "input": [
      "paving = we.UniformPaving([0], [60], 60)\n",
      "joint_pdist = util.delay_joint_pdist(trj, tau, paving, paving)"
     ],
     "language": "python",
     "metadata": {},
     "outputs": [],
     "prompt_number": 90
    },
    {
     "cell_type": "code",
     "collapsed": false,
     "input": [
      "np.sum(joint_pdist)"
     ],
     "language": "python",
     "metadata": {},
     "outputs": [
      {
       "metadata": {},
       "output_type": "pyout",
       "prompt_number": 91,
       "text": [
        "40.000000000000078"
       ]
      }
     ],
     "prompt_number": 91
    },
    {
     "cell_type": "code",
     "collapsed": false,
     "input": [
      "last_upd_time = trj.time"
     ],
     "language": "python",
     "metadata": {},
     "outputs": [],
     "prompt_number": 92
    },
    {
     "cell_type": "code",
     "collapsed": false,
     "input": [
      "trj.run_dynamics(40)"
     ],
     "language": "python",
     "metadata": {},
     "outputs": [],
     "prompt_number": 93
    },
    {
     "cell_type": "code",
     "collapsed": false,
     "input": [
      "joint_pdist_all = util.delay_joint_pdist(trj, tau, paving, paving)\n",
      "joint_pdist_new = util.delay_joint_pdist(trj, tau, paving, paving, from_time=last_upd_time, existing=joint_pdist)\n",
      "np.any(joint_pdist_all - joint_pdist_new > 1.0E-10)"
     ],
     "language": "python",
     "metadata": {},
     "outputs": [
      {
       "metadata": {},
       "output_type": "pyout",
       "prompt_number": 94,
       "text": [
        "False"
       ]
      }
     ],
     "prompt_number": 94
    },
    {
     "cell_type": "code",
     "collapsed": false,
     "input": [
      "np.sum(joint_pdist)"
     ],
     "language": "python",
     "metadata": {},
     "outputs": [
      {
       "metadata": {},
       "output_type": "pyout",
       "prompt_number": 97,
       "text": [
        "80.000000000000142"
       ]
      }
     ],
     "prompt_number": 97
    },
    {
     "cell_type": "code",
     "collapsed": false,
     "input": [
      "last_upd_time = trj.time\n",
      "trj.prune_history()\n",
      "trj.run_dynamics(40)\n",
      "joint_pdist_final = util.delay_joint_pdist(trj, tau, paving, paving, from_time=last_upd_time, existing=joint_pdist)"
     ],
     "language": "python",
     "metadata": {},
     "outputs": [],
     "prompt_number": 98
    },
    {
     "cell_type": "code",
     "collapsed": false,
     "input": [
      "np.sum(joint_pdist)"
     ],
     "language": "python",
     "metadata": {},
     "outputs": [
      {
       "metadata": {},
       "output_type": "pyout",
       "prompt_number": 99,
       "text": [
        "120.00000000000011"
       ]
      }
     ],
     "prompt_number": 99
    },
    {
     "cell_type": "code",
     "collapsed": false,
     "input": [
      "plt.pcolormesh(joint_pdist, cmap='hot')\n",
      "plt.show()"
     ],
     "language": "python",
     "metadata": {},
     "outputs": [],
     "prompt_number": 100
    },
    {
     "cell_type": "markdown",
     "metadata": {},
     "source": [
      "Everything works as expected."
     ]
    },
    {
     "cell_type": "heading",
     "level": 1,
     "metadata": {},
     "source": [
      "Joint Probability Tally"
     ]
    },
    {
     "cell_type": "markdown",
     "metadata": {},
     "source": [
      "Note: Replaced by time integral, see above"
     ]
    },
    {
     "cell_type": "code",
     "collapsed": false,
     "input": [
      "import bisect"
     ],
     "language": "python",
     "metadata": {},
     "outputs": [],
     "prompt_number": 31
    },
    {
     "cell_type": "code",
     "collapsed": false,
     "input": [
      "species = ['X']\n",
      "tau = 20.0\n",
      "rxns = [ssad.Reaction([0], [+1], 100),\n",
      "        ssad.Reaction([1], [-1], 3),\n",
      "        ssad.Reaction([1], [-1], 5, delay=tau)]\n",
      "trj = ssad.Trajectory([0], rxns)"
     ],
     "language": "python",
     "metadata": {},
     "outputs": [],
     "prompt_number": 32
    },
    {
     "cell_type": "code",
     "collapsed": false,
     "input": [
      "trj.run_dynamics(60)"
     ],
     "language": "python",
     "metadata": {},
     "outputs": [],
     "prompt_number": 33
    },
    {
     "cell_type": "code",
     "collapsed": false,
     "input": [
      "states = np.asarray(trj.hist_states)\n",
      "times = np.asarray(trj.hist_times)\n",
      "plt.plot(times, states[:,0])\n",
      "plt.show()"
     ],
     "language": "python",
     "metadata": {},
     "outputs": [],
     "prompt_number": 34
    },
    {
     "cell_type": "code",
     "collapsed": false,
     "input": [
      "start_idx = bisect.bisect_right(trj.hist_times, tau)"
     ],
     "language": "python",
     "metadata": {},
     "outputs": [],
     "prompt_number": 35
    },
    {
     "cell_type": "code",
     "collapsed": false,
     "input": [
      "start_idx"
     ],
     "language": "python",
     "metadata": {},
     "outputs": [
      {
       "metadata": {},
       "output_type": "pyout",
       "prompt_number": 36,
       "text": [
        "4030"
       ]
      }
     ],
     "prompt_number": 36
    },
    {
     "cell_type": "code",
     "collapsed": false,
     "input": [
      "len(trj.hist_times)"
     ],
     "language": "python",
     "metadata": {},
     "outputs": [
      {
       "metadata": {},
       "output_type": "pyout",
       "prompt_number": 37,
       "text": [
        "13418"
       ]
      }
     ],
     "prompt_number": 37
    },
    {
     "cell_type": "code",
     "collapsed": false,
     "input": [
      "paving = we.UniformPaving([0], [60], 60)\n",
      "joint_pdist = util.delay_joint_pdist(trj, tau, paving, paving)"
     ],
     "language": "python",
     "metadata": {},
     "outputs": [],
     "prompt_number": 38
    },
    {
     "cell_type": "code",
     "collapsed": false,
     "input": [
      "plt.matshow(joint_pdist)\n",
      "plt.show()"
     ],
     "language": "python",
     "metadata": {},
     "outputs": [],
     "prompt_number": 40
    },
    {
     "cell_type": "markdown",
     "metadata": {},
     "source": [
      "Excellent, the basics seem to work! Now on to checkpoint-style sampling."
     ]
    },
    {
     "cell_type": "code",
     "collapsed": false,
     "input": [
      "trj = ssad.Trajectory([0], rxns)"
     ],
     "language": "python",
     "metadata": {},
     "outputs": [],
     "prompt_number": 64
    },
    {
     "cell_type": "code",
     "collapsed": false,
     "input": [
      "trj.run_dynamics(100)"
     ],
     "language": "python",
     "metadata": {},
     "outputs": [],
     "prompt_number": 65
    },
    {
     "cell_type": "code",
     "collapsed": false,
     "input": [
      "len(trj.hist_times)"
     ],
     "language": "python",
     "metadata": {},
     "outputs": [
      {
       "metadata": {},
       "output_type": "pyout",
       "prompt_number": 66,
       "text": [
        "22486"
       ]
      }
     ],
     "prompt_number": 66
    },
    {
     "cell_type": "code",
     "collapsed": false,
     "input": [
      "start_idx = bisect.bisect_right(trj.hist_times, tau)"
     ],
     "language": "python",
     "metadata": {},
     "outputs": [],
     "prompt_number": 67
    },
    {
     "cell_type": "code",
     "collapsed": false,
     "input": [
      "pdist = util.delay_joint_pdist(trj, tau, paving, paving)"
     ],
     "language": "python",
     "metadata": {},
     "outputs": [],
     "prompt_number": 68
    },
    {
     "cell_type": "code",
     "collapsed": false,
     "input": [
      "last_upd_time = trj.time"
     ],
     "language": "python",
     "metadata": {},
     "outputs": [],
     "prompt_number": 81
    },
    {
     "cell_type": "code",
     "collapsed": false,
     "input": [
      "trj.prune_history()"
     ],
     "language": "python",
     "metadata": {},
     "outputs": [],
     "prompt_number": 55
    },
    {
     "cell_type": "code",
     "collapsed": false,
     "input": [
      "trj.run_dynamics(100)"
     ],
     "language": "python",
     "metadata": {},
     "outputs": [],
     "prompt_number": 82
    },
    {
     "cell_type": "code",
     "collapsed": false,
     "input": [
      "util.delay_joint_pdist(trj, tau, paving, paving, existing=pdist, from_time=last_upd_time)"
     ],
     "language": "python",
     "metadata": {},
     "outputs": [
      {
       "metadata": {},
       "output_type": "pyout",
       "prompt_number": 83,
       "text": [
        "array([[ 0.,  0.,  0., ...,  0.,  0.,  0.],\n",
        "       [ 0.,  0.,  0., ...,  0.,  0.,  0.],\n",
        "       [ 0.,  0.,  0., ...,  0.,  0.,  0.],\n",
        "       ..., \n",
        "       [ 0.,  0.,  0., ...,  0.,  0.,  0.],\n",
        "       [ 0.,  0.,  0., ...,  0.,  0.,  0.],\n",
        "       [ 0.,  0.,  0., ...,  0.,  0.,  0.]])"
       ]
      }
     ],
     "prompt_number": 83
    },
    {
     "cell_type": "code",
     "collapsed": false,
     "input": [
      "np.sum(pdist)"
     ],
     "language": "python",
     "metadata": {},
     "outputs": [
      {
       "metadata": {},
       "output_type": "pyout",
       "prompt_number": 84,
       "text": [
        "85383.0"
       ]
      }
     ],
     "prompt_number": 84
    },
    {
     "cell_type": "code",
     "collapsed": false,
     "input": [
      "len(trj.hist_times[start_idx:])"
     ],
     "language": "python",
     "metadata": {},
     "outputs": [
      {
       "metadata": {},
       "output_type": "pyout",
       "prompt_number": 85,
       "text": [
        "85383"
       ]
      }
     ],
     "prompt_number": 85
    },
    {
     "cell_type": "code",
     "collapsed": false,
     "input": [
      "plt.pcolormesh(pdist, cmap='hot')\n",
      "plt.show()"
     ],
     "language": "python",
     "metadata": {},
     "outputs": [],
     "prompt_number": 87
    },
    {
     "cell_type": "markdown",
     "metadata": {},
     "source": [
      "Good, works just as expected."
     ]
    },
    {
     "cell_type": "code",
     "collapsed": false,
     "input": [],
     "language": "python",
     "metadata": {},
     "outputs": []
    }
   ],
   "metadata": {}
  }
 ]
}