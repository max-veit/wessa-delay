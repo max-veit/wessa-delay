{
 "metadata": {
  "name": ""
 },
 "nbformat": 3,
 "nbformat_minor": 0,
 "worksheets": [
  {
   "cells": [
    {
     "cell_type": "heading",
     "level": 1,
     "metadata": {},
     "source": [
      "Initialization"
     ]
    },
    {
     "cell_type": "code",
     "collapsed": false,
     "input": [
      "import numpy as np\n",
      "import matplotlib\n",
      "from matplotlib import pyplot as plt\n",
      "import ensemble as we\n",
      "import ssad\n",
      "from imp import reload"
     ],
     "language": "python",
     "metadata": {},
     "outputs": [],
     "prompt_number": 65
    },
    {
     "cell_type": "code",
     "collapsed": false,
     "input": [
      "reload(we)\n",
      "reload(ssad)"
     ],
     "language": "python",
     "metadata": {},
     "outputs": [
      {
       "metadata": {},
       "output_type": "pyout",
       "prompt_number": 146,
       "text": [
        "<module 'ssad' from './ssad.py'>"
       ]
      }
     ],
     "prompt_number": 146
    },
    {
     "cell_type": "heading",
     "level": 1,
     "metadata": {},
     "source": [
      "Uniform Paving"
     ]
    },
    {
     "cell_type": "code",
     "collapsed": false,
     "input": [
      "paving = we.UniformPaving([-10, -3], [15, 9], [5, 4])"
     ],
     "language": "python",
     "metadata": {},
     "outputs": [],
     "prompt_number": 2
    },
    {
     "cell_type": "code",
     "collapsed": false,
     "input": [
      "paving.get_bin_num([1, 1]) # 9"
     ],
     "language": "python",
     "metadata": {},
     "outputs": [
      {
       "metadata": {},
       "output_type": "pyout",
       "prompt_number": 13,
       "text": [
        "9"
       ]
      }
     ],
     "prompt_number": 13
    },
    {
     "cell_type": "code",
     "collapsed": false,
     "input": [
      "paving.get_bin_num([1, 4]) # 10"
     ],
     "language": "python",
     "metadata": {},
     "outputs": [
      {
       "metadata": {},
       "output_type": "pyout",
       "prompt_number": 14,
       "text": [
        "10"
       ]
      }
     ],
     "prompt_number": 14
    },
    {
     "cell_type": "code",
     "collapsed": false,
     "input": [
      "paving.get_bin_num([1, 3]) # 10"
     ],
     "language": "python",
     "metadata": {},
     "outputs": [
      {
       "metadata": {},
       "output_type": "pyout",
       "prompt_number": 15,
       "text": [
        "10"
       ]
      }
     ],
     "prompt_number": 15
    },
    {
     "cell_type": "code",
     "collapsed": false,
     "input": [
      "paving.get_bin_num([0, 0]) # 9"
     ],
     "language": "python",
     "metadata": {},
     "outputs": [
      {
       "metadata": {},
       "output_type": "pyout",
       "prompt_number": 16,
       "text": [
        "9"
       ]
      }
     ],
     "prompt_number": 16
    },
    {
     "cell_type": "code",
     "collapsed": false,
     "input": [
      "paving.get_bin_num([4, -4]) # 8"
     ],
     "language": "python",
     "metadata": {},
     "outputs": [
      {
       "metadata": {},
       "output_type": "pyout",
       "prompt_number": 17,
       "text": [
        "8"
       ]
      }
     ],
     "prompt_number": 17
    },
    {
     "cell_type": "code",
     "collapsed": false,
     "input": [
      "paving.get_bin_num([4, -4000]) # 8"
     ],
     "language": "python",
     "metadata": {},
     "outputs": [
      {
       "metadata": {},
       "output_type": "pyout",
       "prompt_number": 18,
       "text": [
        "8"
       ]
      }
     ],
     "prompt_number": 18
    },
    {
     "cell_type": "code",
     "collapsed": false,
     "input": [
      "paving.get_bin_num([5, -4]) # 12"
     ],
     "language": "python",
     "metadata": {},
     "outputs": [
      {
       "metadata": {},
       "output_type": "pyout",
       "prompt_number": 19,
       "text": [
        "12"
       ]
      }
     ],
     "prompt_number": 19
    },
    {
     "cell_type": "code",
     "collapsed": false,
     "input": [
      "paving.get_bin_num([-10, -4]) # 0"
     ],
     "language": "python",
     "metadata": {},
     "outputs": [
      {
       "metadata": {},
       "output_type": "pyout",
       "prompt_number": 20,
       "text": [
        "0"
       ]
      }
     ],
     "prompt_number": 20
    },
    {
     "cell_type": "code",
     "collapsed": false,
     "input": [
      "paving.get_bin_num([-10000, -4]) # 0"
     ],
     "language": "python",
     "metadata": {},
     "outputs": [
      {
       "metadata": {},
       "output_type": "pyout",
       "prompt_number": 21,
       "text": [
        "0"
       ]
      }
     ],
     "prompt_number": 21
    },
    {
     "cell_type": "code",
     "collapsed": false,
     "input": [
      "paving.get_bin_num([15, 9]) # 19"
     ],
     "language": "python",
     "metadata": {},
     "outputs": [
      {
       "metadata": {},
       "output_type": "pyout",
       "prompt_number": 22,
       "text": [
        "19"
       ]
      }
     ],
     "prompt_number": 22
    },
    {
     "cell_type": "code",
     "collapsed": false,
     "input": [
      "paving.get_bin_num([15, 6]) # 19"
     ],
     "language": "python",
     "metadata": {},
     "outputs": [
      {
       "metadata": {},
       "output_type": "pyout",
       "prompt_number": 23,
       "text": [
        "19"
       ]
      }
     ],
     "prompt_number": 23
    },
    {
     "cell_type": "code",
     "collapsed": false,
     "input": [
      "paving.get_bin_num([14, 6]) # 19"
     ],
     "language": "python",
     "metadata": {},
     "outputs": [
      {
       "metadata": {},
       "output_type": "pyout",
       "prompt_number": 24,
       "text": [
        "19"
       ]
      }
     ],
     "prompt_number": 24
    },
    {
     "cell_type": "code",
     "collapsed": false,
     "input": [
      "paving.get_bin_num([0, 9]) # 11"
     ],
     "language": "python",
     "metadata": {},
     "outputs": [
      {
       "metadata": {},
       "output_type": "pyout",
       "prompt_number": 25,
       "text": [
        "11"
       ]
      }
     ],
     "prompt_number": 25
    },
    {
     "cell_type": "code",
     "collapsed": false,
     "input": [
      "coord_set = np.array([[1, 1],\n",
      "                      [1, 4],\n",
      "                      [1, 3],\n",
      "                      [0, 0],\n",
      "                      [4, -4],\n",
      "                      [4, -4000],\n",
      "                      [5, -4],\n",
      "                      [-10, -4],\n",
      "                      [-10000, -4],\n",
      "                      [15, 9],\n",
      "                      [15, 6],\n",
      "                      [14, 6],\n",
      "                      [0, 9]])"
     ],
     "language": "python",
     "metadata": {},
     "outputs": [],
     "prompt_number": 3
    },
    {
     "cell_type": "code",
     "collapsed": false,
     "input": [
      "paving.get_bin_num(coord_set)"
     ],
     "language": "python",
     "metadata": {},
     "outputs": [
      {
       "metadata": {},
       "output_type": "pyout",
       "prompt_number": 4,
       "text": [
        "array([ 9, 10, 10,  9,  8,  8, 12,  0,  0, 19, 19, 19, 11])"
       ]
      }
     ],
     "prompt_number": 4
    },
    {
     "cell_type": "heading",
     "level": 1,
     "metadata": {},
     "source": [
      "Self-Implemented Binomial Coefficient"
     ]
    },
    {
     "cell_type": "code",
     "collapsed": false,
     "input": [
      "ssad._combinations(5, 6)"
     ],
     "language": "python",
     "metadata": {},
     "outputs": [
      {
       "metadata": {},
       "output_type": "pyout",
       "prompt_number": 28,
       "text": [
        "0"
       ]
      }
     ],
     "prompt_number": 28
    },
    {
     "cell_type": "code",
     "collapsed": false,
     "input": [
      "ssad._combinations(5, 5)"
     ],
     "language": "python",
     "metadata": {},
     "outputs": [
      {
       "metadata": {},
       "output_type": "pyout",
       "prompt_number": 29,
       "text": [
        "1"
       ]
      }
     ],
     "prompt_number": 29
    },
    {
     "cell_type": "code",
     "collapsed": false,
     "input": [
      "ssad._combinations(1000, 1000)"
     ],
     "language": "python",
     "metadata": {},
     "outputs": [
      {
       "metadata": {},
       "output_type": "pyout",
       "prompt_number": 30,
       "text": [
        "1"
       ]
      }
     ],
     "prompt_number": 30
    },
    {
     "cell_type": "code",
     "collapsed": false,
     "input": [
      "ssad._combinations(1000, 6)"
     ],
     "language": "python",
     "metadata": {},
     "outputs": [
      {
       "metadata": {},
       "output_type": "pyout",
       "prompt_number": 31,
       "text": [
        "1368173298991500"
       ]
      }
     ],
     "prompt_number": 31
    },
    {
     "cell_type": "code",
     "collapsed": false,
     "input": [
      "ssad._combinations(1000, 994)"
     ],
     "language": "python",
     "metadata": {},
     "outputs": [
      {
       "metadata": {},
       "output_type": "pyout",
       "prompt_number": 32,
       "text": [
        "1368173298991500"
       ]
      }
     ],
     "prompt_number": 32
    },
    {
     "cell_type": "code",
     "collapsed": false,
     "input": [
      "ssad._combinations(30, 0)"
     ],
     "language": "python",
     "metadata": {},
     "outputs": [
      {
       "metadata": {},
       "output_type": "pyout",
       "prompt_number": 33,
       "text": [
        "1"
       ]
      }
     ],
     "prompt_number": 33
    },
    {
     "cell_type": "code",
     "collapsed": false,
     "input": [
      "ssad._combinations(30, -2)"
     ],
     "language": "python",
     "metadata": {},
     "outputs": [
      {
       "metadata": {},
       "output_type": "pyout",
       "prompt_number": 37,
       "text": [
        "0"
       ]
      }
     ],
     "prompt_number": 37
    },
    {
     "cell_type": "code",
     "collapsed": false,
     "input": [
      "ssad._combinations(0, 0)"
     ],
     "language": "python",
     "metadata": {},
     "outputs": [
      {
       "metadata": {},
       "output_type": "pyout",
       "prompt_number": 38,
       "text": [
        "1"
       ]
      }
     ],
     "prompt_number": 38
    },
    {
     "cell_type": "heading",
     "level": 1,
     "metadata": {},
     "source": [
      "Trajectory Cloning (with weights)"
     ]
    },
    {
     "cell_type": "code",
     "collapsed": false,
     "input": [
      "species = ['X']\n",
      "rxns = [ssad.Reaction([1], [-1], 1),  # Production\n",
      "        ssad.Reaction([0], [+1], 25)] # Degradation\n",
      "trj1 = we.WeightedTrajectory([0], rxns, 1.0)"
     ],
     "language": "python",
     "metadata": {},
     "outputs": [],
     "prompt_number": 3
    },
    {
     "cell_type": "code",
     "collapsed": false,
     "input": [
      "trj1.run_dynamics(20)\n",
      "states = np.asarray(trj1.hist_states)\n",
      "times = np.asarray(trj1.hist_times)"
     ],
     "language": "python",
     "metadata": {},
     "outputs": [],
     "prompt_number": 4
    },
    {
     "cell_type": "code",
     "collapsed": false,
     "input": [
      "plt.plot(times, states[:,0])\n",
      "plt.show()"
     ],
     "language": "python",
     "metadata": {},
     "outputs": [],
     "prompt_number": 7
    },
    {
     "cell_type": "code",
     "collapsed": false,
     "input": [
      "trj_clones = trj1.clone(3)"
     ],
     "language": "python",
     "metadata": {},
     "outputs": [],
     "prompt_number": 8
    },
    {
     "cell_type": "code",
     "collapsed": false,
     "input": [
      "trj_clones"
     ],
     "language": "python",
     "metadata": {},
     "outputs": [
      {
       "metadata": {},
       "output_type": "pyout",
       "prompt_number": 9,
       "text": [
        "[<ensemble.WeightedTrajectory at 0x7fe850037910>,\n",
        " <ensemble.WeightedTrajectory at 0x7fe850037890>,\n",
        " <ensemble.WeightedTrajectory at 0x7fe8500377d0>]"
       ]
      }
     ],
     "prompt_number": 9
    },
    {
     "cell_type": "code",
     "collapsed": false,
     "input": [
      "print([clone.weight for clone in trj_clones])"
     ],
     "language": "python",
     "metadata": {},
     "outputs": [
      {
       "output_type": "stream",
       "stream": "stdout",
       "text": [
        "[0.3333333333333333, 0.3333333333333333, 0.3333333333333333]\n"
       ]
      }
     ],
     "prompt_number": 13
    },
    {
     "cell_type": "code",
     "collapsed": false,
     "input": [
      "type(trj_clones[0])"
     ],
     "language": "python",
     "metadata": {},
     "outputs": [
      {
       "metadata": {},
       "output_type": "pyout",
       "prompt_number": 16,
       "text": [
        "ensemble.WeightedTrajectory"
       ]
      }
     ],
     "prompt_number": 16
    },
    {
     "cell_type": "heading",
     "level": 1,
     "metadata": {},
     "source": [
      "Ensemble Bin Population Control"
     ]
    },
    {
     "cell_type": "heading",
     "level": 2,
     "metadata": {},
     "source": [
      "Growing"
     ]
    },
    {
     "cell_type": "code",
     "collapsed": false,
     "input": [
      "species = ['X']\n",
      "rxns = [ssad.Reaction([1], [-1], 1),  # Production\n",
      "        ssad.Reaction([0], [+1], 25)] # Degradation\n",
      "trj1 = we.WeightedTrajectory([0], rxns, 1.0)\n",
      "paving = we.UniformPaving([0], [50], 2)\n",
      "ens = we.Ensemble(10, paving, (3, 5), [trj1])"
     ],
     "language": "python",
     "metadata": {},
     "outputs": [],
     "prompt_number": 101
    },
    {
     "cell_type": "code",
     "collapsed": false,
     "input": [
      "print(ens.bins[0][0])"
     ],
     "language": "python",
     "metadata": {},
     "outputs": [
      {
       "output_type": "stream",
       "stream": "stdout",
       "text": [
        "Trajectory at time 0.0 . Current state: [0]. Weight 1.0.\n"
       ]
      }
     ],
     "prompt_number": 102
    },
    {
     "cell_type": "code",
     "collapsed": false,
     "input": [
      "ens.run_step()"
     ],
     "language": "python",
     "metadata": {},
     "outputs": [],
     "prompt_number": 104
    },
    {
     "cell_type": "code",
     "collapsed": false,
     "input": [
      "ens.bins"
     ],
     "language": "python",
     "metadata": {},
     "outputs": [
      {
       "metadata": {},
       "output_type": "pyout",
       "prompt_number": 105,
       "text": [
        "defaultdict(<function Ensemble._recompute_bins.<locals>.<lambda> at 0x7f98c3a9b560>, {0: [<ensemble.WeightedTrajectory object at 0x7f98c3a6ead0>, <ensemble.WeightedTrajectory object at 0x7f98c3b073d0>], 1: [<ensemble.WeightedTrajectory object at 0x7f98c3b07ed0>]})"
       ]
      }
     ],
     "prompt_number": 105
    },
    {
     "cell_type": "code",
     "collapsed": false,
     "input": [
      "for traj in ens:\n",
      "    print(traj)"
     ],
     "language": "python",
     "metadata": {},
     "outputs": [
      {
       "output_type": "stream",
       "stream": "stdout",
       "text": [
        "Trajectory at time 10.0 . Current state: [22]. Next reaction scheduled for time 10.017387622674997. Weight 0.25.\n",
        "Trajectory at time 10.0 . Current state: [19]. Next reaction scheduled for time 10.0111120846041. Weight 0.25.\n",
        "Trajectory at time 10.0 . Current state: [27]. Next reaction scheduled for time 10.006823685859901. Weight 0.5.\n"
       ]
      }
     ],
     "prompt_number": 106
    },
    {
     "cell_type": "code",
     "collapsed": false,
     "input": [
      "ens._resample()"
     ],
     "language": "python",
     "metadata": {},
     "outputs": [],
     "prompt_number": 107
    },
    {
     "cell_type": "code",
     "collapsed": false,
     "input": [
      "for traj in ens:\n",
      "    print(traj)"
     ],
     "language": "python",
     "metadata": {},
     "outputs": [
      {
       "output_type": "stream",
       "stream": "stdout",
       "text": [
        "Trajectory at time 10.0 . Current state: [22]. Next reaction scheduled for time 10.017387622674997. Weight 0.125.\n",
        "Trajectory at time 10.0 . Current state: [19]. Next reaction scheduled for time 10.0111120846041. Weight 0.25.\n",
        "Trajectory at time 10.0 . Current state: [22]. Next reaction scheduled for time 10.017387622674997. Weight 0.125.\n",
        "Trajectory at time 10.0 . Current state: [27]. Next reaction scheduled for time 10.006823685859901. Weight 0.125.\n",
        "Trajectory at time 10.0 . Current state: [27]. Next reaction scheduled for time 10.006823685859901. Weight 0.25.\n",
        "Trajectory at time 10.0 . Current state: [27]. Next reaction scheduled for time 10.006823685859901. Weight 0.125.\n"
       ]
      }
     ],
     "prompt_number": 108
    },
    {
     "cell_type": "heading",
     "level": 2,
     "metadata": {},
     "source": [
      "Shrinking"
     ]
    },
    {
     "cell_type": "code",
     "collapsed": false,
     "input": [
      "species = ['X']\n",
      "rxns = [ssad.Reaction([1], [-1], 1),  # Production\n",
      "        ssad.Reaction([0], [+1], 25)] # Degradation\n",
      "init_trjs = []\n",
      "for idx in range(14):\n",
      "    init_trjs.append(we.WeightedTrajectory([0], rxns, 1/14))\n",
      "paving = we.UniformPaving([0], [50], 2)\n",
      "ens = we.Ensemble(10, paving, (3, 5), init_trjs)"
     ],
     "language": "python",
     "metadata": {},
     "outputs": [],
     "prompt_number": 147
    },
    {
     "cell_type": "code",
     "collapsed": false,
     "input": [
      "ens.bins[0]"
     ],
     "language": "python",
     "metadata": {},
     "outputs": [
      {
       "metadata": {},
       "output_type": "pyout",
       "prompt_number": 148,
       "text": [
        "[<ensemble.WeightedTrajectory at 0x7f98c3acc590>,\n",
        " <ensemble.WeightedTrajectory at 0x7f98c3accb50>,\n",
        " <ensemble.WeightedTrajectory at 0x7f98c3acc450>,\n",
        " <ensemble.WeightedTrajectory at 0x7f98c3acc750>,\n",
        " <ensemble.WeightedTrajectory at 0x7f98c3acce90>,\n",
        " <ensemble.WeightedTrajectory at 0x7f98c3acc9d0>,\n",
        " <ensemble.WeightedTrajectory at 0x7f98c3acc2d0>,\n",
        " <ensemble.WeightedTrajectory at 0x7f98c3acc190>,\n",
        " <ensemble.WeightedTrajectory at 0x7f98c3a5fe90>,\n",
        " <ensemble.WeightedTrajectory at 0x7f98c3a85d90>,\n",
        " <ensemble.WeightedTrajectory at 0x7f98c3a858d0>,\n",
        " <ensemble.WeightedTrajectory at 0x7f98c3a856d0>,\n",
        " <ensemble.WeightedTrajectory at 0x7f98c3a85950>,\n",
        " <ensemble.WeightedTrajectory at 0x7f98c3a854d0>]"
       ]
      }
     ],
     "prompt_number": 148
    },
    {
     "cell_type": "code",
     "collapsed": false,
     "input": [
      "ens._run_dynamics_all()"
     ],
     "language": "python",
     "metadata": {},
     "outputs": [],
     "prompt_number": 149
    },
    {
     "cell_type": "code",
     "collapsed": false,
     "input": [
      "ens._recompute_bins()"
     ],
     "language": "python",
     "metadata": {},
     "outputs": [],
     "prompt_number": 150
    },
    {
     "cell_type": "code",
     "collapsed": false,
     "input": [
      "for bin_no, trjs in ens.bins.items():\n",
      "    for traj in trjs:\n",
      "        print(' '.join((\"Bin\", str(bin_no) + \".\", str(traj))))"
     ],
     "language": "python",
     "metadata": {},
     "outputs": [
      {
       "output_type": "stream",
       "stream": "stdout",
       "text": [
        "Bin 0. Trajectory at time 10.0 . Current state: [21]. Next reaction scheduled for time 10.039742576679089. Weight 0.07142857142857142.\n",
        "Bin 0. Trajectory at time 10.0 . Current state: [24]. Next reaction scheduled for time 10.010865108157478. Weight 0.07142857142857142.\n",
        "Bin 0. Trajectory at time 10.0 . Current state: [19]. Next reaction scheduled for time 10.012464080890206. Weight 0.07142857142857142.\n",
        "Bin 0. Trajectory at time 10.0 . Current state: [22]. Next reaction scheduled for time 10.057326601861604. Weight 0.07142857142857142.\n",
        "Bin 1. Trajectory at time 10.0 . Current state: [25]. Next reaction scheduled for time 10.002197115319301. Weight 0.07142857142857142.\n",
        "Bin 1. Trajectory at time 10.0 . Current state: [30]. Next reaction scheduled for time 10.002995425029463. Weight 0.07142857142857142.\n",
        "Bin 1. Trajectory at time 10.0 . Current state: [28]. Next reaction scheduled for time 10.105192893083855. Weight 0.07142857142857142.\n",
        "Bin 1. Trajectory at time 10.0 . Current state: [32]. Next reaction scheduled for time 10.012227181615799. Weight 0.07142857142857142.\n",
        "Bin 1. Trajectory at time 10.0 . Current state: [32]. Next reaction scheduled for time 10.008281971124573. Weight 0.07142857142857142.\n",
        "Bin 1. Trajectory at time 10.0 . Current state: [26]. Next reaction scheduled for time 10.005566775665963. Weight 0.07142857142857142.\n",
        "Bin 1. Trajectory at time 10.0 . Current state: [29]. Next reaction scheduled for time 10.001399154701549. Weight 0.07142857142857142.\n",
        "Bin 1. Trajectory at time 10.0 . Current state: [26]. Next reaction scheduled for time 10.001310271630977. Weight 0.07142857142857142.\n",
        "Bin 1. Trajectory at time 10.0 . Current state: [33]. Next reaction scheduled for time 10.016341239456445. Weight 0.07142857142857142.\n",
        "Bin 1. Trajectory at time 10.0 . Current state: [28]. Next reaction scheduled for time 10.018439089048181. Weight 0.07142857142857142.\n"
       ]
      }
     ],
     "prompt_number": 151
    },
    {
     "cell_type": "code",
     "collapsed": false,
     "input": [
      "ens._resample()"
     ],
     "language": "python",
     "metadata": {},
     "outputs": [],
     "prompt_number": 152
    },
    {
     "cell_type": "code",
     "collapsed": false,
     "input": [
      "for bin_no, trjs in ens.bins.items():\n",
      "    for traj in trjs:\n",
      "        print(' '.join((\"Bin\", str(bin_no) + \".\", str(traj))))"
     ],
     "language": "python",
     "metadata": {},
     "outputs": [
      {
       "output_type": "stream",
       "stream": "stdout",
       "text": [
        "Bin 0. Trajectory at time 10.0 . Current state: [21]. Next reaction scheduled for time 10.039742576679089. Weight 0.07142857142857142.\n",
        "Bin 0. Trajectory at time 10.0 . Current state: [24]. Next reaction scheduled for time 10.010865108157478. Weight 0.07142857142857142.\n",
        "Bin 0. Trajectory at time 10.0 . Current state: [19]. Next reaction scheduled for time 10.012464080890206. Weight 0.07142857142857142.\n",
        "Bin 0. Trajectory at time 10.0 . Current state: [22]. Next reaction scheduled for time 10.057326601861604. Weight 0.07142857142857142.\n",
        "Bin 1. Trajectory at time 10.0 . Current state: [28]. Next reaction scheduled for time 10.018439089048181. Weight 0.14285714285714285.\n",
        "Bin 1. Trajectory at time 10.0 . Current state: [26]. Next reaction scheduled for time 10.005566775665963. Weight 0.14285714285714285.\n",
        "Bin 1. Trajectory at time 10.0 . Current state: [30]. Next reaction scheduled for time 10.002995425029463. Weight 0.14285714285714285.\n",
        "Bin 1. Trajectory at time 10.0 . Current state: [28]. Next reaction scheduled for time 10.105192893083855. Weight 0.14285714285714285.\n",
        "Bin 1. Trajectory at time 10.0 . Current state: [32]. Next reaction scheduled for time 10.012227181615799. Weight 0.14285714285714285.\n"
       ]
      }
     ],
     "prompt_number": 153
    },
    {
     "cell_type": "code",
     "collapsed": false,
     "input": [
      "sum(trj.weight for trj in ens)"
     ],
     "language": "python",
     "metadata": {},
     "outputs": [
      {
       "metadata": {},
       "output_type": "pyout",
       "prompt_number": 154,
       "text": [
        "0.9999999999999998"
       ]
      }
     ],
     "prompt_number": 154
    },
    {
     "cell_type": "code",
     "collapsed": false,
     "input": [],
     "language": "python",
     "metadata": {},
     "outputs": []
    }
   ],
   "metadata": {}
  }
 ]
}